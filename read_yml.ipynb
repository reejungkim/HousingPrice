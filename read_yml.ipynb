{
 "cells": [
  {
   "cell_type": "code",
   "execution_count": 1,
   "metadata": {},
   "outputs": [
    {
     "name": "stdout",
     "output_type": "stream",
     "text": [
      "{'$schema': 'https://azuremlschemas.azureedge.net/latest/commandJob.schema.json', 'code': {'local_path': '/Users/reejungkim/Documents/Git'}, 'command': 'python Hosing price/functions.py --data ${{inputs.trainingData1}}', 'environment': {'image': 'docker.io/python'}, 'compute': 'azureml:goazurego', 'inputs': {'trainingData1': {'mode': 'mount', 'dataset': {'local_path': '<path-to-your-local-training-data>'}}, 'trainingData2': {'mode': 'mount', 'dataset': {'path': '<url-to-blob-container-with-data>'}}}}\n"
     ]
    }
   ],
   "source": [
    "import yaml\n",
    "\n",
    "with open('/Users/reejungkim/Documents/Git/Hosing price/azure.yml') as file:\n",
    "    test = yaml.load(file, Loader=yaml.FullLoader)\n",
    "    print(test)\n"
   ]
  },
  {
   "cell_type": "code",
   "execution_count": null,
   "metadata": {},
   "outputs": [],
   "source": []
  }
 ],
 "metadata": {
  "interpreter": {
   "hash": "40d3a090f54c6569ab1632332b64b2c03c39dcf918b08424e98f38b5ae0af88f"
  },
  "kernelspec": {
   "display_name": "Python 3.8.8 ('base')",
   "language": "python",
   "name": "python3"
  },
  "language_info": {
   "codemirror_mode": {
    "name": "ipython",
    "version": 3
   },
   "file_extension": ".py",
   "mimetype": "text/x-python",
   "name": "python",
   "nbconvert_exporter": "python",
   "pygments_lexer": "ipython3",
   "version": "3.8.8"
  },
  "orig_nbformat": 4
 },
 "nbformat": 4,
 "nbformat_minor": 2
}
