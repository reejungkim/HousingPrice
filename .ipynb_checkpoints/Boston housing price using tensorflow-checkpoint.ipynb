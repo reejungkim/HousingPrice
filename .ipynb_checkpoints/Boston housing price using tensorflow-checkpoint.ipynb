{
 "cells": [
  {
   "cell_type": "code",
   "execution_count": 1,
   "metadata": {},
   "outputs": [],
   "source": [
    "import pandas as pd\n",
    "import numpy as np\n",
    "import timeit\n",
    "import datetime as dt\n",
    "import matplotlib.pyplot as plt\n",
    "import seaborn as sns\n",
    "#import plotly.graph_objs as go\n",
    "%matplotlib inline"
   ]
  },
  {
   "cell_type": "markdown",
   "metadata": {},
   "source": [
    "import tensorflow as tf"
   ]
  },
  {
   "cell_type": "code",
   "execution_count": 2,
   "metadata": {},
   "outputs": [
    {
     "name": "stderr",
     "output_type": "stream",
     "text": [
      "Using TensorFlow backend.\n"
     ]
    }
   ],
   "source": [
    "import warnings\n",
    "warnings.simplefilter(action='ignore')\n",
    "from keras.datasets import boston_housing"
   ]
  },
  {
   "cell_type": "markdown",
   "metadata": {},
   "source": [
    "train = pd.read_csv(\"https://raw.githubusercontent.com/reejungkim/HousingPrice/master/train.csv\", error_bad_lines=False)\n",
    "train.head()\n",
    "\n",
    "test = pd.read_csv(\"https://raw.githubusercontent.com/reejungkim/HousingPrice/master/test.csv\", error_bad_lines=False)\n",
    "test.head()"
   ]
  },
  {
   "cell_type": "code",
   "execution_count": 3,
   "metadata": {},
   "outputs": [
    {
     "data": {
      "text/plain": [
       "((404, 13), (404,), (102, 13), (102,))"
      ]
     },
     "execution_count": 3,
     "metadata": {},
     "output_type": "execute_result"
    }
   ],
   "source": [
    "pd.DataFrame(boston_housing.load_data())\n",
    "\n",
    "(x_train, y_train), (x_test, y_test) = boston_housing.load_data()\n",
    "\n",
    "x_train.shape, y_train.shape, x_test.shape, y_test.shape"
   ]
  },
  {
   "cell_type": "markdown",
   "metadata": {
    "scrolled": true
   },
   "source": [
    "pd.DataFrame(x_train)"
   ]
  },
  {
   "cell_type": "markdown",
   "metadata": {
    "scrolled": true
   },
   "source": [
    "pd.DataFrame(y_train)"
   ]
  },
  {
   "cell_type": "code",
   "execution_count": 4,
   "metadata": {},
   "outputs": [],
   "source": [
    "pd.set_option('display.max_columns', 100)"
   ]
  },
  {
   "cell_type": "code",
   "execution_count": 5,
   "metadata": {},
   "outputs": [],
   "source": [
    "col_name = ['CRIM', 'ZN', 'INDUS', 'CHAS', 'NOX', 'RM', 'AGE', 'DIS', 'RAD', 'TAX', 'PTRATIO', 'B', 'LSTAT', 'MEDV']"
   ]
  },
  {
   "cell_type": "code",
   "execution_count": 6,
   "metadata": {},
   "outputs": [],
   "source": [
    "train_data = np.concatenate([x_train, y_train[:, np.newaxis]], axis=1)\n",
    "#train_data = pd.concat( [pd.DataFrame(x_train), pd.DataFrame(y_train)], axis=1, ignore_index=True).values\n",
    "test_data = np.concatenate([x_test, y_test[:, np.newaxis]], axis=1)"
   ]
  },
  {
   "cell_type": "code",
   "execution_count": 7,
   "metadata": {},
   "outputs": [],
   "source": [
    "df_train = pd.DataFrame(train_data, columns=col_name)\n",
    "df_test = pd.DataFrame(test_data, columns=col_name)"
   ]
  },
  {
   "cell_type": "code",
   "execution_count": 8,
   "metadata": {},
   "outputs": [
    {
     "data": {
      "text/html": [
       "<div>\n",
       "<style scoped>\n",
       "    .dataframe tbody tr th:only-of-type {\n",
       "        vertical-align: middle;\n",
       "    }\n",
       "\n",
       "    .dataframe tbody tr th {\n",
       "        vertical-align: top;\n",
       "    }\n",
       "\n",
       "    .dataframe thead th {\n",
       "        text-align: right;\n",
       "    }\n",
       "</style>\n",
       "<table border=\"1\" class=\"dataframe\">\n",
       "  <thead>\n",
       "    <tr style=\"text-align: right;\">\n",
       "      <th></th>\n",
       "      <th>CRIM</th>\n",
       "      <th>ZN</th>\n",
       "      <th>INDUS</th>\n",
       "      <th>CHAS</th>\n",
       "      <th>NOX</th>\n",
       "      <th>RM</th>\n",
       "      <th>AGE</th>\n",
       "      <th>DIS</th>\n",
       "      <th>RAD</th>\n",
       "      <th>TAX</th>\n",
       "      <th>PTRATIO</th>\n",
       "      <th>B</th>\n",
       "      <th>LSTAT</th>\n",
       "      <th>MEDV</th>\n",
       "    </tr>\n",
       "  </thead>\n",
       "  <tbody>\n",
       "    <tr>\n",
       "      <th>0</th>\n",
       "      <td>1.23247</td>\n",
       "      <td>0.0</td>\n",
       "      <td>8.14</td>\n",
       "      <td>0.0</td>\n",
       "      <td>0.538</td>\n",
       "      <td>6.142</td>\n",
       "      <td>91.7</td>\n",
       "      <td>3.9769</td>\n",
       "      <td>4.0</td>\n",
       "      <td>307.0</td>\n",
       "      <td>21.0</td>\n",
       "      <td>396.90</td>\n",
       "      <td>18.72</td>\n",
       "      <td>15.2</td>\n",
       "    </tr>\n",
       "    <tr>\n",
       "      <th>1</th>\n",
       "      <td>0.02177</td>\n",
       "      <td>82.5</td>\n",
       "      <td>2.03</td>\n",
       "      <td>0.0</td>\n",
       "      <td>0.415</td>\n",
       "      <td>7.610</td>\n",
       "      <td>15.7</td>\n",
       "      <td>6.2700</td>\n",
       "      <td>2.0</td>\n",
       "      <td>348.0</td>\n",
       "      <td>14.7</td>\n",
       "      <td>395.38</td>\n",
       "      <td>3.11</td>\n",
       "      <td>42.3</td>\n",
       "    </tr>\n",
       "    <tr>\n",
       "      <th>2</th>\n",
       "      <td>4.89822</td>\n",
       "      <td>0.0</td>\n",
       "      <td>18.10</td>\n",
       "      <td>0.0</td>\n",
       "      <td>0.631</td>\n",
       "      <td>4.970</td>\n",
       "      <td>100.0</td>\n",
       "      <td>1.3325</td>\n",
       "      <td>24.0</td>\n",
       "      <td>666.0</td>\n",
       "      <td>20.2</td>\n",
       "      <td>375.52</td>\n",
       "      <td>3.26</td>\n",
       "      <td>50.0</td>\n",
       "    </tr>\n",
       "    <tr>\n",
       "      <th>3</th>\n",
       "      <td>0.03961</td>\n",
       "      <td>0.0</td>\n",
       "      <td>5.19</td>\n",
       "      <td>0.0</td>\n",
       "      <td>0.515</td>\n",
       "      <td>6.037</td>\n",
       "      <td>34.5</td>\n",
       "      <td>5.9853</td>\n",
       "      <td>5.0</td>\n",
       "      <td>224.0</td>\n",
       "      <td>20.2</td>\n",
       "      <td>396.90</td>\n",
       "      <td>8.01</td>\n",
       "      <td>21.1</td>\n",
       "    </tr>\n",
       "    <tr>\n",
       "      <th>4</th>\n",
       "      <td>3.69311</td>\n",
       "      <td>0.0</td>\n",
       "      <td>18.10</td>\n",
       "      <td>0.0</td>\n",
       "      <td>0.713</td>\n",
       "      <td>6.376</td>\n",
       "      <td>88.4</td>\n",
       "      <td>2.5671</td>\n",
       "      <td>24.0</td>\n",
       "      <td>666.0</td>\n",
       "      <td>20.2</td>\n",
       "      <td>391.43</td>\n",
       "      <td>14.65</td>\n",
       "      <td>17.7</td>\n",
       "    </tr>\n",
       "  </tbody>\n",
       "</table>\n",
       "</div>"
      ],
      "text/plain": [
       "      CRIM    ZN  INDUS  CHAS    NOX     RM    AGE     DIS   RAD    TAX  \\\n",
       "0  1.23247   0.0   8.14   0.0  0.538  6.142   91.7  3.9769   4.0  307.0   \n",
       "1  0.02177  82.5   2.03   0.0  0.415  7.610   15.7  6.2700   2.0  348.0   \n",
       "2  4.89822   0.0  18.10   0.0  0.631  4.970  100.0  1.3325  24.0  666.0   \n",
       "3  0.03961   0.0   5.19   0.0  0.515  6.037   34.5  5.9853   5.0  224.0   \n",
       "4  3.69311   0.0  18.10   0.0  0.713  6.376   88.4  2.5671  24.0  666.0   \n",
       "\n",
       "   PTRATIO       B  LSTAT  MEDV  \n",
       "0     21.0  396.90  18.72  15.2  \n",
       "1     14.7  395.38   3.11  42.3  \n",
       "2     20.2  375.52   3.26  50.0  \n",
       "3     20.2  396.90   8.01  21.1  \n",
       "4     20.2  391.43  14.65  17.7  "
      ]
     },
     "execution_count": 8,
     "metadata": {},
     "output_type": "execute_result"
    }
   ],
   "source": [
    "df_train.head()"
   ]
  },
  {
   "cell_type": "code",
   "execution_count": 9,
   "metadata": {},
   "outputs": [],
   "source": [
    "percentages = ['CRIM', 'ZN', 'INDUS', 'AGE', 'PTRATIO', 'LSTAT']"
   ]
  },
  {
   "cell_type": "code",
   "execution_count": 10,
   "metadata": {},
   "outputs": [],
   "source": [
    "#normalizing data\n",
    "for col in percentages:\n",
    "    df_train[col] /=100\n",
    "    df_test[col] /=100\n",
    "    \n",
    "df_train['B'] /=1000\n",
    "df_train['TAX']/=10000\n",
    "df_test['B'] /=1000\n",
    "df_test['TAX']/=10000"
   ]
  },
  {
   "cell_type": "code",
   "execution_count": 11,
   "metadata": {},
   "outputs": [],
   "source": [
    "x_train, y_train = df_train.values[:, :13], df_train.values[:, 13]\n",
    "x_test, y_test = df_test.values[:, :13], df_test.values[:, 13]"
   ]
  },
  {
   "cell_type": "code",
   "execution_count": 12,
   "metadata": {},
   "outputs": [
    {
     "data": {
      "text/html": [
       "<div>\n",
       "<style scoped>\n",
       "    .dataframe tbody tr th:only-of-type {\n",
       "        vertical-align: middle;\n",
       "    }\n",
       "\n",
       "    .dataframe tbody tr th {\n",
       "        vertical-align: top;\n",
       "    }\n",
       "\n",
       "    .dataframe thead th {\n",
       "        text-align: right;\n",
       "    }\n",
       "</style>\n",
       "<table border=\"1\" class=\"dataframe\">\n",
       "  <thead>\n",
       "    <tr style=\"text-align: right;\">\n",
       "      <th></th>\n",
       "      <th>CRIM</th>\n",
       "      <th>ZN</th>\n",
       "      <th>INDUS</th>\n",
       "      <th>CHAS</th>\n",
       "      <th>NOX</th>\n",
       "      <th>RM</th>\n",
       "      <th>AGE</th>\n",
       "      <th>DIS</th>\n",
       "      <th>RAD</th>\n",
       "      <th>TAX</th>\n",
       "      <th>PTRATIO</th>\n",
       "      <th>B</th>\n",
       "      <th>LSTAT</th>\n",
       "      <th>MEDV</th>\n",
       "    </tr>\n",
       "  </thead>\n",
       "  <tbody>\n",
       "    <tr>\n",
       "      <th>count</th>\n",
       "      <td>404.000000</td>\n",
       "      <td>404.000000</td>\n",
       "      <td>404.000000</td>\n",
       "      <td>404.000000</td>\n",
       "      <td>404.000000</td>\n",
       "      <td>404.000000</td>\n",
       "      <td>404.000000</td>\n",
       "      <td>404.000000</td>\n",
       "      <td>404.000000</td>\n",
       "      <td>404.000000</td>\n",
       "      <td>404.000000</td>\n",
       "      <td>404.000000</td>\n",
       "      <td>404.000000</td>\n",
       "      <td>404.000000</td>\n",
       "    </tr>\n",
       "    <tr>\n",
       "      <th>mean</th>\n",
       "      <td>0.037451</td>\n",
       "      <td>0.114802</td>\n",
       "      <td>0.111044</td>\n",
       "      <td>0.061881</td>\n",
       "      <td>0.557356</td>\n",
       "      <td>6.267082</td>\n",
       "      <td>0.690106</td>\n",
       "      <td>3.740271</td>\n",
       "      <td>9.440594</td>\n",
       "      <td>0.040590</td>\n",
       "      <td>0.184760</td>\n",
       "      <td>0.354783</td>\n",
       "      <td>0.127408</td>\n",
       "      <td>22.395050</td>\n",
       "    </tr>\n",
       "    <tr>\n",
       "      <th>std</th>\n",
       "      <td>0.092407</td>\n",
       "      <td>0.237677</td>\n",
       "      <td>0.068113</td>\n",
       "      <td>0.241238</td>\n",
       "      <td>0.117293</td>\n",
       "      <td>0.709788</td>\n",
       "      <td>0.279407</td>\n",
       "      <td>2.030215</td>\n",
       "      <td>8.698360</td>\n",
       "      <td>0.016637</td>\n",
       "      <td>0.022004</td>\n",
       "      <td>0.094111</td>\n",
       "      <td>0.072545</td>\n",
       "      <td>9.210442</td>\n",
       "    </tr>\n",
       "    <tr>\n",
       "      <th>min</th>\n",
       "      <td>0.000063</td>\n",
       "      <td>0.000000</td>\n",
       "      <td>0.004600</td>\n",
       "      <td>0.000000</td>\n",
       "      <td>0.385000</td>\n",
       "      <td>3.561000</td>\n",
       "      <td>0.029000</td>\n",
       "      <td>1.129600</td>\n",
       "      <td>1.000000</td>\n",
       "      <td>0.018800</td>\n",
       "      <td>0.126000</td>\n",
       "      <td>0.000320</td>\n",
       "      <td>0.017300</td>\n",
       "      <td>5.000000</td>\n",
       "    </tr>\n",
       "    <tr>\n",
       "      <th>25%</th>\n",
       "      <td>0.000814</td>\n",
       "      <td>0.000000</td>\n",
       "      <td>0.051300</td>\n",
       "      <td>0.000000</td>\n",
       "      <td>0.453000</td>\n",
       "      <td>5.874750</td>\n",
       "      <td>0.454750</td>\n",
       "      <td>2.077100</td>\n",
       "      <td>4.000000</td>\n",
       "      <td>0.027900</td>\n",
       "      <td>0.172250</td>\n",
       "      <td>0.374673</td>\n",
       "      <td>0.068900</td>\n",
       "      <td>16.675000</td>\n",
       "    </tr>\n",
       "    <tr>\n",
       "      <th>50%</th>\n",
       "      <td>0.002689</td>\n",
       "      <td>0.000000</td>\n",
       "      <td>0.096900</td>\n",
       "      <td>0.000000</td>\n",
       "      <td>0.538000</td>\n",
       "      <td>6.198500</td>\n",
       "      <td>0.785000</td>\n",
       "      <td>3.142300</td>\n",
       "      <td>5.000000</td>\n",
       "      <td>0.033000</td>\n",
       "      <td>0.191000</td>\n",
       "      <td>0.391250</td>\n",
       "      <td>0.113950</td>\n",
       "      <td>20.750000</td>\n",
       "    </tr>\n",
       "    <tr>\n",
       "      <th>75%</th>\n",
       "      <td>0.036748</td>\n",
       "      <td>0.125000</td>\n",
       "      <td>0.181000</td>\n",
       "      <td>0.000000</td>\n",
       "      <td>0.631000</td>\n",
       "      <td>6.609000</td>\n",
       "      <td>0.941000</td>\n",
       "      <td>5.118000</td>\n",
       "      <td>24.000000</td>\n",
       "      <td>0.066600</td>\n",
       "      <td>0.202000</td>\n",
       "      <td>0.396157</td>\n",
       "      <td>0.170925</td>\n",
       "      <td>24.800000</td>\n",
       "    </tr>\n",
       "    <tr>\n",
       "      <th>max</th>\n",
       "      <td>0.889762</td>\n",
       "      <td>1.000000</td>\n",
       "      <td>0.277400</td>\n",
       "      <td>1.000000</td>\n",
       "      <td>0.871000</td>\n",
       "      <td>8.725000</td>\n",
       "      <td>1.000000</td>\n",
       "      <td>10.710300</td>\n",
       "      <td>24.000000</td>\n",
       "      <td>0.071100</td>\n",
       "      <td>0.220000</td>\n",
       "      <td>0.396900</td>\n",
       "      <td>0.379700</td>\n",
       "      <td>50.000000</td>\n",
       "    </tr>\n",
       "  </tbody>\n",
       "</table>\n",
       "</div>"
      ],
      "text/plain": [
       "             CRIM          ZN       INDUS        CHAS         NOX          RM  \\\n",
       "count  404.000000  404.000000  404.000000  404.000000  404.000000  404.000000   \n",
       "mean     0.037451    0.114802    0.111044    0.061881    0.557356    6.267082   \n",
       "std      0.092407    0.237677    0.068113    0.241238    0.117293    0.709788   \n",
       "min      0.000063    0.000000    0.004600    0.000000    0.385000    3.561000   \n",
       "25%      0.000814    0.000000    0.051300    0.000000    0.453000    5.874750   \n",
       "50%      0.002689    0.000000    0.096900    0.000000    0.538000    6.198500   \n",
       "75%      0.036748    0.125000    0.181000    0.000000    0.631000    6.609000   \n",
       "max      0.889762    1.000000    0.277400    1.000000    0.871000    8.725000   \n",
       "\n",
       "              AGE         DIS         RAD         TAX     PTRATIO           B  \\\n",
       "count  404.000000  404.000000  404.000000  404.000000  404.000000  404.000000   \n",
       "mean     0.690106    3.740271    9.440594    0.040590    0.184760    0.354783   \n",
       "std      0.279407    2.030215    8.698360    0.016637    0.022004    0.094111   \n",
       "min      0.029000    1.129600    1.000000    0.018800    0.126000    0.000320   \n",
       "25%      0.454750    2.077100    4.000000    0.027900    0.172250    0.374673   \n",
       "50%      0.785000    3.142300    5.000000    0.033000    0.191000    0.391250   \n",
       "75%      0.941000    5.118000   24.000000    0.066600    0.202000    0.396157   \n",
       "max      1.000000   10.710300   24.000000    0.071100    0.220000    0.396900   \n",
       "\n",
       "            LSTAT        MEDV  \n",
       "count  404.000000  404.000000  \n",
       "mean     0.127408   22.395050  \n",
       "std      0.072545    9.210442  \n",
       "min      0.017300    5.000000  \n",
       "25%      0.068900   16.675000  \n",
       "50%      0.113950   20.750000  \n",
       "75%      0.170925   24.800000  \n",
       "max      0.379700   50.000000  "
      ]
     },
     "execution_count": 12,
     "metadata": {},
     "output_type": "execute_result"
    }
   ],
   "source": [
    "df_train.describe()"
   ]
  },
  {
   "cell_type": "code",
   "execution_count": 13,
   "metadata": {},
   "outputs": [
    {
     "data": {
      "text/html": [
       "<div>\n",
       "<style scoped>\n",
       "    .dataframe tbody tr th:only-of-type {\n",
       "        vertical-align: middle;\n",
       "    }\n",
       "\n",
       "    .dataframe tbody tr th {\n",
       "        vertical-align: top;\n",
       "    }\n",
       "\n",
       "    .dataframe thead th {\n",
       "        text-align: right;\n",
       "    }\n",
       "</style>\n",
       "<table border=\"1\" class=\"dataframe\">\n",
       "  <thead>\n",
       "    <tr style=\"text-align: right;\">\n",
       "      <th></th>\n",
       "      <th>0</th>\n",
       "      <th>1</th>\n",
       "      <th>2</th>\n",
       "      <th>3</th>\n",
       "      <th>4</th>\n",
       "      <th>5</th>\n",
       "      <th>6</th>\n",
       "      <th>7</th>\n",
       "      <th>8</th>\n",
       "      <th>9</th>\n",
       "      <th>10</th>\n",
       "      <th>11</th>\n",
       "      <th>12</th>\n",
       "    </tr>\n",
       "  </thead>\n",
       "  <tbody>\n",
       "    <tr>\n",
       "      <th>0</th>\n",
       "      <td>0.012325</td>\n",
       "      <td>0.000</td>\n",
       "      <td>0.0814</td>\n",
       "      <td>0.0</td>\n",
       "      <td>0.5380</td>\n",
       "      <td>6.142</td>\n",
       "      <td>0.917</td>\n",
       "      <td>3.9769</td>\n",
       "      <td>4.0</td>\n",
       "      <td>0.0307</td>\n",
       "      <td>0.210</td>\n",
       "      <td>0.39690</td>\n",
       "      <td>0.1872</td>\n",
       "    </tr>\n",
       "    <tr>\n",
       "      <th>1</th>\n",
       "      <td>0.000218</td>\n",
       "      <td>0.825</td>\n",
       "      <td>0.0203</td>\n",
       "      <td>0.0</td>\n",
       "      <td>0.4150</td>\n",
       "      <td>7.610</td>\n",
       "      <td>0.157</td>\n",
       "      <td>6.2700</td>\n",
       "      <td>2.0</td>\n",
       "      <td>0.0348</td>\n",
       "      <td>0.147</td>\n",
       "      <td>0.39538</td>\n",
       "      <td>0.0311</td>\n",
       "    </tr>\n",
       "    <tr>\n",
       "      <th>2</th>\n",
       "      <td>0.048982</td>\n",
       "      <td>0.000</td>\n",
       "      <td>0.1810</td>\n",
       "      <td>0.0</td>\n",
       "      <td>0.6310</td>\n",
       "      <td>4.970</td>\n",
       "      <td>1.000</td>\n",
       "      <td>1.3325</td>\n",
       "      <td>24.0</td>\n",
       "      <td>0.0666</td>\n",
       "      <td>0.202</td>\n",
       "      <td>0.37552</td>\n",
       "      <td>0.0326</td>\n",
       "    </tr>\n",
       "    <tr>\n",
       "      <th>3</th>\n",
       "      <td>0.000396</td>\n",
       "      <td>0.000</td>\n",
       "      <td>0.0519</td>\n",
       "      <td>0.0</td>\n",
       "      <td>0.5150</td>\n",
       "      <td>6.037</td>\n",
       "      <td>0.345</td>\n",
       "      <td>5.9853</td>\n",
       "      <td>5.0</td>\n",
       "      <td>0.0224</td>\n",
       "      <td>0.202</td>\n",
       "      <td>0.39690</td>\n",
       "      <td>0.0801</td>\n",
       "    </tr>\n",
       "    <tr>\n",
       "      <th>4</th>\n",
       "      <td>0.036931</td>\n",
       "      <td>0.000</td>\n",
       "      <td>0.1810</td>\n",
       "      <td>0.0</td>\n",
       "      <td>0.7130</td>\n",
       "      <td>6.376</td>\n",
       "      <td>0.884</td>\n",
       "      <td>2.5671</td>\n",
       "      <td>24.0</td>\n",
       "      <td>0.0666</td>\n",
       "      <td>0.202</td>\n",
       "      <td>0.39143</td>\n",
       "      <td>0.1465</td>\n",
       "    </tr>\n",
       "    <tr>\n",
       "      <th>...</th>\n",
       "      <td>...</td>\n",
       "      <td>...</td>\n",
       "      <td>...</td>\n",
       "      <td>...</td>\n",
       "      <td>...</td>\n",
       "      <td>...</td>\n",
       "      <td>...</td>\n",
       "      <td>...</td>\n",
       "      <td>...</td>\n",
       "      <td>...</td>\n",
       "      <td>...</td>\n",
       "      <td>...</td>\n",
       "      <td>...</td>\n",
       "    </tr>\n",
       "    <tr>\n",
       "      <th>399</th>\n",
       "      <td>0.002198</td>\n",
       "      <td>0.000</td>\n",
       "      <td>0.0691</td>\n",
       "      <td>0.0</td>\n",
       "      <td>0.4480</td>\n",
       "      <td>5.602</td>\n",
       "      <td>0.620</td>\n",
       "      <td>6.0877</td>\n",
       "      <td>3.0</td>\n",
       "      <td>0.0233</td>\n",
       "      <td>0.179</td>\n",
       "      <td>0.39690</td>\n",
       "      <td>0.1620</td>\n",
       "    </tr>\n",
       "    <tr>\n",
       "      <th>400</th>\n",
       "      <td>0.001621</td>\n",
       "      <td>0.200</td>\n",
       "      <td>0.0696</td>\n",
       "      <td>0.0</td>\n",
       "      <td>0.4640</td>\n",
       "      <td>6.240</td>\n",
       "      <td>0.163</td>\n",
       "      <td>4.4290</td>\n",
       "      <td>3.0</td>\n",
       "      <td>0.0223</td>\n",
       "      <td>0.186</td>\n",
       "      <td>0.39690</td>\n",
       "      <td>0.0659</td>\n",
       "    </tr>\n",
       "    <tr>\n",
       "      <th>401</th>\n",
       "      <td>0.000347</td>\n",
       "      <td>0.350</td>\n",
       "      <td>0.0606</td>\n",
       "      <td>0.0</td>\n",
       "      <td>0.4379</td>\n",
       "      <td>6.031</td>\n",
       "      <td>0.233</td>\n",
       "      <td>6.6407</td>\n",
       "      <td>1.0</td>\n",
       "      <td>0.0304</td>\n",
       "      <td>0.169</td>\n",
       "      <td>0.36225</td>\n",
       "      <td>0.0783</td>\n",
       "    </tr>\n",
       "    <tr>\n",
       "      <th>402</th>\n",
       "      <td>0.021492</td>\n",
       "      <td>0.000</td>\n",
       "      <td>0.1958</td>\n",
       "      <td>0.0</td>\n",
       "      <td>0.8710</td>\n",
       "      <td>5.709</td>\n",
       "      <td>0.985</td>\n",
       "      <td>1.6232</td>\n",
       "      <td>5.0</td>\n",
       "      <td>0.0403</td>\n",
       "      <td>0.147</td>\n",
       "      <td>0.26195</td>\n",
       "      <td>0.1579</td>\n",
       "    </tr>\n",
       "    <tr>\n",
       "      <th>403</th>\n",
       "      <td>0.000144</td>\n",
       "      <td>0.600</td>\n",
       "      <td>0.0293</td>\n",
       "      <td>0.0</td>\n",
       "      <td>0.4010</td>\n",
       "      <td>6.604</td>\n",
       "      <td>0.188</td>\n",
       "      <td>6.2196</td>\n",
       "      <td>1.0</td>\n",
       "      <td>0.0265</td>\n",
       "      <td>0.156</td>\n",
       "      <td>0.37670</td>\n",
       "      <td>0.0438</td>\n",
       "    </tr>\n",
       "  </tbody>\n",
       "</table>\n",
       "<p>404 rows × 13 columns</p>\n",
       "</div>"
      ],
      "text/plain": [
       "           0      1       2    3       4      5      6       7     8       9   \\\n",
       "0    0.012325  0.000  0.0814  0.0  0.5380  6.142  0.917  3.9769   4.0  0.0307   \n",
       "1    0.000218  0.825  0.0203  0.0  0.4150  7.610  0.157  6.2700   2.0  0.0348   \n",
       "2    0.048982  0.000  0.1810  0.0  0.6310  4.970  1.000  1.3325  24.0  0.0666   \n",
       "3    0.000396  0.000  0.0519  0.0  0.5150  6.037  0.345  5.9853   5.0  0.0224   \n",
       "4    0.036931  0.000  0.1810  0.0  0.7130  6.376  0.884  2.5671  24.0  0.0666   \n",
       "..        ...    ...     ...  ...     ...    ...    ...     ...   ...     ...   \n",
       "399  0.002198  0.000  0.0691  0.0  0.4480  5.602  0.620  6.0877   3.0  0.0233   \n",
       "400  0.001621  0.200  0.0696  0.0  0.4640  6.240  0.163  4.4290   3.0  0.0223   \n",
       "401  0.000347  0.350  0.0606  0.0  0.4379  6.031  0.233  6.6407   1.0  0.0304   \n",
       "402  0.021492  0.000  0.1958  0.0  0.8710  5.709  0.985  1.6232   5.0  0.0403   \n",
       "403  0.000144  0.600  0.0293  0.0  0.4010  6.604  0.188  6.2196   1.0  0.0265   \n",
       "\n",
       "        10       11      12  \n",
       "0    0.210  0.39690  0.1872  \n",
       "1    0.147  0.39538  0.0311  \n",
       "2    0.202  0.37552  0.0326  \n",
       "3    0.202  0.39690  0.0801  \n",
       "4    0.202  0.39143  0.1465  \n",
       "..     ...      ...     ...  \n",
       "399  0.179  0.39690  0.1620  \n",
       "400  0.186  0.39690  0.0659  \n",
       "401  0.169  0.36225  0.0783  \n",
       "402  0.147  0.26195  0.1579  \n",
       "403  0.156  0.37670  0.0438  \n",
       "\n",
       "[404 rows x 13 columns]"
      ]
     },
     "execution_count": 13,
     "metadata": {},
     "output_type": "execute_result"
    }
   ],
   "source": [
    "pd.DataFrame(x_train)"
   ]
  },
  {
   "cell_type": "markdown",
   "metadata": {},
   "source": [
    "print(np.max(x_train, axis=1))"
   ]
  },
  {
   "cell_type": "code",
   "execution_count": null,
   "metadata": {},
   "outputs": [],
   "source": []
  },
  {
   "cell_type": "markdown",
   "metadata": {},
   "source": [
    "sns.pairplot(df_train)"
   ]
  },
  {
   "cell_type": "code",
   "execution_count": null,
   "metadata": {},
   "outputs": [],
   "source": []
  },
  {
   "cell_type": "code",
   "execution_count": 14,
   "metadata": {},
   "outputs": [],
   "source": [
    "from keras.models import Sequential\n",
    "from keras.layers import Dense, Dropout, Activation"
   ]
  },
  {
   "cell_type": "code",
   "execution_count": 34,
   "metadata": {},
   "outputs": [],
   "source": [
    "from keras import models\n",
    "from keras import layers\n",
    "\n",
    "def create_model_01():\n",
    "    model = models.Sequential()\n",
    "    model.add(layers.Dense(64, input_dim=x_train.shape[1], activation='relu'))\n",
    "    model.add(layers.Dense(1))\n",
    "    model.compile(optimizer='rmsprop', loss='mse', metrics=['mae'])\n",
    "    return model"
   ]
  },
  {
   "cell_type": "code",
   "execution_count": 16,
   "metadata": {},
   "outputs": [],
   "source": [
    "from keras.optimizers import Adam # Optimizer\n",
    "\n",
    "def create_model_02():\n",
    "    # create model\n",
    "    model = Sequential()\n",
    "    model.add(Dense(320, input_dim=x_train.shape[1], activation='relu'))\n",
    "    model.add(Dense(384, activation='relu'))\n",
    "    model.add(Dense(352, activation='relu'))\n",
    "    model.add(Dense(448, activation='relu'))\n",
    "    model.add(Dense(160, activation='relu'))\n",
    "    model.add(Dense(160, activation='relu'))\n",
    "    model.add(Dense(32, activation='relu'))\n",
    "    model.add(Dense(1))\n",
    "    # Compile model\n",
    "    model.compile(optimizer=Adam(learning_rate=0.0001), loss = 'mape', metrics=['mae']) #'mse')\n",
    "    return model"
   ]
  },
  {
   "cell_type": "markdown",
   "metadata": {},
   "source": [
    "model = Sequential()\n",
    "\n",
    "model.add(Dense(16, activation='sigmoid', input_shape=(13,)))\n",
    "model.add(Dense(1, activation='linear'))"
   ]
  },
  {
   "cell_type": "code",
   "execution_count": 21,
   "metadata": {},
   "outputs": [],
   "source": [
    "model = Sequential([\n",
    "    Dense(250, input_shape=(13,)),\n",
    "    Activation('sigmoid'),\n",
    "    Dense(10),\n",
    "    Activation('linear'),\n",
    "    Activation('softmax'),\n",
    "    Dense(1)\n",
    "])\n"
   ]
  },
  {
   "cell_type": "code",
   "execution_count": 58,
   "metadata": {},
   "outputs": [
    {
     "name": "stdout",
     "output_type": "stream",
     "text": [
      "Model: \"sequential_10\"\n",
      "_________________________________________________________________\n",
      "Layer (type)                 Output Shape              Param #   \n",
      "=================================================================\n",
      "dense_33 (Dense)             (None, 320)               4480      \n",
      "_________________________________________________________________\n",
      "dense_34 (Dense)             (None, 384)               123264    \n",
      "_________________________________________________________________\n",
      "dense_35 (Dense)             (None, 352)               135520    \n",
      "_________________________________________________________________\n",
      "dense_36 (Dense)             (None, 448)               158144    \n",
      "_________________________________________________________________\n",
      "dense_37 (Dense)             (None, 160)               71840     \n",
      "_________________________________________________________________\n",
      "dense_38 (Dense)             (None, 160)               25760     \n",
      "_________________________________________________________________\n",
      "dense_39 (Dense)             (None, 32)                5152      \n",
      "_________________________________________________________________\n",
      "dense_40 (Dense)             (None, 1)                 33        \n",
      "=================================================================\n",
      "Total params: 524,193\n",
      "Trainable params: 524,193\n",
      "Non-trainable params: 0\n",
      "_________________________________________________________________\n"
     ]
    }
   ],
   "source": [
    "model = create_model_02()\n",
    "model.summary()\n",
    "#model.build(input_shape=(None,3))# build the model by calling the build method"
   ]
  },
  {
   "cell_type": "code",
   "execution_count": 41,
   "metadata": {},
   "outputs": [
    {
     "name": "stderr",
     "output_type": "stream",
     "text": [
      "2022-02-20 17:15:32.316938: I tensorflow/core/platform/cpu_feature_guard.cc:142] Your CPU supports instructions that this TensorFlow binary was not compiled to use: AVX2 AVX512F FMA\n"
     ]
    },
    {
     "name": "stdout",
     "output_type": "stream",
     "text": [
      "WARNING:tensorflow:From /opt/anaconda3/envs/myenv/lib/python3.7/site-packages/keras/backend/tensorflow_backend.py:422: The name tf.global_variables is deprecated. Please use tf.compat.v1.global_variables instead.\n",
      "\n",
      "Train on 323 samples, validate on 81 samples\n",
      "Epoch 1/10\n",
      "323/323 [==============================] - 1s 2ms/step - loss: 65.5346 - mae: 15.1314 - val_loss: 26.3106 - val_mae: 7.0969\n",
      "Epoch 2/10\n",
      "323/323 [==============================] - 0s 898us/step - loss: 22.6877 - mae: 5.3685 - val_loss: 21.6276 - val_mae: 5.5161\n",
      "Epoch 3/10\n",
      "323/323 [==============================] - 0s 864us/step - loss: 21.6457 - mae: 5.1266 - val_loss: 23.0181 - val_mae: 6.1017\n",
      "Epoch 4/10\n",
      "323/323 [==============================] - 0s 869us/step - loss: 20.8171 - mae: 4.8345 - val_loss: 21.2859 - val_mae: 5.2018\n",
      "Epoch 5/10\n",
      "323/323 [==============================] - 0s 968us/step - loss: 20.2677 - mae: 4.7963 - val_loss: 21.6502 - val_mae: 5.5531\n",
      "Epoch 6/10\n",
      "323/323 [==============================] - 0s 909us/step - loss: 20.4868 - mae: 4.8377 - val_loss: 22.6136 - val_mae: 5.8906\n",
      "Epoch 7/10\n",
      "323/323 [==============================] - 0s 938us/step - loss: 19.4275 - mae: 4.5868 - val_loss: 23.1392 - val_mae: 6.0193\n",
      "Epoch 8/10\n",
      "323/323 [==============================] - 0s 962us/step - loss: 19.4985 - mae: 4.6515 - val_loss: 20.1399 - val_mae: 5.1295\n",
      "Epoch 9/10\n",
      "323/323 [==============================] - 0s 979us/step - loss: 19.1335 - mae: 4.4928 - val_loss: 21.9725 - val_mae: 5.8643\n",
      "Epoch 10/10\n",
      "323/323 [==============================] - 0s 939us/step - loss: 18.6537 - mae: 4.3726 - val_loss: 20.3627 - val_mae: 5.1764\n"
     ]
    }
   ],
   "source": [
    "history = model.fit(x_train, y_train, batch_size=4, epochs=10, validation_data=(x_valid, y_valid))"
   ]
  },
  {
   "cell_type": "markdown",
   "metadata": {},
   "source": [
    "model.compile(optimizer='sgd', loss='mse', metrics=['mape']) \n",
    "#sgd - stochastic gradient descent\n",
    "#mse - mean square error\n",
    "#mape - mean absolute percentage error"
   ]
  },
  {
   "cell_type": "code",
   "execution_count": 36,
   "metadata": {},
   "outputs": [],
   "source": [
    "from sklearn.model_selection import train_test_split\n",
    "\n",
    "x_train, x_valid, y_train, y_valid = train_test_split(x_train, y_train, test_size=.2)"
   ]
  },
  {
   "cell_type": "code",
   "execution_count": 37,
   "metadata": {},
   "outputs": [
    {
     "data": {
      "text/plain": [
       "((323, 13), (81, 13))"
      ]
     },
     "execution_count": 37,
     "metadata": {},
     "output_type": "execute_result"
    }
   ],
   "source": [
    "x_train.shape, x_valid.shape"
   ]
  },
  {
   "cell_type": "code",
   "execution_count": null,
   "metadata": {},
   "outputs": [],
   "source": []
  },
  {
   "cell_type": "markdown",
   "metadata": {},
   "source": [
    "for i in  range(2):\n",
    "    \n",
    "    model = create_model_02()\n",
    "\n",
    "    history = model.fit(x_train, y_train, batch_size=4, epochs=10, validation_data=(x_valid, y_valid))\n",
    "\n",
    "    all_scores = []\n",
    "    all_mae_histories = []\n",
    "\n",
    "    mae_history = history.history['val_loss']\n",
    "    all_mae_histories.append(mae_history)\n",
    "    \n",
    "    val_mse, val_mae = model.evaluate(x_valid, y_valid, verbose=0)\n",
    "    all_scores.append(val_mae)"
   ]
  },
  {
   "cell_type": "code",
   "execution_count": null,
   "metadata": {
    "scrolled": true
   },
   "outputs": [],
   "source": []
  },
  {
   "cell_type": "markdown",
   "metadata": {},
   "source": [
    "all_scores"
   ]
  },
  {
   "cell_type": "markdown",
   "metadata": {},
   "source": [
    "num_epochs = 100\n",
    "\n",
    "average_mae_history = [np.mean([x[i] for x in all_mae_histories]) for i in range(num_epochs)]\n",
    "\n",
    "import matplotlib.pyplot as plt\n",
    "\n",
    "plt.figure(1)\n",
    "plt.plot(range(1, len(average_mae_history) + 1), average_mae_history, 'r', label='aver_mae')\n",
    "plt.title('MAE')\n",
    "plt.xlabel('Epochs')\n",
    "plt.ylabel('Validation MAE')\n",
    "plt.legend()\n",
    "plt.show()"
   ]
  },
  {
   "cell_type": "code",
   "execution_count": 39,
   "metadata": {},
   "outputs": [
    {
     "data": {
      "text/plain": [
       "(323, 13)"
      ]
     },
     "execution_count": 39,
     "metadata": {},
     "output_type": "execute_result"
    }
   ],
   "source": [
    "x_train.shape"
   ]
  },
  {
   "cell_type": "code",
   "execution_count": 42,
   "metadata": {},
   "outputs": [
    {
     "data": {
      "text/plain": [
       "{'val_loss': [26.310580712777597,\n",
       "  21.627583342569846,\n",
       "  23.018148681263863,\n",
       "  21.285917126102213,\n",
       "  21.65019655227661,\n",
       "  22.61358987549205,\n",
       "  23.139170034432116,\n",
       "  20.139928935486594,\n",
       "  21.972532248791353,\n",
       "  20.36268840012727],\n",
       " 'val_mae': [7.0968708992004395,\n",
       "  5.516055107116699,\n",
       "  6.101749897003174,\n",
       "  5.2018256187438965,\n",
       "  5.553101539611816,\n",
       "  5.89063835144043,\n",
       "  6.019314765930176,\n",
       "  5.129462718963623,\n",
       "  5.864250659942627,\n",
       "  5.176403045654297],\n",
       " 'loss': [65.53460655419082,\n",
       "  22.687721535886404,\n",
       "  21.64568987571787,\n",
       "  20.817100200121615,\n",
       "  20.267748162473318,\n",
       "  20.486795307312956,\n",
       "  19.427509030321435,\n",
       "  19.49849612941683,\n",
       "  19.13347298294398,\n",
       "  18.653702449503328],\n",
       " 'mae': [15.131353,\n",
       "  5.368453,\n",
       "  5.126648,\n",
       "  4.8345475,\n",
       "  4.7963166,\n",
       "  4.8377237,\n",
       "  4.586833,\n",
       "  4.6515355,\n",
       "  4.4927664,\n",
       "  4.3726163]}"
      ]
     },
     "execution_count": 42,
     "metadata": {},
     "output_type": "execute_result"
    }
   ],
   "source": [
    "history.history"
   ]
  },
  {
   "cell_type": "code",
   "execution_count": 43,
   "metadata": {},
   "outputs": [
    {
     "data": {
      "image/png": "[encoded data removed]",
      "text/plain": [
       "<Figure size 432x288 with 1 Axes>"
      ]
     },
     "metadata": {
      "needs_background": "light"
     },
     "output_type": "display_data"
    }
   ],
   "source": [
    "for name, value in history.history.items():\n",
    "    plt.plot(value, label=name)\n",
    "plt.legend()\n",
    "plt.show()"
   ]
  },
  {
   "cell_type": "markdown",
   "metadata": {},
   "source": [
    "## evaluate model"
   ]
  },
  {
   "cell_type": "code",
   "execution_count": 44,
   "metadata": {},
   "outputs": [
    {
     "name": "stdout",
     "output_type": "stream",
     "text": [
      "102/102 [==============================] - 0s 107us/step\n"
     ]
    }
   ],
   "source": [
    "results = model.evaluate(x_test, y_test)"
   ]
  },
  {
   "cell_type": "code",
   "execution_count": 45,
   "metadata": {},
   "outputs": [
    {
     "data": {
      "text/plain": [
       "[22.427066279392616, 5.003265857696533]"
      ]
     },
     "execution_count": 45,
     "metadata": {},
     "output_type": "execute_result"
    }
   ],
   "source": [
    "results"
   ]
  },
  {
   "cell_type": "markdown",
   "metadata": {},
   "source": [
    "print('Loss: {:.6f} - MAPE: {:.6f}'.format(*results))"
   ]
  },
  {
   "cell_type": "markdown",
   "metadata": {},
   "source": [
    "## list predicted value"
   ]
  },
  {
   "cell_type": "code",
   "execution_count": 46,
   "metadata": {},
   "outputs": [],
   "source": [
    "test_pred = model.predict(x_test)"
   ]
  },
  {
   "cell_type": "code",
   "execution_count": 47,
   "metadata": {},
   "outputs": [],
   "source": [
    "test_pred = np.squeeze(test_pred)"
   ]
  },
  {
   "cell_type": "code",
   "execution_count": 48,
   "metadata": {
    "scrolled": true
   },
   "outputs": [
    {
     "data": {
      "text/plain": [
       "array([11.788507 , 19.575584 , 21.579039 , 21.10361  , 22.786318 ,\n",
       "       19.930174 , 26.131495 , 23.119047 , 20.648058 , 13.696832 ,\n",
       "       22.111818 , 21.68323  , 20.348375 , 28.348925 , 10.980569 ,\n",
       "       21.77223  , 24.211063 , 22.63972  , 14.133974 , 13.211351 ,\n",
       "       10.679531 , 11.319107 , 20.846212 , 19.850344 , 22.64625  ,\n",
       "       14.228883 , 23.457258 , 25.424002 , 11.994128 , 21.694239 ,\n",
       "       21.077902 , 12.965208 , 27.333757 , 23.490982 , 12.334326 ,\n",
       "        9.847651 , 17.555763 , 19.943089 , 20.394236 , 25.200775 ,\n",
       "       25.82535  , 24.58529  , 12.144572 , 26.39343  , 23.522444 ,\n",
       "       22.53596  , 23.36445  , 20.832905 , 13.583465 , 22.844748 ,\n",
       "       27.772354 , 20.62789  , 10.13541  , 20.588617 , 27.328314 ,\n",
       "       24.904186 , 11.431467 , 28.828386 , 26.654547 , 23.99872  ,\n",
       "       14.068849 , 11.878463 , 12.09448  , 20.161646 , 23.149353 ,\n",
       "       23.426344 , 12.405999 , 22.78116  , 16.680445 , 10.821107 ,\n",
       "       13.315965 , 25.098085 , 13.6576395, 17.813702 , 23.654602 ,\n",
       "       21.14231  , 21.58552  , 23.689287 , 26.143618 ,  9.870053 ,\n",
       "       20.273233 , 25.706486 , 19.829073 , 12.197782 , 20.500065 ,\n",
       "       21.6796   , 11.81     , 21.311657 , 23.483862 , 15.707695 ,\n",
       "       21.86701  , 22.11077  , 25.11814  , 30.263502 , 25.461943 ,\n",
       "       19.579256 , 24.687647 , 17.77766  , 23.275486 , 26.747343 ,\n",
       "       23.122206 , 20.489584 ], dtype=float32)"
      ]
     },
     "execution_count": 48,
     "metadata": {},
     "output_type": "execute_result"
    }
   ],
   "source": [
    "test_pred"
   ]
  },
  {
   "cell_type": "markdown",
   "metadata": {},
   "source": [
    "## compare predicted value to true value"
   ]
  },
  {
   "cell_type": "code",
   "execution_count": 49,
   "metadata": {
    "scrolled": true
   },
   "outputs": [
    {
     "name": "stdout",
     "output_type": "stream",
     "text": [
      "Pred: 11.788507 - True: 7.200000\n",
      "Pred: 19.575584 - True: 18.800000\n",
      "Pred: 21.579039 - True: 19.000000\n",
      "Pred: 21.103609 - True: 27.000000\n",
      "Pred: 22.786318 - True: 22.200000\n",
      "Pred: 19.930174 - True: 24.500000\n",
      "Pred: 26.131495 - True: 31.200000\n",
      "Pred: 23.119047 - True: 22.900000\n",
      "Pred: 20.648058 - True: 20.500000\n",
      "Pred: 13.696832 - True: 23.200000\n",
      "Pred: 22.111818 - True: 18.600000\n",
      "Pred: 21.683229 - True: 14.500000\n",
      "Pred: 20.348375 - True: 17.800000\n",
      "Pred: 28.348925 - True: 50.000000\n",
      "Pred: 10.980569 - True: 20.800000\n",
      "Pred: 21.772230 - True: 24.300000\n",
      "Pred: 24.211063 - True: 24.200000\n",
      "Pred: 22.639721 - True: 19.800000\n",
      "Pred: 14.133974 - True: 19.100000\n",
      "Pred: 13.211351 - True: 22.700000\n",
      "Pred: 10.679531 - True: 12.000000\n",
      "Pred: 11.319107 - True: 10.200000\n",
      "Pred: 20.846212 - True: 20.000000\n",
      "Pred: 19.850344 - True: 18.500000\n",
      "Pred: 22.646250 - True: 20.900000\n",
      "Pred: 14.228883 - True: 23.000000\n",
      "Pred: 23.457258 - True: 27.500000\n",
      "Pred: 25.424002 - True: 30.100000\n",
      "Pred: 11.994128 - True: 9.500000\n",
      "Pred: 21.694239 - True: 22.000000\n",
      "Pred: 21.077902 - True: 21.200000\n",
      "Pred: 12.965208 - True: 14.100000\n",
      "Pred: 27.333757 - True: 33.100000\n",
      "Pred: 23.490982 - True: 23.400000\n",
      "Pred: 12.334326 - True: 20.100000\n",
      "Pred: 9.847651 - True: 7.400000\n",
      "Pred: 17.555763 - True: 15.400000\n",
      "Pred: 19.943089 - True: 23.800000\n",
      "Pred: 20.394236 - True: 20.100000\n",
      "Pred: 25.200775 - True: 24.500000\n",
      "Pred: 25.825350 - True: 33.000000\n",
      "Pred: 24.585291 - True: 28.400000\n",
      "Pred: 12.144572 - True: 14.100000\n",
      "Pred: 26.393431 - True: 46.700000\n",
      "Pred: 23.522444 - True: 32.500000\n",
      "Pred: 22.535959 - True: 29.600000\n",
      "Pred: 23.364450 - True: 28.400000\n",
      "Pred: 20.832905 - True: 19.800000\n",
      "Pred: 13.583465 - True: 20.200000\n",
      "Pred: 22.844748 - True: 25.000000\n",
      "Pred: 27.772354 - True: 35.400000\n",
      "Pred: 20.627890 - True: 20.300000\n",
      "Pred: 10.135410 - True: 9.700000\n",
      "Pred: 20.588617 - True: 14.500000\n",
      "Pred: 27.328314 - True: 34.900000\n",
      "Pred: 24.904186 - True: 26.600000\n",
      "Pred: 11.431467 - True: 7.200000\n",
      "Pred: 28.828386 - True: 50.000000\n",
      "Pred: 26.654547 - True: 32.400000\n",
      "Pred: 23.998720 - True: 21.600000\n",
      "Pred: 14.068849 - True: 29.800000\n",
      "Pred: 11.878463 - True: 13.100000\n",
      "Pred: 12.094480 - True: 27.500000\n",
      "Pred: 20.161646 - True: 21.200000\n",
      "Pred: 23.149353 - True: 23.100000\n",
      "Pred: 23.426344 - True: 21.900000\n",
      "Pred: 12.405999 - True: 13.000000\n",
      "Pred: 22.781160 - True: 23.200000\n",
      "Pred: 16.680445 - True: 8.100000\n",
      "Pred: 10.821107 - True: 5.600000\n",
      "Pred: 13.315965 - True: 21.700000\n",
      "Pred: 25.098085 - True: 29.600000\n",
      "Pred: 13.657640 - True: 19.600000\n",
      "Pred: 17.813702 - True: 7.000000\n",
      "Pred: 23.654602 - True: 26.400000\n",
      "Pred: 21.142309 - True: 18.900000\n",
      "Pred: 21.585520 - True: 20.900000\n",
      "Pred: 23.689287 - True: 28.100000\n",
      "Pred: 26.143618 - True: 35.400000\n",
      "Pred: 9.870053 - True: 10.200000\n",
      "Pred: 20.273233 - True: 24.300000\n",
      "Pred: 25.706486 - True: 43.100000\n",
      "Pred: 19.829073 - True: 17.600000\n",
      "Pred: 12.197782 - True: 15.400000\n",
      "Pred: 20.500065 - True: 16.200000\n",
      "Pred: 21.679600 - True: 27.100000\n",
      "Pred: 11.810000 - True: 21.400000\n",
      "Pred: 21.311657 - True: 21.500000\n",
      "Pred: 23.483862 - True: 22.400000\n",
      "Pred: 15.707695 - True: 25.000000\n",
      "Pred: 21.867010 - True: 16.600000\n",
      "Pred: 22.110769 - True: 18.600000\n",
      "Pred: 25.118139 - True: 22.000000\n",
      "Pred: 30.263502 - True: 42.800000\n",
      "Pred: 25.461943 - True: 35.100000\n",
      "Pred: 19.579256 - True: 21.500000\n",
      "Pred: 24.687647 - True: 36.000000\n",
      "Pred: 17.777660 - True: 21.900000\n",
      "Pred: 23.275486 - True: 24.100000\n",
      "Pred: 26.747343 - True: 50.000000\n",
      "Pred: 23.122206 - True: 26.700000\n",
      "Pred: 20.489584 - True: 25.000000\n"
     ]
    }
   ],
   "source": [
    "for pred, true in zip(test_pred, y_test):\n",
    "    print('Pred: {:.6f} - True: {:.6f}'.format(pred,true))"
   ]
  },
  {
   "cell_type": "markdown",
   "metadata": {},
   "source": [
    "## Save model"
   ]
  },
  {
   "cell_type": "markdown",
   "metadata": {},
   "source": [
    "model_path = 'model.h5'\n",
    "model.save(model_path)"
   ]
  },
  {
   "cell_type": "code",
   "execution_count": 50,
   "metadata": {},
   "outputs": [],
   "source": [
    "from keras.models import load_model"
   ]
  },
  {
   "cell_type": "markdown",
   "metadata": {},
   "source": [
    "loaded_model = load_model(model_path)"
   ]
  },
  {
   "cell_type": "markdown",
   "metadata": {},
   "source": [
    "loaded_model.summary()"
   ]
  },
  {
   "cell_type": "code",
   "execution_count": 51,
   "metadata": {},
   "outputs": [
    {
     "data": {
      "image/png": "[encoded data removed]",
      "text/plain": [
       "<Figure size 504x360 with 1 Axes>"
      ]
     },
     "metadata": {
      "needs_background": "light"
     },
     "output_type": "display_data"
    }
   ],
   "source": [
    "plt.figure(figsize=(7, 5))\n",
    "plt.plot(x_test, y_test, '.y', x_test, test_pred, '.b')\n",
    "plt.show()"
   ]
  },
  {
   "cell_type": "code",
   "execution_count": 52,
   "metadata": {},
   "outputs": [
    {
     "data": {
      "image/png": "[encoded data removed]",
      "text/plain": [
       "<Figure size 504x360 with 1 Axes>"
      ]
     },
     "metadata": {
      "needs_background": "light"
     },
     "output_type": "display_data"
    }
   ],
   "source": [
    "train_pred = model.predict(x_train)\n",
    "train_pred = np.squeeze(train_pred)\n",
    "\n",
    "plt.figure(figsize=(7, 5))\n",
    "plt.plot(x_train, y_train, '.r', x_train, train_pred, '.b')\n",
    "plt.show()"
   ]
  },
  {
   "cell_type": "code",
   "execution_count": 72,
   "metadata": {},
   "outputs": [],
   "source": [
    "import shap"
   ]
  },
  {
   "cell_type": "code",
   "execution_count": 74,
   "metadata": {},
   "outputs": [],
   "source": [
    "# select backgroud for shap\n",
    "background = x_train[np.random.choice(x_train.shape[0], 100, replace=False)]\n",
    "# DeepExplainer to explain predictions of the model\n",
    "explainer = shap.DeepExplainer(model, background)\n",
    "# compute shap values\n",
    "shap_values = explainer.shap_values(x_test)"
   ]
  },
  {
   "cell_type": "code",
   "execution_count": 78,
   "metadata": {},
   "outputs": [
    {
     "data": {
      "image/png": "[encoded data removed]",
      "text/plain": [
       "<Figure size 576x482.4 with 1 Axes>"
      ]
     },
     "metadata": {
      "needs_background": "light"
     },
     "output_type": "display_data"
    }
   ],
   "source": [
    "shap.summary_plot(shap_values, \n",
    "                  features=x_train, \n",
    "                  feature_names=col_name)"
   ]
  },
  {
   "cell_type": "code",
   "execution_count": null,
   "metadata": {},
   "outputs": [],
   "source": []
  }
 ],
 "metadata": {
  "kernelspec": {
   "display_name": "Python 3 (ipykernel)",
   "language": "python",
   "name": "python3"
  },
  "language_info": {
   "codemirror_mode": {
    "name": "ipython",
    "version": 3
   },
   "file_extension": ".py",
   "mimetype": "text/x-python",
   "name": "python",
   "nbconvert_exporter": "python",
   "pygments_lexer": "ipython3",
   "version": "3.7.11"
  }
 },
 "nbformat": 4,
 "nbformat_minor": 4
}
