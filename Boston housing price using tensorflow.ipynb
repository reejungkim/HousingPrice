{
 "cells": [
  {
   "cell_type": "code",
   "execution_count": 24,
   "metadata": {},
   "outputs": [],
   "source": [
    "import pandas as pd\n",
    "import numpy as np\n",
    "import timeit\n",
    "import datetime as dt\n",
    "import matplotlib.pyplot as plt\n",
    "import seaborn as sns\n",
    "#import plotly.graph_objs as go\n",
    "%matplotlib inline"
   ]
  },
  {
   "cell_type": "code",
   "execution_count": 25,
   "metadata": {},
   "outputs": [],
   "source": [
    "import tensorflow as tf\n",
    "import warnings\n",
    "warnings.simplefilter(action='ignore')"
   ]
  },
  {
   "cell_type": "code",
   "execution_count": 26,
   "metadata": {},
   "outputs": [],
   "source": [
    "\n",
    "from keras.datasets import boston_housing"
   ]
  },
  {
   "cell_type": "markdown",
   "metadata": {},
   "source": [
    "train = pd.read_csv(\"https://raw.githubusercontent.com/reejungkim/HousingPrice/master/train.csv\", error_bad_lines=False)\n",
    "train.head()\n",
    "\n",
    "test = pd.read_csv(\"https://raw.githubusercontent.com/reejungkim/HousingPrice/master/test.csv\", error_bad_lines=False)\n",
    "test.head()"
   ]
  },
  {
   "cell_type": "code",
   "execution_count": 27,
   "metadata": {},
   "outputs": [
    {
     "data": {
      "text/plain": [
       "((404, 13), (404,), (102, 13), (102,))"
      ]
     },
     "execution_count": 27,
     "metadata": {},
     "output_type": "execute_result"
    }
   ],
   "source": [
    "pd.DataFrame(boston_housing.load_data())\n",
    "\n",
    "(x_train, y_train), (x_test, y_test) = boston_housing.load_data()\n",
    "\n",
    "x_train.shape, y_train.shape, x_test.shape, y_test.shape"
   ]
  },
  {
   "cell_type": "markdown",
   "metadata": {
    "scrolled": true
   },
   "source": [
    "pd.DataFrame(x_train)"
   ]
  },
  {
   "cell_type": "markdown",
   "metadata": {
    "scrolled": true
   },
   "source": [
    "pd.DataFrame(y_train)"
   ]
  },
  {
   "cell_type": "code",
   "execution_count": 28,
   "metadata": {},
   "outputs": [],
   "source": [
    "pd.set_option('display.max_columns', 100)"
   ]
  },
  {
   "cell_type": "code",
   "execution_count": 29,
   "metadata": {},
   "outputs": [],
   "source": [
    "col_name = ['CRIM', 'ZN', 'INDUS', 'CHAS', 'NOX', 'RM', 'AGE', 'DIS', 'RAD', 'TAX', 'PTRATIO', 'B', 'LSTAT', 'MEDV']"
   ]
  },
  {
   "cell_type": "code",
   "execution_count": 30,
   "metadata": {},
   "outputs": [],
   "source": [
    "train_data = np.concatenate([x_train, y_train[:, np.newaxis]], axis=1)\n",
    "#train_data = pd.concat( [pd.DataFrame(x_train), pd.DataFrame(y_train)], axis=1, ignore_index=True).values\n",
    "test_data = np.concatenate([x_test, y_test[:, np.newaxis]], axis=1)"
   ]
  },
  {
   "cell_type": "code",
   "execution_count": 31,
   "metadata": {},
   "outputs": [],
   "source": [
    "df_train = pd.DataFrame(train_data, columns=col_name)\n",
    "df_test = pd.DataFrame(test_data, columns=col_name)"
   ]
  },
  {
   "cell_type": "code",
   "execution_count": 32,
   "metadata": {},
   "outputs": [
    {
     "data": {
      "text/html": [
       "<div>\n",
       "<style scoped>\n",
       "    .dataframe tbody tr th:only-of-type {\n",
       "        vertical-align: middle;\n",
       "    }\n",
       "\n",
       "    .dataframe tbody tr th {\n",
       "        vertical-align: top;\n",
       "    }\n",
       "\n",
       "    .dataframe thead th {\n",
       "        text-align: right;\n",
       "    }\n",
       "</style>\n",
       "<table border=\"1\" class=\"dataframe\">\n",
       "  <thead>\n",
       "    <tr style=\"text-align: right;\">\n",
       "      <th></th>\n",
       "      <th>CRIM</th>\n",
       "      <th>ZN</th>\n",
       "      <th>INDUS</th>\n",
       "      <th>CHAS</th>\n",
       "      <th>NOX</th>\n",
       "      <th>RM</th>\n",
       "      <th>AGE</th>\n",
       "      <th>DIS</th>\n",
       "      <th>RAD</th>\n",
       "      <th>TAX</th>\n",
       "      <th>PTRATIO</th>\n",
       "      <th>B</th>\n",
       "      <th>LSTAT</th>\n",
       "      <th>MEDV</th>\n",
       "    </tr>\n",
       "  </thead>\n",
       "  <tbody>\n",
       "    <tr>\n",
       "      <th>0</th>\n",
       "      <td>1.23247</td>\n",
       "      <td>0.0</td>\n",
       "      <td>8.14</td>\n",
       "      <td>0.0</td>\n",
       "      <td>0.538</td>\n",
       "      <td>6.142</td>\n",
       "      <td>91.7</td>\n",
       "      <td>3.9769</td>\n",
       "      <td>4.0</td>\n",
       "      <td>307.0</td>\n",
       "      <td>21.0</td>\n",
       "      <td>396.90</td>\n",
       "      <td>18.72</td>\n",
       "      <td>15.2</td>\n",
       "    </tr>\n",
       "    <tr>\n",
       "      <th>1</th>\n",
       "      <td>0.02177</td>\n",
       "      <td>82.5</td>\n",
       "      <td>2.03</td>\n",
       "      <td>0.0</td>\n",
       "      <td>0.415</td>\n",
       "      <td>7.610</td>\n",
       "      <td>15.7</td>\n",
       "      <td>6.2700</td>\n",
       "      <td>2.0</td>\n",
       "      <td>348.0</td>\n",
       "      <td>14.7</td>\n",
       "      <td>395.38</td>\n",
       "      <td>3.11</td>\n",
       "      <td>42.3</td>\n",
       "    </tr>\n",
       "    <tr>\n",
       "      <th>2</th>\n",
       "      <td>4.89822</td>\n",
       "      <td>0.0</td>\n",
       "      <td>18.10</td>\n",
       "      <td>0.0</td>\n",
       "      <td>0.631</td>\n",
       "      <td>4.970</td>\n",
       "      <td>100.0</td>\n",
       "      <td>1.3325</td>\n",
       "      <td>24.0</td>\n",
       "      <td>666.0</td>\n",
       "      <td>20.2</td>\n",
       "      <td>375.52</td>\n",
       "      <td>3.26</td>\n",
       "      <td>50.0</td>\n",
       "    </tr>\n",
       "    <tr>\n",
       "      <th>3</th>\n",
       "      <td>0.03961</td>\n",
       "      <td>0.0</td>\n",
       "      <td>5.19</td>\n",
       "      <td>0.0</td>\n",
       "      <td>0.515</td>\n",
       "      <td>6.037</td>\n",
       "      <td>34.5</td>\n",
       "      <td>5.9853</td>\n",
       "      <td>5.0</td>\n",
       "      <td>224.0</td>\n",
       "      <td>20.2</td>\n",
       "      <td>396.90</td>\n",
       "      <td>8.01</td>\n",
       "      <td>21.1</td>\n",
       "    </tr>\n",
       "    <tr>\n",
       "      <th>4</th>\n",
       "      <td>3.69311</td>\n",
       "      <td>0.0</td>\n",
       "      <td>18.10</td>\n",
       "      <td>0.0</td>\n",
       "      <td>0.713</td>\n",
       "      <td>6.376</td>\n",
       "      <td>88.4</td>\n",
       "      <td>2.5671</td>\n",
       "      <td>24.0</td>\n",
       "      <td>666.0</td>\n",
       "      <td>20.2</td>\n",
       "      <td>391.43</td>\n",
       "      <td>14.65</td>\n",
       "      <td>17.7</td>\n",
       "    </tr>\n",
       "  </tbody>\n",
       "</table>\n",
       "</div>"
      ],
      "text/plain": [
       "      CRIM    ZN  INDUS  CHAS    NOX     RM    AGE     DIS   RAD    TAX  \\\n",
       "0  1.23247   0.0   8.14   0.0  0.538  6.142   91.7  3.9769   4.0  307.0   \n",
       "1  0.02177  82.5   2.03   0.0  0.415  7.610   15.7  6.2700   2.0  348.0   \n",
       "2  4.89822   0.0  18.10   0.0  0.631  4.970  100.0  1.3325  24.0  666.0   \n",
       "3  0.03961   0.0   5.19   0.0  0.515  6.037   34.5  5.9853   5.0  224.0   \n",
       "4  3.69311   0.0  18.10   0.0  0.713  6.376   88.4  2.5671  24.0  666.0   \n",
       "\n",
       "   PTRATIO       B  LSTAT  MEDV  \n",
       "0     21.0  396.90  18.72  15.2  \n",
       "1     14.7  395.38   3.11  42.3  \n",
       "2     20.2  375.52   3.26  50.0  \n",
       "3     20.2  396.90   8.01  21.1  \n",
       "4     20.2  391.43  14.65  17.7  "
      ]
     },
     "execution_count": 32,
     "metadata": {},
     "output_type": "execute_result"
    }
   ],
   "source": [
    "df_train.head()"
   ]
  },
  {
   "cell_type": "code",
   "execution_count": 33,
   "metadata": {},
   "outputs": [],
   "source": [
    "percentages = ['CRIM', 'ZN', 'INDUS', 'AGE', 'PTRATIO', 'LSTAT']"
   ]
  },
  {
   "cell_type": "code",
   "execution_count": 34,
   "metadata": {},
   "outputs": [],
   "source": [
    "#normalizing data\n",
    "for col in percentages:\n",
    "    df_train[col] /=100\n",
    "    df_test[col] /=100\n",
    "    \n",
    "df_train['B'] /=1000\n",
    "df_train['TAX']/=10000\n",
    "df_test['B'] /=1000\n",
    "df_test['TAX']/=10000"
   ]
  },
  {
   "cell_type": "code",
   "execution_count": 35,
   "metadata": {},
   "outputs": [],
   "source": [
    "x_train, y_train = df_train.values[:, :13], df_train.values[:, 13]\n",
    "x_test, y_test = df_test.values[:, :13], df_test.values[:, 13]"
   ]
  },
  {
   "cell_type": "code",
   "execution_count": 36,
   "metadata": {},
   "outputs": [
    {
     "data": {
      "text/html": [
       "<div>\n",
       "<style scoped>\n",
       "    .dataframe tbody tr th:only-of-type {\n",
       "        vertical-align: middle;\n",
       "    }\n",
       "\n",
       "    .dataframe tbody tr th {\n",
       "        vertical-align: top;\n",
       "    }\n",
       "\n",
       "    .dataframe thead th {\n",
       "        text-align: right;\n",
       "    }\n",
       "</style>\n",
       "<table border=\"1\" class=\"dataframe\">\n",
       "  <thead>\n",
       "    <tr style=\"text-align: right;\">\n",
       "      <th></th>\n",
       "      <th>CRIM</th>\n",
       "      <th>ZN</th>\n",
       "      <th>INDUS</th>\n",
       "      <th>CHAS</th>\n",
       "      <th>NOX</th>\n",
       "      <th>RM</th>\n",
       "      <th>AGE</th>\n",
       "      <th>DIS</th>\n",
       "      <th>RAD</th>\n",
       "      <th>TAX</th>\n",
       "      <th>PTRATIO</th>\n",
       "      <th>B</th>\n",
       "      <th>LSTAT</th>\n",
       "      <th>MEDV</th>\n",
       "    </tr>\n",
       "  </thead>\n",
       "  <tbody>\n",
       "    <tr>\n",
       "      <th>count</th>\n",
       "      <td>404.000000</td>\n",
       "      <td>404.000000</td>\n",
       "      <td>404.000000</td>\n",
       "      <td>404.000000</td>\n",
       "      <td>404.000000</td>\n",
       "      <td>404.000000</td>\n",
       "      <td>404.000000</td>\n",
       "      <td>404.000000</td>\n",
       "      <td>404.000000</td>\n",
       "      <td>404.000000</td>\n",
       "      <td>404.000000</td>\n",
       "      <td>404.000000</td>\n",
       "      <td>404.000000</td>\n",
       "      <td>404.000000</td>\n",
       "    </tr>\n",
       "    <tr>\n",
       "      <th>mean</th>\n",
       "      <td>0.037451</td>\n",
       "      <td>0.114802</td>\n",
       "      <td>0.111044</td>\n",
       "      <td>0.061881</td>\n",
       "      <td>0.557356</td>\n",
       "      <td>6.267082</td>\n",
       "      <td>0.690106</td>\n",
       "      <td>3.740271</td>\n",
       "      <td>9.440594</td>\n",
       "      <td>0.040590</td>\n",
       "      <td>0.184760</td>\n",
       "      <td>0.354783</td>\n",
       "      <td>0.127408</td>\n",
       "      <td>22.395050</td>\n",
       "    </tr>\n",
       "    <tr>\n",
       "      <th>std</th>\n",
       "      <td>0.092407</td>\n",
       "      <td>0.237677</td>\n",
       "      <td>0.068113</td>\n",
       "      <td>0.241238</td>\n",
       "      <td>0.117293</td>\n",
       "      <td>0.709788</td>\n",
       "      <td>0.279407</td>\n",
       "      <td>2.030215</td>\n",
       "      <td>8.698360</td>\n",
       "      <td>0.016637</td>\n",
       "      <td>0.022004</td>\n",
       "      <td>0.094111</td>\n",
       "      <td>0.072545</td>\n",
       "      <td>9.210442</td>\n",
       "    </tr>\n",
       "    <tr>\n",
       "      <th>min</th>\n",
       "      <td>0.000063</td>\n",
       "      <td>0.000000</td>\n",
       "      <td>0.004600</td>\n",
       "      <td>0.000000</td>\n",
       "      <td>0.385000</td>\n",
       "      <td>3.561000</td>\n",
       "      <td>0.029000</td>\n",
       "      <td>1.129600</td>\n",
       "      <td>1.000000</td>\n",
       "      <td>0.018800</td>\n",
       "      <td>0.126000</td>\n",
       "      <td>0.000320</td>\n",
       "      <td>0.017300</td>\n",
       "      <td>5.000000</td>\n",
       "    </tr>\n",
       "    <tr>\n",
       "      <th>25%</th>\n",
       "      <td>0.000814</td>\n",
       "      <td>0.000000</td>\n",
       "      <td>0.051300</td>\n",
       "      <td>0.000000</td>\n",
       "      <td>0.453000</td>\n",
       "      <td>5.874750</td>\n",
       "      <td>0.454750</td>\n",
       "      <td>2.077100</td>\n",
       "      <td>4.000000</td>\n",
       "      <td>0.027900</td>\n",
       "      <td>0.172250</td>\n",
       "      <td>0.374673</td>\n",
       "      <td>0.068900</td>\n",
       "      <td>16.675000</td>\n",
       "    </tr>\n",
       "    <tr>\n",
       "      <th>50%</th>\n",
       "      <td>0.002689</td>\n",
       "      <td>0.000000</td>\n",
       "      <td>0.096900</td>\n",
       "      <td>0.000000</td>\n",
       "      <td>0.538000</td>\n",
       "      <td>6.198500</td>\n",
       "      <td>0.785000</td>\n",
       "      <td>3.142300</td>\n",
       "      <td>5.000000</td>\n",
       "      <td>0.033000</td>\n",
       "      <td>0.191000</td>\n",
       "      <td>0.391250</td>\n",
       "      <td>0.113950</td>\n",
       "      <td>20.750000</td>\n",
       "    </tr>\n",
       "    <tr>\n",
       "      <th>75%</th>\n",
       "      <td>0.036748</td>\n",
       "      <td>0.125000</td>\n",
       "      <td>0.181000</td>\n",
       "      <td>0.000000</td>\n",
       "      <td>0.631000</td>\n",
       "      <td>6.609000</td>\n",
       "      <td>0.941000</td>\n",
       "      <td>5.118000</td>\n",
       "      <td>24.000000</td>\n",
       "      <td>0.066600</td>\n",
       "      <td>0.202000</td>\n",
       "      <td>0.396157</td>\n",
       "      <td>0.170925</td>\n",
       "      <td>24.800000</td>\n",
       "    </tr>\n",
       "    <tr>\n",
       "      <th>max</th>\n",
       "      <td>0.889762</td>\n",
       "      <td>1.000000</td>\n",
       "      <td>0.277400</td>\n",
       "      <td>1.000000</td>\n",
       "      <td>0.871000</td>\n",
       "      <td>8.725000</td>\n",
       "      <td>1.000000</td>\n",
       "      <td>10.710300</td>\n",
       "      <td>24.000000</td>\n",
       "      <td>0.071100</td>\n",
       "      <td>0.220000</td>\n",
       "      <td>0.396900</td>\n",
       "      <td>0.379700</td>\n",
       "      <td>50.000000</td>\n",
       "    </tr>\n",
       "  </tbody>\n",
       "</table>\n",
       "</div>"
      ],
      "text/plain": [
       "             CRIM          ZN       INDUS        CHAS         NOX          RM  \\\n",
       "count  404.000000  404.000000  404.000000  404.000000  404.000000  404.000000   \n",
       "mean     0.037451    0.114802    0.111044    0.061881    0.557356    6.267082   \n",
       "std      0.092407    0.237677    0.068113    0.241238    0.117293    0.709788   \n",
       "min      0.000063    0.000000    0.004600    0.000000    0.385000    3.561000   \n",
       "25%      0.000814    0.000000    0.051300    0.000000    0.453000    5.874750   \n",
       "50%      0.002689    0.000000    0.096900    0.000000    0.538000    6.198500   \n",
       "75%      0.036748    0.125000    0.181000    0.000000    0.631000    6.609000   \n",
       "max      0.889762    1.000000    0.277400    1.000000    0.871000    8.725000   \n",
       "\n",
       "              AGE         DIS         RAD         TAX     PTRATIO           B  \\\n",
       "count  404.000000  404.000000  404.000000  404.000000  404.000000  404.000000   \n",
       "mean     0.690106    3.740271    9.440594    0.040590    0.184760    0.354783   \n",
       "std      0.279407    2.030215    8.698360    0.016637    0.022004    0.094111   \n",
       "min      0.029000    1.129600    1.000000    0.018800    0.126000    0.000320   \n",
       "25%      0.454750    2.077100    4.000000    0.027900    0.172250    0.374673   \n",
       "50%      0.785000    3.142300    5.000000    0.033000    0.191000    0.391250   \n",
       "75%      0.941000    5.118000   24.000000    0.066600    0.202000    0.396157   \n",
       "max      1.000000   10.710300   24.000000    0.071100    0.220000    0.396900   \n",
       "\n",
       "            LSTAT        MEDV  \n",
       "count  404.000000  404.000000  \n",
       "mean     0.127408   22.395050  \n",
       "std      0.072545    9.210442  \n",
       "min      0.017300    5.000000  \n",
       "25%      0.068900   16.675000  \n",
       "50%      0.113950   20.750000  \n",
       "75%      0.170925   24.800000  \n",
       "max      0.379700   50.000000  "
      ]
     },
     "execution_count": 36,
     "metadata": {},
     "output_type": "execute_result"
    }
   ],
   "source": [
    "df_train.describe()"
   ]
  },
  {
   "cell_type": "code",
   "execution_count": 37,
   "metadata": {},
   "outputs": [
    {
     "data": {
      "text/html": [
       "<div>\n",
       "<style scoped>\n",
       "    .dataframe tbody tr th:only-of-type {\n",
       "        vertical-align: middle;\n",
       "    }\n",
       "\n",
       "    .dataframe tbody tr th {\n",
       "        vertical-align: top;\n",
       "    }\n",
       "\n",
       "    .dataframe thead th {\n",
       "        text-align: right;\n",
       "    }\n",
       "</style>\n",
       "<table border=\"1\" class=\"dataframe\">\n",
       "  <thead>\n",
       "    <tr style=\"text-align: right;\">\n",
       "      <th></th>\n",
       "      <th>0</th>\n",
       "      <th>1</th>\n",
       "      <th>2</th>\n",
       "      <th>3</th>\n",
       "      <th>4</th>\n",
       "      <th>5</th>\n",
       "      <th>6</th>\n",
       "      <th>7</th>\n",
       "      <th>8</th>\n",
       "      <th>9</th>\n",
       "      <th>10</th>\n",
       "      <th>11</th>\n",
       "      <th>12</th>\n",
       "    </tr>\n",
       "  </thead>\n",
       "  <tbody>\n",
       "    <tr>\n",
       "      <th>0</th>\n",
       "      <td>0.012325</td>\n",
       "      <td>0.000</td>\n",
       "      <td>0.0814</td>\n",
       "      <td>0.0</td>\n",
       "      <td>0.5380</td>\n",
       "      <td>6.142</td>\n",
       "      <td>0.917</td>\n",
       "      <td>3.9769</td>\n",
       "      <td>4.0</td>\n",
       "      <td>0.0307</td>\n",
       "      <td>0.210</td>\n",
       "      <td>0.39690</td>\n",
       "      <td>0.1872</td>\n",
       "    </tr>\n",
       "    <tr>\n",
       "      <th>1</th>\n",
       "      <td>0.000218</td>\n",
       "      <td>0.825</td>\n",
       "      <td>0.0203</td>\n",
       "      <td>0.0</td>\n",
       "      <td>0.4150</td>\n",
       "      <td>7.610</td>\n",
       "      <td>0.157</td>\n",
       "      <td>6.2700</td>\n",
       "      <td>2.0</td>\n",
       "      <td>0.0348</td>\n",
       "      <td>0.147</td>\n",
       "      <td>0.39538</td>\n",
       "      <td>0.0311</td>\n",
       "    </tr>\n",
       "    <tr>\n",
       "      <th>2</th>\n",
       "      <td>0.048982</td>\n",
       "      <td>0.000</td>\n",
       "      <td>0.1810</td>\n",
       "      <td>0.0</td>\n",
       "      <td>0.6310</td>\n",
       "      <td>4.970</td>\n",
       "      <td>1.000</td>\n",
       "      <td>1.3325</td>\n",
       "      <td>24.0</td>\n",
       "      <td>0.0666</td>\n",
       "      <td>0.202</td>\n",
       "      <td>0.37552</td>\n",
       "      <td>0.0326</td>\n",
       "    </tr>\n",
       "    <tr>\n",
       "      <th>3</th>\n",
       "      <td>0.000396</td>\n",
       "      <td>0.000</td>\n",
       "      <td>0.0519</td>\n",
       "      <td>0.0</td>\n",
       "      <td>0.5150</td>\n",
       "      <td>6.037</td>\n",
       "      <td>0.345</td>\n",
       "      <td>5.9853</td>\n",
       "      <td>5.0</td>\n",
       "      <td>0.0224</td>\n",
       "      <td>0.202</td>\n",
       "      <td>0.39690</td>\n",
       "      <td>0.0801</td>\n",
       "    </tr>\n",
       "    <tr>\n",
       "      <th>4</th>\n",
       "      <td>0.036931</td>\n",
       "      <td>0.000</td>\n",
       "      <td>0.1810</td>\n",
       "      <td>0.0</td>\n",
       "      <td>0.7130</td>\n",
       "      <td>6.376</td>\n",
       "      <td>0.884</td>\n",
       "      <td>2.5671</td>\n",
       "      <td>24.0</td>\n",
       "      <td>0.0666</td>\n",
       "      <td>0.202</td>\n",
       "      <td>0.39143</td>\n",
       "      <td>0.1465</td>\n",
       "    </tr>\n",
       "    <tr>\n",
       "      <th>...</th>\n",
       "      <td>...</td>\n",
       "      <td>...</td>\n",
       "      <td>...</td>\n",
       "      <td>...</td>\n",
       "      <td>...</td>\n",
       "      <td>...</td>\n",
       "      <td>...</td>\n",
       "      <td>...</td>\n",
       "      <td>...</td>\n",
       "      <td>...</td>\n",
       "      <td>...</td>\n",
       "      <td>...</td>\n",
       "      <td>...</td>\n",
       "    </tr>\n",
       "    <tr>\n",
       "      <th>399</th>\n",
       "      <td>0.002198</td>\n",
       "      <td>0.000</td>\n",
       "      <td>0.0691</td>\n",
       "      <td>0.0</td>\n",
       "      <td>0.4480</td>\n",
       "      <td>5.602</td>\n",
       "      <td>0.620</td>\n",
       "      <td>6.0877</td>\n",
       "      <td>3.0</td>\n",
       "      <td>0.0233</td>\n",
       "      <td>0.179</td>\n",
       "      <td>0.39690</td>\n",
       "      <td>0.1620</td>\n",
       "    </tr>\n",
       "    <tr>\n",
       "      <th>400</th>\n",
       "      <td>0.001621</td>\n",
       "      <td>0.200</td>\n",
       "      <td>0.0696</td>\n",
       "      <td>0.0</td>\n",
       "      <td>0.4640</td>\n",
       "      <td>6.240</td>\n",
       "      <td>0.163</td>\n",
       "      <td>4.4290</td>\n",
       "      <td>3.0</td>\n",
       "      <td>0.0223</td>\n",
       "      <td>0.186</td>\n",
       "      <td>0.39690</td>\n",
       "      <td>0.0659</td>\n",
       "    </tr>\n",
       "    <tr>\n",
       "      <th>401</th>\n",
       "      <td>0.000347</td>\n",
       "      <td>0.350</td>\n",
       "      <td>0.0606</td>\n",
       "      <td>0.0</td>\n",
       "      <td>0.4379</td>\n",
       "      <td>6.031</td>\n",
       "      <td>0.233</td>\n",
       "      <td>6.6407</td>\n",
       "      <td>1.0</td>\n",
       "      <td>0.0304</td>\n",
       "      <td>0.169</td>\n",
       "      <td>0.36225</td>\n",
       "      <td>0.0783</td>\n",
       "    </tr>\n",
       "    <tr>\n",
       "      <th>402</th>\n",
       "      <td>0.021492</td>\n",
       "      <td>0.000</td>\n",
       "      <td>0.1958</td>\n",
       "      <td>0.0</td>\n",
       "      <td>0.8710</td>\n",
       "      <td>5.709</td>\n",
       "      <td>0.985</td>\n",
       "      <td>1.6232</td>\n",
       "      <td>5.0</td>\n",
       "      <td>0.0403</td>\n",
       "      <td>0.147</td>\n",
       "      <td>0.26195</td>\n",
       "      <td>0.1579</td>\n",
       "    </tr>\n",
       "    <tr>\n",
       "      <th>403</th>\n",
       "      <td>0.000144</td>\n",
       "      <td>0.600</td>\n",
       "      <td>0.0293</td>\n",
       "      <td>0.0</td>\n",
       "      <td>0.4010</td>\n",
       "      <td>6.604</td>\n",
       "      <td>0.188</td>\n",
       "      <td>6.2196</td>\n",
       "      <td>1.0</td>\n",
       "      <td>0.0265</td>\n",
       "      <td>0.156</td>\n",
       "      <td>0.37670</td>\n",
       "      <td>0.0438</td>\n",
       "    </tr>\n",
       "  </tbody>\n",
       "</table>\n",
       "<p>404 rows × 13 columns</p>\n",
       "</div>"
      ],
      "text/plain": [
       "           0      1       2    3       4      5      6       7     8       9   \\\n",
       "0    0.012325  0.000  0.0814  0.0  0.5380  6.142  0.917  3.9769   4.0  0.0307   \n",
       "1    0.000218  0.825  0.0203  0.0  0.4150  7.610  0.157  6.2700   2.0  0.0348   \n",
       "2    0.048982  0.000  0.1810  0.0  0.6310  4.970  1.000  1.3325  24.0  0.0666   \n",
       "3    0.000396  0.000  0.0519  0.0  0.5150  6.037  0.345  5.9853   5.0  0.0224   \n",
       "4    0.036931  0.000  0.1810  0.0  0.7130  6.376  0.884  2.5671  24.0  0.0666   \n",
       "..        ...    ...     ...  ...     ...    ...    ...     ...   ...     ...   \n",
       "399  0.002198  0.000  0.0691  0.0  0.4480  5.602  0.620  6.0877   3.0  0.0233   \n",
       "400  0.001621  0.200  0.0696  0.0  0.4640  6.240  0.163  4.4290   3.0  0.0223   \n",
       "401  0.000347  0.350  0.0606  0.0  0.4379  6.031  0.233  6.6407   1.0  0.0304   \n",
       "402  0.021492  0.000  0.1958  0.0  0.8710  5.709  0.985  1.6232   5.0  0.0403   \n",
       "403  0.000144  0.600  0.0293  0.0  0.4010  6.604  0.188  6.2196   1.0  0.0265   \n",
       "\n",
       "        10       11      12  \n",
       "0    0.210  0.39690  0.1872  \n",
       "1    0.147  0.39538  0.0311  \n",
       "2    0.202  0.37552  0.0326  \n",
       "3    0.202  0.39690  0.0801  \n",
       "4    0.202  0.39143  0.1465  \n",
       "..     ...      ...     ...  \n",
       "399  0.179  0.39690  0.1620  \n",
       "400  0.186  0.39690  0.0659  \n",
       "401  0.169  0.36225  0.0783  \n",
       "402  0.147  0.26195  0.1579  \n",
       "403  0.156  0.37670  0.0438  \n",
       "\n",
       "[404 rows x 13 columns]"
      ]
     },
     "execution_count": 37,
     "metadata": {},
     "output_type": "execute_result"
    }
   ],
   "source": [
    "pd.DataFrame(x_train)"
   ]
  },
  {
   "cell_type": "markdown",
   "metadata": {},
   "source": [
    "print(np.max(x_train, axis=1))"
   ]
  },
  {
   "cell_type": "code",
   "execution_count": null,
   "metadata": {},
   "outputs": [],
   "source": []
  },
  {
   "cell_type": "markdown",
   "metadata": {},
   "source": [
    "sns.pairplot(df_train)"
   ]
  },
  {
   "cell_type": "code",
   "execution_count": 38,
   "metadata": {},
   "outputs": [],
   "source": [
    "from keras import models\n",
    "from keras import layers\n",
    "\n",
    "from keras.models import Sequential\n",
    "from keras.layers import Dense, Dropout, Activation"
   ]
  },
  {
   "cell_type": "code",
   "execution_count": 39,
   "metadata": {},
   "outputs": [],
   "source": [
    "\n",
    "\n",
    "def create_model_01():\n",
    "    model = models.Sequential()\n",
    "    model.add(layers.Dense(64, input_dim=x_train.shape[1], activation='relu'))\n",
    "    model.add(layers.Dense(1))\n",
    "    model.compile(optimizer='rmsprop', loss='mse', metrics=['mae'])\n",
    "    return model"
   ]
  },
  {
   "cell_type": "code",
   "execution_count": 40,
   "metadata": {},
   "outputs": [],
   "source": [
    "from keras.optimizers import Adam # Optimizer\n",
    "\n",
    "def create_model_02():\n",
    "    # create model\n",
    "    model = Sequential()\n",
    "    model.add(Dense(320, input_dim=x_train.shape[1], activation='relu'))\n",
    "    model.add(Dense(384, activation='relu'))\n",
    "    model.add(Dense(352, activation='relu'))\n",
    "    model.add(Dense(448, activation='relu'))\n",
    "    model.add(Dense(160, activation='relu'))\n",
    "    model.add(Dense(160, activation='relu'))\n",
    "    model.add(Dense(32, activation='relu'))\n",
    "    model.add(Dense(1))\n",
    "    # Compile model\n",
    "    model.compile(optimizer=Adam(learning_rate=0.0001), loss = 'mape', metrics=['mae']) #'mse')\n",
    "    return model"
   ]
  },
  {
   "cell_type": "markdown",
   "metadata": {},
   "source": [
    "model = Sequential()\n",
    "\n",
    "model.add(Dense(16, activation='sigmoid', input_shape=(13,)))\n",
    "model.add(Dense(1, activation='linear'))"
   ]
  },
  {
   "cell_type": "code",
   "execution_count": 41,
   "metadata": {},
   "outputs": [],
   "source": [
    "model = Sequential([\n",
    "    Dense(250, input_shape=(13,)),\n",
    "    Activation('sigmoid'),\n",
    "    Dense(10),\n",
    "    Activation('linear'),\n",
    "    Activation('softmax'),\n",
    "    Dense(1)\n",
    "])\n"
   ]
  },
  {
   "cell_type": "code",
   "execution_count": 42,
   "metadata": {},
   "outputs": [
    {
     "name": "stdout",
     "output_type": "stream",
     "text": [
      "Model: \"sequential_4\"\n",
      "_________________________________________________________________\n",
      "Layer (type)                 Output Shape              Param #   \n",
      "=================================================================\n",
      "dense_15 (Dense)             (None, 320)               4480      \n",
      "_________________________________________________________________\n",
      "dense_16 (Dense)             (None, 384)               123264    \n",
      "_________________________________________________________________\n",
      "dense_17 (Dense)             (None, 352)               135520    \n",
      "_________________________________________________________________\n",
      "dense_18 (Dense)             (None, 448)               158144    \n",
      "_________________________________________________________________\n",
      "dense_19 (Dense)             (None, 160)               71840     \n",
      "_________________________________________________________________\n",
      "dense_20 (Dense)             (None, 160)               25760     \n",
      "_________________________________________________________________\n",
      "dense_21 (Dense)             (None, 32)                5152      \n",
      "_________________________________________________________________\n",
      "dense_22 (Dense)             (None, 1)                 33        \n",
      "=================================================================\n",
      "Total params: 524,193\n",
      "Trainable params: 524,193\n",
      "Non-trainable params: 0\n",
      "_________________________________________________________________\n"
     ]
    }
   ],
   "source": [
    "\n",
    "model = create_model_02()\n",
    "model.summary()\n",
    "#model.build(input_shape=(None,3))# build the model by calling the build method"
   ]
  },
  {
   "cell_type": "code",
   "execution_count": 48,
   "metadata": {},
   "outputs": [
    {
     "name": "stdout",
     "output_type": "stream",
     "text": [
      "Train on 258 samples, validate on 65 samples\n",
      "Epoch 1/20\n",
      "258/258 [==============================] - 0s 95us/step - loss: 57.7878 - mae: 12.4422 - val_loss: 59.0342 - val_mae: 14.4051\n",
      "Epoch 2/20\n",
      "258/258 [==============================] - 0s 89us/step - loss: 55.6478 - mae: 11.9581 - val_loss: 56.5753 - val_mae: 13.8869\n",
      "Epoch 3/20\n",
      "258/258 [==============================] - 0s 92us/step - loss: 53.0155 - mae: 11.4315 - val_loss: 53.7572 - val_mae: 13.2829\n",
      "Epoch 4/20\n",
      "258/258 [==============================] - 0s 100us/step - loss: 50.1013 - mae: 10.8532 - val_loss: 50.6642 - val_mae: 12.6418\n",
      "Epoch 5/20\n",
      "258/258 [==============================] - 0s 109us/step - loss: 46.6656 - mae: 10.1648 - val_loss: 47.1296 - val_mae: 11.8776\n",
      "Epoch 6/20\n",
      "258/258 [==============================] - 0s 116us/step - loss: 42.7938 - mae: 9.3656 - val_loss: 43.0238 - val_mae: 10.9579\n",
      "Epoch 7/20\n",
      "258/258 [==============================] - 0s 110us/step - loss: 38.4525 - mae: 8.4262 - val_loss: 38.4872 - val_mae: 9.8538\n",
      "Epoch 8/20\n",
      "258/258 [==============================] - 0s 106us/step - loss: 34.2504 - mae: 7.4131 - val_loss: 33.9730 - val_mae: 8.6736\n",
      "Epoch 9/20\n",
      "258/258 [==============================] - 0s 112us/step - loss: 29.9800 - mae: 6.4093 - val_loss: 29.7148 - val_mae: 7.6728\n",
      "Epoch 10/20\n",
      "258/258 [==============================] - 0s 155us/step - loss: 26.5761 - mae: 5.7288 - val_loss: 26.1301 - val_mae: 6.9087\n",
      "Epoch 11/20\n",
      "258/258 [==============================] - 0s 126us/step - loss: 24.0773 - mae: 5.3117 - val_loss: 23.8711 - val_mae: 6.4924\n",
      "Epoch 12/20\n",
      "258/258 [==============================] - 0s 109us/step - loss: 22.7532 - mae: 5.1579 - val_loss: 23.3919 - val_mae: 6.3981\n",
      "Epoch 13/20\n",
      "258/258 [==============================] - 0s 107us/step - loss: 22.4348 - mae: 5.1624 - val_loss: 23.5159 - val_mae: 6.4085\n",
      "Epoch 14/20\n",
      "258/258 [==============================] - 0s 128us/step - loss: 22.6973 - mae: 5.2102 - val_loss: 23.3446 - val_mae: 6.3306\n",
      "Epoch 15/20\n",
      "258/258 [==============================] - 0s 94us/step - loss: 22.1877 - mae: 5.0988 - val_loss: 22.9153 - val_mae: 6.2222\n",
      "Epoch 16/20\n",
      "258/258 [==============================] - 0s 105us/step - loss: 21.7271 - mae: 4.9563 - val_loss: 22.6082 - val_mae: 6.1608\n",
      "Epoch 17/20\n",
      "258/258 [==============================] - 0s 102us/step - loss: 21.3008 - mae: 4.9124 - val_loss: 22.8875 - val_mae: 6.4059\n",
      "Epoch 18/20\n",
      "258/258 [==============================] - 0s 103us/step - loss: 21.2140 - mae: 4.9966 - val_loss: 23.0609 - val_mae: 6.4857\n",
      "Epoch 19/20\n",
      "258/258 [==============================] - 0s 132us/step - loss: 20.9741 - mae: 4.9356 - val_loss: 22.4249 - val_mae: 6.2122\n",
      "Epoch 20/20\n",
      "258/258 [==============================] - 0s 132us/step - loss: 20.6922 - mae: 4.7776 - val_loss: 22.1761 - val_mae: 6.1126\n"
     ]
    }
   ],
   "source": [
    "from sklearn.model_selection import train_test_split\n",
    "\n",
    "x_train, x_valid, y_train, y_valid = train_test_split(x_train, y_train, test_size=.2)\n",
    "\n",
    "history = model.fit(x_train, y_train, \n",
    "                    batch_size=100, epochs=20, \n",
    "                    validation_data=(x_valid, y_valid))"
   ]
  },
  {
   "cell_type": "markdown",
   "metadata": {},
   "source": [
    "model.compile(optimizer='sgd', loss='mse', metrics=['mape']) \n",
    "#sgd - stochastic gradient descent\n",
    "#mse - mean square error\n",
    "#mape - mean absolute percentage error"
   ]
  },
  {
   "cell_type": "code",
   "execution_count": null,
   "metadata": {},
   "outputs": [],
   "source": []
  },
  {
   "cell_type": "code",
   "execution_count": 49,
   "metadata": {},
   "outputs": [
    {
     "data": {
      "text/plain": [
       "((258, 13), (65, 13))"
      ]
     },
     "execution_count": 49,
     "metadata": {},
     "output_type": "execute_result"
    }
   ],
   "source": [
    "x_train.shape, x_valid.shape"
   ]
  },
  {
   "cell_type": "markdown",
   "metadata": {},
   "source": [
    "for i in  range(2):\n",
    "    \n",
    "    model = create_model_02()\n",
    "\n",
    "    history = model.fit(x_train, y_train, batch_size=4, epochs=10, validation_data=(x_valid, y_valid))\n",
    "\n",
    "    all_scores = []\n",
    "    all_mae_histories = []\n",
    "\n",
    "    mae_history = history.history['val_loss']\n",
    "    all_mae_histories.append(mae_history)\n",
    "    \n",
    "    val_mse, val_mae = model.evaluate(x_valid, y_valid, verbose=0)\n",
    "    all_scores.append(val_mae)"
   ]
  },
  {
   "cell_type": "markdown",
   "metadata": {},
   "source": [
    "all_scores"
   ]
  },
  {
   "cell_type": "markdown",
   "metadata": {},
   "source": [
    "num_epochs = 100\n",
    "\n",
    "average_mae_history = [np.mean([x[i] for x in all_mae_histories]) for i in range(num_epochs)]\n",
    "\n",
    "import matplotlib.pyplot as plt\n",
    "\n",
    "plt.figure(1)\n",
    "plt.plot(range(1, len(average_mae_history) + 1), average_mae_history, 'r', label='aver_mae')\n",
    "plt.title('MAE')\n",
    "plt.xlabel('Epochs')\n",
    "plt.ylabel('Validation MAE')\n",
    "plt.legend()\n",
    "plt.show()"
   ]
  },
  {
   "cell_type": "code",
   "execution_count": 50,
   "metadata": {},
   "outputs": [
    {
     "data": {
      "text/plain": [
       "(258, 13)"
      ]
     },
     "execution_count": 50,
     "metadata": {},
     "output_type": "execute_result"
    }
   ],
   "source": [
    "x_train.shape"
   ]
  },
  {
   "cell_type": "code",
   "execution_count": 51,
   "metadata": {},
   "outputs": [
    {
     "data": {
      "text/plain": [
       "{'val_loss': [59.034210205078125,\n",
       "  56.575252532958984,\n",
       "  53.757225036621094,\n",
       "  50.66421890258789,\n",
       "  47.12959671020508,\n",
       "  43.023826599121094,\n",
       "  38.48719024658203,\n",
       "  33.97299575805664,\n",
       "  29.714763641357422,\n",
       "  26.13007164001465,\n",
       "  23.87112045288086,\n",
       "  23.391878128051758,\n",
       "  23.515851974487305,\n",
       "  23.34461212158203,\n",
       "  22.915327072143555,\n",
       "  22.60817527770996,\n",
       "  22.88750648498535,\n",
       "  23.060941696166992,\n",
       "  22.424896240234375,\n",
       "  22.176145553588867],\n",
       " 'val_mae': [14.405080795288086,\n",
       "  13.886862754821777,\n",
       "  13.282851219177246,\n",
       "  12.641829490661621,\n",
       "  11.877623558044434,\n",
       "  10.957853317260742,\n",
       "  9.853775024414062,\n",
       "  8.673635482788086,\n",
       "  7.672811031341553,\n",
       "  6.9087443351745605,\n",
       "  6.492354393005371,\n",
       "  6.398119926452637,\n",
       "  6.40845251083374,\n",
       "  6.330595016479492,\n",
       "  6.2221503257751465,\n",
       "  6.160761833190918,\n",
       "  6.405909538269043,\n",
       "  6.485743999481201,\n",
       "  6.212182998657227,\n",
       "  6.112637996673584],\n",
       " 'loss': [57.78784496100374,\n",
       "  55.647772618966506,\n",
       "  53.0154712884001,\n",
       "  50.10133305630943,\n",
       "  46.66555839361146,\n",
       "  42.793755109920056,\n",
       "  38.45253052822379,\n",
       "  34.25041558021723,\n",
       "  29.97997170086055,\n",
       "  26.576116029606307,\n",
       "  24.07731721567553,\n",
       "  22.753167026726775,\n",
       "  22.434753521468288,\n",
       "  22.697292712307714,\n",
       "  22.187749611314878,\n",
       "  21.727063393408013,\n",
       "  21.300787696542667,\n",
       "  21.213999578195025,\n",
       "  20.974105790603993,\n",
       "  20.692238046217334],\n",
       " 'mae': [12.442237,\n",
       "  11.958075,\n",
       "  11.431471,\n",
       "  10.8532095,\n",
       "  10.164805,\n",
       "  9.365619,\n",
       "  8.426206,\n",
       "  7.4130554,\n",
       "  6.409255,\n",
       "  5.7287784,\n",
       "  5.3117175,\n",
       "  5.1579137,\n",
       "  5.162402,\n",
       "  5.210185,\n",
       "  5.098803,\n",
       "  4.9563136,\n",
       "  4.9124064,\n",
       "  4.9966226,\n",
       "  4.935565,\n",
       "  4.7775903]}"
      ]
     },
     "execution_count": 51,
     "metadata": {},
     "output_type": "execute_result"
    }
   ],
   "source": [
    "history.history"
   ]
  },
  {
   "cell_type": "code",
   "execution_count": 52,
   "metadata": {},
   "outputs": [
    {
     "data": {
      "image/png": "[encoded data removed]",
      "text/plain": [
       "<Figure size 432x288 with 1 Axes>"
      ]
     },
     "metadata": {
      "needs_background": "light"
     },
     "output_type": "display_data"
    }
   ],
   "source": [
    "for name, value in history.history.items():\n",
    "    plt.plot(value, label=name)\n",
    "plt.legend()\n",
    "plt.show()"
   ]
  },
  {
   "cell_type": "markdown",
   "metadata": {},
   "source": [
    "## evaluate model"
   ]
  },
  {
   "cell_type": "code",
   "execution_count": 53,
   "metadata": {},
   "outputs": [
    {
     "name": "stdout",
     "output_type": "stream",
     "text": [
      "102/102 [==============================] - 0s 73us/step\n"
     ]
    }
   ],
   "source": [
    "results = model.evaluate(x_test, y_test)"
   ]
  },
  {
   "cell_type": "code",
   "execution_count": 54,
   "metadata": {},
   "outputs": [
    {
     "data": {
      "text/plain": [
       "[26.656003765031404, 5.999680995941162]"
      ]
     },
     "execution_count": 54,
     "metadata": {},
     "output_type": "execute_result"
    }
   ],
   "source": [
    "results"
   ]
  },
  {
   "cell_type": "markdown",
   "metadata": {},
   "source": [
    "print('Loss: {:.6f} - MAPE: {:.6f}'.format(*results))"
   ]
  },
  {
   "cell_type": "markdown",
   "metadata": {},
   "source": [
    "## list predicted value"
   ]
  },
  {
   "cell_type": "code",
   "execution_count": 55,
   "metadata": {},
   "outputs": [],
   "source": [
    "test_pred = model.predict(x_test)"
   ]
  },
  {
   "cell_type": "code",
   "execution_count": 56,
   "metadata": {},
   "outputs": [],
   "source": [
    "test_pred = np.squeeze(test_pred)"
   ]
  },
  {
   "cell_type": "code",
   "execution_count": 57,
   "metadata": {
    "scrolled": true
   },
   "outputs": [
    {
     "data": {
      "text/plain": [
       "array([13.693203, 16.967955, 21.403566, 17.681631, 20.820435, 16.986467,\n",
       "       26.362543, 23.167852, 18.42011 , 15.528862, 19.21119 , 21.092405,\n",
       "       17.491228, 24.312668, 12.515647, 26.408499, 23.415173, 23.703005,\n",
       "       15.978113, 14.977759, 12.147193, 12.870399, 18.855581, 25.202845,\n",
       "       29.14229 , 16.00598 , 20.22344 , 35.029438, 13.845425, 24.029116,\n",
       "       18.236088, 14.913927, 24.356693, 22.987526, 13.996168, 10.756252,\n",
       "       15.345596, 17.460026, 17.733696, 28.953106, 31.441628, 22.019264,\n",
       "       13.98624 , 22.042055, 20.708454, 20.262709, 20.073896, 20.119568,\n",
       "       15.50843 , 20.930012, 30.776983, 23.543062, 11.231828, 20.328842,\n",
       "       24.187086, 23.0968  , 13.186258, 23.709122, 23.003397, 23.686811,\n",
       "       15.948519, 13.674887, 13.951555, 17.303082, 21.94354 , 29.712683,\n",
       "       14.2966  , 25.797937, 15.012655, 12.509931, 15.139964, 29.666094,\n",
       "       15.500264, 15.726167, 23.193857, 23.829878, 24.05867 , 21.396908,\n",
       "       24.519608, 10.724512, 18.386818, 21.324945, 25.188282, 14.080147,\n",
       "       19.801485, 23.801834, 13.558632, 18.66166 , 20.822416, 17.528032,\n",
       "       23.4875  , 30.828577, 25.824072, 32.74128 , 22.415073, 16.844017,\n",
       "       20.469282, 18.980017, 21.147495, 22.068848, 19.712355, 17.79287 ],\n",
       "      dtype=float32)"
      ]
     },
     "execution_count": 57,
     "metadata": {},
     "output_type": "execute_result"
    }
   ],
   "source": [
    "test_pred"
   ]
  },
  {
   "cell_type": "markdown",
   "metadata": {},
   "source": [
    "## compare predicted value to true value"
   ]
  },
  {
   "cell_type": "code",
   "execution_count": 58,
   "metadata": {
    "scrolled": true
   },
   "outputs": [
    {
     "name": "stdout",
     "output_type": "stream",
     "text": [
      "Pred: 13.693203 - True: 7.200000\n",
      "Pred: 16.967955 - True: 18.800000\n",
      "Pred: 21.403566 - True: 19.000000\n",
      "Pred: 17.681631 - True: 27.000000\n",
      "Pred: 20.820435 - True: 22.200000\n",
      "Pred: 16.986467 - True: 24.500000\n",
      "Pred: 26.362543 - True: 31.200000\n",
      "Pred: 23.167852 - True: 22.900000\n",
      "Pred: 18.420111 - True: 20.500000\n",
      "Pred: 15.528862 - True: 23.200000\n",
      "Pred: 19.211189 - True: 18.600000\n",
      "Pred: 21.092405 - True: 14.500000\n",
      "Pred: 17.491228 - True: 17.800000\n",
      "Pred: 24.312668 - True: 50.000000\n",
      "Pred: 12.515647 - True: 20.800000\n",
      "Pred: 26.408499 - True: 24.300000\n",
      "Pred: 23.415173 - True: 24.200000\n",
      "Pred: 23.703005 - True: 19.800000\n",
      "Pred: 15.978113 - True: 19.100000\n",
      "Pred: 14.977759 - True: 22.700000\n",
      "Pred: 12.147193 - True: 12.000000\n",
      "Pred: 12.870399 - True: 10.200000\n",
      "Pred: 18.855581 - True: 20.000000\n",
      "Pred: 25.202845 - True: 18.500000\n",
      "Pred: 29.142290 - True: 20.900000\n",
      "Pred: 16.005980 - True: 23.000000\n",
      "Pred: 20.223440 - True: 27.500000\n",
      "Pred: 35.029438 - True: 30.100000\n",
      "Pred: 13.845425 - True: 9.500000\n",
      "Pred: 24.029116 - True: 22.000000\n",
      "Pred: 18.236088 - True: 21.200000\n",
      "Pred: 14.913927 - True: 14.100000\n",
      "Pred: 24.356693 - True: 33.100000\n",
      "Pred: 22.987526 - True: 23.400000\n",
      "Pred: 13.996168 - True: 20.100000\n",
      "Pred: 10.756252 - True: 7.400000\n",
      "Pred: 15.345596 - True: 15.400000\n",
      "Pred: 17.460026 - True: 23.800000\n",
      "Pred: 17.733696 - True: 20.100000\n",
      "Pred: 28.953106 - True: 24.500000\n",
      "Pred: 31.441628 - True: 33.000000\n",
      "Pred: 22.019264 - True: 28.400000\n",
      "Pred: 13.986240 - True: 14.100000\n",
      "Pred: 22.042055 - True: 46.700000\n",
      "Pred: 20.708454 - True: 32.500000\n",
      "Pred: 20.262709 - True: 29.600000\n",
      "Pred: 20.073896 - True: 28.400000\n",
      "Pred: 20.119568 - True: 19.800000\n",
      "Pred: 15.508430 - True: 20.200000\n",
      "Pred: 20.930012 - True: 25.000000\n",
      "Pred: 30.776983 - True: 35.400000\n",
      "Pred: 23.543062 - True: 20.300000\n",
      "Pred: 11.231828 - True: 9.700000\n",
      "Pred: 20.328842 - True: 14.500000\n",
      "Pred: 24.187086 - True: 34.900000\n",
      "Pred: 23.096800 - True: 26.600000\n",
      "Pred: 13.186258 - True: 7.200000\n",
      "Pred: 23.709122 - True: 50.000000\n",
      "Pred: 23.003397 - True: 32.400000\n",
      "Pred: 23.686811 - True: 21.600000\n",
      "Pred: 15.948519 - True: 29.800000\n",
      "Pred: 13.674887 - True: 13.100000\n",
      "Pred: 13.951555 - True: 27.500000\n",
      "Pred: 17.303082 - True: 21.200000\n",
      "Pred: 21.943541 - True: 23.100000\n",
      "Pred: 29.712683 - True: 21.900000\n",
      "Pred: 14.296600 - True: 13.000000\n",
      "Pred: 25.797937 - True: 23.200000\n",
      "Pred: 15.012655 - True: 8.100000\n",
      "Pred: 12.509931 - True: 5.600000\n",
      "Pred: 15.139964 - True: 21.700000\n",
      "Pred: 29.666094 - True: 29.600000\n",
      "Pred: 15.500264 - True: 19.600000\n",
      "Pred: 15.726167 - True: 7.000000\n",
      "Pred: 23.193857 - True: 26.400000\n",
      "Pred: 23.829878 - True: 18.900000\n",
      "Pred: 24.058670 - True: 20.900000\n",
      "Pred: 21.396908 - True: 28.100000\n",
      "Pred: 24.519608 - True: 35.400000\n",
      "Pred: 10.724512 - True: 10.200000\n",
      "Pred: 18.386818 - True: 24.300000\n",
      "Pred: 21.324945 - True: 43.100000\n",
      "Pred: 25.188282 - True: 17.600000\n",
      "Pred: 14.080147 - True: 15.400000\n",
      "Pred: 19.801485 - True: 16.200000\n",
      "Pred: 23.801834 - True: 27.100000\n",
      "Pred: 13.558632 - True: 21.400000\n",
      "Pred: 18.661659 - True: 21.500000\n",
      "Pred: 20.822416 - True: 22.400000\n",
      "Pred: 17.528032 - True: 25.000000\n",
      "Pred: 23.487499 - True: 16.600000\n",
      "Pred: 30.828577 - True: 18.600000\n",
      "Pred: 25.824072 - True: 22.000000\n",
      "Pred: 32.741280 - True: 42.800000\n",
      "Pred: 22.415073 - True: 35.100000\n",
      "Pred: 16.844017 - True: 21.500000\n",
      "Pred: 20.469282 - True: 36.000000\n",
      "Pred: 18.980017 - True: 21.900000\n",
      "Pred: 21.147495 - True: 24.100000\n",
      "Pred: 22.068848 - True: 50.000000\n",
      "Pred: 19.712355 - True: 26.700000\n",
      "Pred: 17.792870 - True: 25.000000\n"
     ]
    }
   ],
   "source": [
    "for pred, true in zip(test_pred, y_test):\n",
    "    print('Pred: {:.6f} - True: {:.6f}'.format(pred,true))"
   ]
  },
  {
   "cell_type": "markdown",
   "metadata": {},
   "source": [
    "## Save model"
   ]
  },
  {
   "cell_type": "markdown",
   "metadata": {},
   "source": [
    "model_path = 'model.h5'\n",
    "model.save(model_path)"
   ]
  },
  {
   "cell_type": "code",
   "execution_count": 50,
   "metadata": {},
   "outputs": [],
   "source": [
    "from keras.models import load_model"
   ]
  },
  {
   "cell_type": "markdown",
   "metadata": {},
   "source": [
    "loaded_model = load_model(model_path)"
   ]
  },
  {
   "cell_type": "markdown",
   "metadata": {},
   "source": [
    "loaded_model.summary()"
   ]
  },
  {
   "cell_type": "code",
   "execution_count": 59,
   "metadata": {},
   "outputs": [
    {
     "data": {
      "image/png": "[encoded data removed]",
      "text/plain": [
       "<Figure size 504x360 with 1 Axes>"
      ]
     },
     "metadata": {
      "needs_background": "light"
     },
     "output_type": "display_data"
    }
   ],
   "source": [
    "plt.figure(figsize=(7, 5))\n",
    "plt.plot(x_test, y_test, '.y', x_test, test_pred, '.b')\n",
    "plt.show()"
   ]
  },
  {
   "cell_type": "code",
   "execution_count": 60,
   "metadata": {},
   "outputs": [
    {
     "data": {
      "image/png": "[encoded data removed]",
      "text/plain": [
       "<Figure size 504x360 with 1 Axes>"
      ]
     },
     "metadata": {
      "needs_background": "light"
     },
     "output_type": "display_data"
    }
   ],
   "source": [
    "train_pred = model.predict(x_train)\n",
    "train_pred = np.squeeze(train_pred)\n",
    "\n",
    "plt.figure(figsize=(7, 5))\n",
    "plt.plot(x_train, y_train, '.r', x_train, train_pred, '.b')\n",
    "plt.show()"
   ]
  },
  {
   "cell_type": "code",
   "execution_count": 61,
   "metadata": {},
   "outputs": [],
   "source": [
    "import shap"
   ]
  },
  {
   "cell_type": "code",
   "execution_count": 62,
   "metadata": {},
   "outputs": [
    {
     "name": "stdout",
     "output_type": "stream",
     "text": [
      "WARNING:tensorflow:From /opt/anaconda3/envs/myenv/lib/python3.7/site-packages/shap/explainers/tf_utils.py:28: The name tf.keras.backend.get_session is deprecated. Please use tf.compat.v1.keras.backend.get_session instead.\n",
      "\n",
      "WARNING:tensorflow:From /opt/anaconda3/envs/myenv/lib/python3.7/site-packages/shap/explainers/_deep/deep_tf.py:608: add_dispatch_support.<locals>.wrapper (from tensorflow.python.ops.array_ops) is deprecated and will be removed in a future version.\n",
      "Instructions for updating:\n",
      "Use tf.where in 2.0, which has the same broadcast rule as np.where\n"
     ]
    }
   ],
   "source": [
    "# select backgroud for shap\n",
    "background = x_train[np.random.choice(x_train.shape[0], 100, replace=False)]\n",
    "# DeepExplainer to explain predictions of the model\n",
    "explainer = shap.DeepExplainer(model, background)\n",
    "# compute shap values\n",
    "shap_values = explainer.shap_values(x_test)"
   ]
  },
  {
   "cell_type": "code",
   "execution_count": 63,
   "metadata": {},
   "outputs": [
    {
     "data": {
      "image/png": "[encoded data removed]",
      "text/plain": [
       "<Figure size 576x482.4 with 1 Axes>"
      ]
     },
     "metadata": {
      "needs_background": "light"
     },
     "output_type": "display_data"
    }
   ],
   "source": [
    "shap.summary_plot(shap_values, \n",
    "                  features=x_train, \n",
    "                  feature_names=col_name)"
   ]
  },
  {
   "cell_type": "code",
   "execution_count": null,
   "metadata": {},
   "outputs": [],
   "source": []
  },
  {
   "cell_type": "code",
   "execution_count": null,
   "metadata": {},
   "outputs": [],
   "source": []
  }
 ],
 "metadata": {
  "kernelspec": {
   "display_name": "Python 3 (ipykernel)",
   "language": "python",
   "name": "python3"
  },
  "language_info": {
   "codemirror_mode": {
    "name": "ipython",
    "version": 3
   },
   "file_extension": ".py",
   "mimetype": "text/x-python",
   "name": "python",
   "nbconvert_exporter": "python",
   "pygments_lexer": "ipython3",
   "version": "3.7.11"
  }
 },
 "nbformat": 4,
 "nbformat_minor": 4
}
