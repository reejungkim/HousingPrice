{
 "cells": [
  {
   "cell_type": "code",
   "execution_count": 1,
   "metadata": {},
   "outputs": [],
   "source": [
    "import pandas as pd\n",
    "import numpy as np\n",
    "import timeit\n",
    "import datetime as dt\n",
    "import matplotlib.pyplot as plt\n",
    "import seaborn as sns\n",
    "#import plotly.graph_objs as go\n",
    "%matplotlib inline"
   ]
  },
  {
   "cell_type": "code",
   "execution_count": 2,
   "metadata": {},
   "outputs": [
    {
     "name": "stderr",
     "output_type": "stream",
     "text": [
      "/opt/anaconda3/envs/myenv/lib/python3.7/site-packages/tensorflow/python/framework/dtypes.py:516: FutureWarning: Passing (type, 1) or '1type' as a synonym of type is deprecated; in a future version of numpy, it will be understood as (type, (1,)) / '(1,)type'.\n",
      "  _np_qint8 = np.dtype([(\"qint8\", np.int8, 1)])\n",
      "/opt/anaconda3/envs/myenv/lib/python3.7/site-packages/tensorflow/python/framework/dtypes.py:517: FutureWarning: Passing (type, 1) or '1type' as a synonym of type is deprecated; in a future version of numpy, it will be understood as (type, (1,)) / '(1,)type'.\n",
      "  _np_quint8 = np.dtype([(\"quint8\", np.uint8, 1)])\n",
      "/opt/anaconda3/envs/myenv/lib/python3.7/site-packages/tensorflow/python/framework/dtypes.py:518: FutureWarning: Passing (type, 1) or '1type' as a synonym of type is deprecated; in a future version of numpy, it will be understood as (type, (1,)) / '(1,)type'.\n",
      "  _np_qint16 = np.dtype([(\"qint16\", np.int16, 1)])\n",
      "/opt/anaconda3/envs/myenv/lib/python3.7/site-packages/tensorflow/python/framework/dtypes.py:519: FutureWarning: Passing (type, 1) or '1type' as a synonym of type is deprecated; in a future version of numpy, it will be understood as (type, (1,)) / '(1,)type'.\n",
      "  _np_quint16 = np.dtype([(\"quint16\", np.uint16, 1)])\n",
      "/opt/anaconda3/envs/myenv/lib/python3.7/site-packages/tensorflow/python/framework/dtypes.py:520: FutureWarning: Passing (type, 1) or '1type' as a synonym of type is deprecated; in a future version of numpy, it will be understood as (type, (1,)) / '(1,)type'.\n",
      "  _np_qint32 = np.dtype([(\"qint32\", np.int32, 1)])\n",
      "/opt/anaconda3/envs/myenv/lib/python3.7/site-packages/tensorflow/python/framework/dtypes.py:525: FutureWarning: Passing (type, 1) or '1type' as a synonym of type is deprecated; in a future version of numpy, it will be understood as (type, (1,)) / '(1,)type'.\n",
      "  np_resource = np.dtype([(\"resource\", np.ubyte, 1)])\n",
      "/opt/anaconda3/envs/myenv/lib/python3.7/site-packages/tensorboard/compat/tensorflow_stub/dtypes.py:541: FutureWarning: Passing (type, 1) or '1type' as a synonym of type is deprecated; in a future version of numpy, it will be understood as (type, (1,)) / '(1,)type'.\n",
      "  _np_qint8 = np.dtype([(\"qint8\", np.int8, 1)])\n",
      "/opt/anaconda3/envs/myenv/lib/python3.7/site-packages/tensorboard/compat/tensorflow_stub/dtypes.py:542: FutureWarning: Passing (type, 1) or '1type' as a synonym of type is deprecated; in a future version of numpy, it will be understood as (type, (1,)) / '(1,)type'.\n",
      "  _np_quint8 = np.dtype([(\"quint8\", np.uint8, 1)])\n",
      "/opt/anaconda3/envs/myenv/lib/python3.7/site-packages/tensorboard/compat/tensorflow_stub/dtypes.py:543: FutureWarning: Passing (type, 1) or '1type' as a synonym of type is deprecated; in a future version of numpy, it will be understood as (type, (1,)) / '(1,)type'.\n",
      "  _np_qint16 = np.dtype([(\"qint16\", np.int16, 1)])\n",
      "/opt/anaconda3/envs/myenv/lib/python3.7/site-packages/tensorboard/compat/tensorflow_stub/dtypes.py:544: FutureWarning: Passing (type, 1) or '1type' as a synonym of type is deprecated; in a future version of numpy, it will be understood as (type, (1,)) / '(1,)type'.\n",
      "  _np_quint16 = np.dtype([(\"quint16\", np.uint16, 1)])\n",
      "/opt/anaconda3/envs/myenv/lib/python3.7/site-packages/tensorboard/compat/tensorflow_stub/dtypes.py:545: FutureWarning: Passing (type, 1) or '1type' as a synonym of type is deprecated; in a future version of numpy, it will be understood as (type, (1,)) / '(1,)type'.\n",
      "  _np_qint32 = np.dtype([(\"qint32\", np.int32, 1)])\n",
      "/opt/anaconda3/envs/myenv/lib/python3.7/site-packages/tensorboard/compat/tensorflow_stub/dtypes.py:550: FutureWarning: Passing (type, 1) or '1type' as a synonym of type is deprecated; in a future version of numpy, it will be understood as (type, (1,)) / '(1,)type'.\n",
      "  np_resource = np.dtype([(\"resource\", np.ubyte, 1)])\n"
     ]
    }
   ],
   "source": [
    "import tensorflow as tf\n",
    "import warnings\n",
    "warnings.simplefilter(action='ignore')"
   ]
  },
  {
   "cell_type": "code",
   "execution_count": 3,
   "metadata": {},
   "outputs": [
    {
     "name": "stderr",
     "output_type": "stream",
     "text": [
      "Using TensorFlow backend.\n"
     ]
    }
   ],
   "source": [
    "\n",
    "from keras.datasets import boston_housing"
   ]
  },
  {
   "cell_type": "markdown",
   "metadata": {},
   "source": [
    "train = pd.read_csv(\"https://raw.githubusercontent.com/reejungkim/HousingPrice/master/train.csv\", error_bad_lines=False)\n",
    "train.head()\n",
    "\n",
    "test = pd.read_csv(\"https://raw.githubusercontent.com/reejungkim/HousingPrice/master/test.csv\", error_bad_lines=False)\n",
    "test.head()"
   ]
  },
  {
   "cell_type": "code",
   "execution_count": 4,
   "metadata": {},
   "outputs": [
    {
     "data": {
      "text/plain": [
       "((404, 13), (404,), (102, 13), (102,))"
      ]
     },
     "execution_count": 4,
     "metadata": {},
     "output_type": "execute_result"
    }
   ],
   "source": [
    "pd.DataFrame(boston_housing.load_data())\n",
    "\n",
    "(x_train, y_train), (x_test, y_test) = boston_housing.load_data()\n",
    "\n",
    "x_train.shape, y_train.shape, x_test.shape, y_test.shape"
   ]
  },
  {
   "cell_type": "markdown",
   "metadata": {
    "scrolled": true
   },
   "source": [
    "pd.DataFrame(x_train)"
   ]
  },
  {
   "cell_type": "markdown",
   "metadata": {
    "scrolled": true
   },
   "source": [
    "pd.DataFrame(y_train)"
   ]
  },
  {
   "cell_type": "code",
   "execution_count": 5,
   "metadata": {},
   "outputs": [],
   "source": [
    "pd.set_option('display.max_columns', 100)"
   ]
  },
  {
   "cell_type": "code",
   "execution_count": 6,
   "metadata": {},
   "outputs": [],
   "source": [
    "col_name = ['CRIM', 'ZN', 'INDUS', 'CHAS', 'NOX', 'RM', 'AGE', 'DIS', 'RAD', 'TAX', 'PTRATIO', 'B', 'LSTAT', 'MEDV']"
   ]
  },
  {
   "cell_type": "code",
   "execution_count": 7,
   "metadata": {},
   "outputs": [],
   "source": [
    "train_data = np.concatenate([x_train, y_train[:, np.newaxis]], axis=1)\n",
    "#train_data = pd.concat( [pd.DataFrame(x_train), pd.DataFrame(y_train)], axis=1, ignore_index=True).values\n",
    "test_data = np.concatenate([x_test, y_test[:, np.newaxis]], axis=1)"
   ]
  },
  {
   "cell_type": "code",
   "execution_count": 8,
   "metadata": {},
   "outputs": [],
   "source": [
    "df_train = pd.DataFrame(train_data, columns=col_name)\n",
    "df_test = pd.DataFrame(test_data, columns=col_name)"
   ]
  },
  {
   "cell_type": "code",
   "execution_count": 9,
   "metadata": {},
   "outputs": [
    {
     "data": {
      "text/html": [
       "<div>\n",
       "<style scoped>\n",
       "    .dataframe tbody tr th:only-of-type {\n",
       "        vertical-align: middle;\n",
       "    }\n",
       "\n",
       "    .dataframe tbody tr th {\n",
       "        vertical-align: top;\n",
       "    }\n",
       "\n",
       "    .dataframe thead th {\n",
       "        text-align: right;\n",
       "    }\n",
       "</style>\n",
       "<table border=\"1\" class=\"dataframe\">\n",
       "  <thead>\n",
       "    <tr style=\"text-align: right;\">\n",
       "      <th></th>\n",
       "      <th>CRIM</th>\n",
       "      <th>ZN</th>\n",
       "      <th>INDUS</th>\n",
       "      <th>CHAS</th>\n",
       "      <th>NOX</th>\n",
       "      <th>RM</th>\n",
       "      <th>AGE</th>\n",
       "      <th>DIS</th>\n",
       "      <th>RAD</th>\n",
       "      <th>TAX</th>\n",
       "      <th>PTRATIO</th>\n",
       "      <th>B</th>\n",
       "      <th>LSTAT</th>\n",
       "      <th>MEDV</th>\n",
       "    </tr>\n",
       "  </thead>\n",
       "  <tbody>\n",
       "    <tr>\n",
       "      <th>0</th>\n",
       "      <td>1.23247</td>\n",
       "      <td>0.0</td>\n",
       "      <td>8.14</td>\n",
       "      <td>0.0</td>\n",
       "      <td>0.538</td>\n",
       "      <td>6.142</td>\n",
       "      <td>91.7</td>\n",
       "      <td>3.9769</td>\n",
       "      <td>4.0</td>\n",
       "      <td>307.0</td>\n",
       "      <td>21.0</td>\n",
       "      <td>396.90</td>\n",
       "      <td>18.72</td>\n",
       "      <td>15.2</td>\n",
       "    </tr>\n",
       "    <tr>\n",
       "      <th>1</th>\n",
       "      <td>0.02177</td>\n",
       "      <td>82.5</td>\n",
       "      <td>2.03</td>\n",
       "      <td>0.0</td>\n",
       "      <td>0.415</td>\n",
       "      <td>7.610</td>\n",
       "      <td>15.7</td>\n",
       "      <td>6.2700</td>\n",
       "      <td>2.0</td>\n",
       "      <td>348.0</td>\n",
       "      <td>14.7</td>\n",
       "      <td>395.38</td>\n",
       "      <td>3.11</td>\n",
       "      <td>42.3</td>\n",
       "    </tr>\n",
       "    <tr>\n",
       "      <th>2</th>\n",
       "      <td>4.89822</td>\n",
       "      <td>0.0</td>\n",
       "      <td>18.10</td>\n",
       "      <td>0.0</td>\n",
       "      <td>0.631</td>\n",
       "      <td>4.970</td>\n",
       "      <td>100.0</td>\n",
       "      <td>1.3325</td>\n",
       "      <td>24.0</td>\n",
       "      <td>666.0</td>\n",
       "      <td>20.2</td>\n",
       "      <td>375.52</td>\n",
       "      <td>3.26</td>\n",
       "      <td>50.0</td>\n",
       "    </tr>\n",
       "    <tr>\n",
       "      <th>3</th>\n",
       "      <td>0.03961</td>\n",
       "      <td>0.0</td>\n",
       "      <td>5.19</td>\n",
       "      <td>0.0</td>\n",
       "      <td>0.515</td>\n",
       "      <td>6.037</td>\n",
       "      <td>34.5</td>\n",
       "      <td>5.9853</td>\n",
       "      <td>5.0</td>\n",
       "      <td>224.0</td>\n",
       "      <td>20.2</td>\n",
       "      <td>396.90</td>\n",
       "      <td>8.01</td>\n",
       "      <td>21.1</td>\n",
       "    </tr>\n",
       "    <tr>\n",
       "      <th>4</th>\n",
       "      <td>3.69311</td>\n",
       "      <td>0.0</td>\n",
       "      <td>18.10</td>\n",
       "      <td>0.0</td>\n",
       "      <td>0.713</td>\n",
       "      <td>6.376</td>\n",
       "      <td>88.4</td>\n",
       "      <td>2.5671</td>\n",
       "      <td>24.0</td>\n",
       "      <td>666.0</td>\n",
       "      <td>20.2</td>\n",
       "      <td>391.43</td>\n",
       "      <td>14.65</td>\n",
       "      <td>17.7</td>\n",
       "    </tr>\n",
       "  </tbody>\n",
       "</table>\n",
       "</div>"
      ],
      "text/plain": [
       "      CRIM    ZN  INDUS  CHAS    NOX     RM    AGE     DIS   RAD    TAX  \\\n",
       "0  1.23247   0.0   8.14   0.0  0.538  6.142   91.7  3.9769   4.0  307.0   \n",
       "1  0.02177  82.5   2.03   0.0  0.415  7.610   15.7  6.2700   2.0  348.0   \n",
       "2  4.89822   0.0  18.10   0.0  0.631  4.970  100.0  1.3325  24.0  666.0   \n",
       "3  0.03961   0.0   5.19   0.0  0.515  6.037   34.5  5.9853   5.0  224.0   \n",
       "4  3.69311   0.0  18.10   0.0  0.713  6.376   88.4  2.5671  24.0  666.0   \n",
       "\n",
       "   PTRATIO       B  LSTAT  MEDV  \n",
       "0     21.0  396.90  18.72  15.2  \n",
       "1     14.7  395.38   3.11  42.3  \n",
       "2     20.2  375.52   3.26  50.0  \n",
       "3     20.2  396.90   8.01  21.1  \n",
       "4     20.2  391.43  14.65  17.7  "
      ]
     },
     "execution_count": 9,
     "metadata": {},
     "output_type": "execute_result"
    }
   ],
   "source": [
    "df_train.head()"
   ]
  },
  {
   "cell_type": "code",
   "execution_count": 10,
   "metadata": {},
   "outputs": [],
   "source": [
    "percentages = ['CRIM', 'ZN', 'INDUS', 'AGE', 'PTRATIO', 'LSTAT']"
   ]
  },
  {
   "cell_type": "code",
   "execution_count": 11,
   "metadata": {},
   "outputs": [],
   "source": [
    "#normalizing data\n",
    "for col in percentages:\n",
    "    df_train[col] /=100\n",
    "    df_test[col] /=100\n",
    "    \n",
    "df_train['B'] /=1000\n",
    "df_train['TAX']/=10000\n",
    "df_test['B'] /=1000\n",
    "df_test['TAX']/=10000"
   ]
  },
  {
   "cell_type": "code",
   "execution_count": 12,
   "metadata": {},
   "outputs": [],
   "source": [
    "x_train, y_train = df_train.values[:, :13], df_train.values[:, 13]\n",
    "x_test, y_test = df_test.values[:, :13], df_test.values[:, 13]"
   ]
  },
  {
   "cell_type": "code",
   "execution_count": 13,
   "metadata": {},
   "outputs": [
    {
     "data": {
      "text/html": [
       "<div>\n",
       "<style scoped>\n",
       "    .dataframe tbody tr th:only-of-type {\n",
       "        vertical-align: middle;\n",
       "    }\n",
       "\n",
       "    .dataframe tbody tr th {\n",
       "        vertical-align: top;\n",
       "    }\n",
       "\n",
       "    .dataframe thead th {\n",
       "        text-align: right;\n",
       "    }\n",
       "</style>\n",
       "<table border=\"1\" class=\"dataframe\">\n",
       "  <thead>\n",
       "    <tr style=\"text-align: right;\">\n",
       "      <th></th>\n",
       "      <th>CRIM</th>\n",
       "      <th>ZN</th>\n",
       "      <th>INDUS</th>\n",
       "      <th>CHAS</th>\n",
       "      <th>NOX</th>\n",
       "      <th>RM</th>\n",
       "      <th>AGE</th>\n",
       "      <th>DIS</th>\n",
       "      <th>RAD</th>\n",
       "      <th>TAX</th>\n",
       "      <th>PTRATIO</th>\n",
       "      <th>B</th>\n",
       "      <th>LSTAT</th>\n",
       "      <th>MEDV</th>\n",
       "    </tr>\n",
       "  </thead>\n",
       "  <tbody>\n",
       "    <tr>\n",
       "      <th>count</th>\n",
       "      <td>404.000000</td>\n",
       "      <td>404.000000</td>\n",
       "      <td>404.000000</td>\n",
       "      <td>404.000000</td>\n",
       "      <td>404.000000</td>\n",
       "      <td>404.000000</td>\n",
       "      <td>404.000000</td>\n",
       "      <td>404.000000</td>\n",
       "      <td>404.000000</td>\n",
       "      <td>404.000000</td>\n",
       "      <td>404.000000</td>\n",
       "      <td>404.000000</td>\n",
       "      <td>404.000000</td>\n",
       "      <td>404.000000</td>\n",
       "    </tr>\n",
       "    <tr>\n",
       "      <th>mean</th>\n",
       "      <td>0.037451</td>\n",
       "      <td>0.114802</td>\n",
       "      <td>0.111044</td>\n",
       "      <td>0.061881</td>\n",
       "      <td>0.557356</td>\n",
       "      <td>6.267082</td>\n",
       "      <td>0.690106</td>\n",
       "      <td>3.740271</td>\n",
       "      <td>9.440594</td>\n",
       "      <td>0.040590</td>\n",
       "      <td>0.184760</td>\n",
       "      <td>0.354783</td>\n",
       "      <td>0.127408</td>\n",
       "      <td>22.395050</td>\n",
       "    </tr>\n",
       "    <tr>\n",
       "      <th>std</th>\n",
       "      <td>0.092407</td>\n",
       "      <td>0.237677</td>\n",
       "      <td>0.068113</td>\n",
       "      <td>0.241238</td>\n",
       "      <td>0.117293</td>\n",
       "      <td>0.709788</td>\n",
       "      <td>0.279407</td>\n",
       "      <td>2.030215</td>\n",
       "      <td>8.698360</td>\n",
       "      <td>0.016637</td>\n",
       "      <td>0.022004</td>\n",
       "      <td>0.094111</td>\n",
       "      <td>0.072545</td>\n",
       "      <td>9.210442</td>\n",
       "    </tr>\n",
       "    <tr>\n",
       "      <th>min</th>\n",
       "      <td>0.000063</td>\n",
       "      <td>0.000000</td>\n",
       "      <td>0.004600</td>\n",
       "      <td>0.000000</td>\n",
       "      <td>0.385000</td>\n",
       "      <td>3.561000</td>\n",
       "      <td>0.029000</td>\n",
       "      <td>1.129600</td>\n",
       "      <td>1.000000</td>\n",
       "      <td>0.018800</td>\n",
       "      <td>0.126000</td>\n",
       "      <td>0.000320</td>\n",
       "      <td>0.017300</td>\n",
       "      <td>5.000000</td>\n",
       "    </tr>\n",
       "    <tr>\n",
       "      <th>25%</th>\n",
       "      <td>0.000814</td>\n",
       "      <td>0.000000</td>\n",
       "      <td>0.051300</td>\n",
       "      <td>0.000000</td>\n",
       "      <td>0.453000</td>\n",
       "      <td>5.874750</td>\n",
       "      <td>0.454750</td>\n",
       "      <td>2.077100</td>\n",
       "      <td>4.000000</td>\n",
       "      <td>0.027900</td>\n",
       "      <td>0.172250</td>\n",
       "      <td>0.374673</td>\n",
       "      <td>0.068900</td>\n",
       "      <td>16.675000</td>\n",
       "    </tr>\n",
       "    <tr>\n",
       "      <th>50%</th>\n",
       "      <td>0.002689</td>\n",
       "      <td>0.000000</td>\n",
       "      <td>0.096900</td>\n",
       "      <td>0.000000</td>\n",
       "      <td>0.538000</td>\n",
       "      <td>6.198500</td>\n",
       "      <td>0.785000</td>\n",
       "      <td>3.142300</td>\n",
       "      <td>5.000000</td>\n",
       "      <td>0.033000</td>\n",
       "      <td>0.191000</td>\n",
       "      <td>0.391250</td>\n",
       "      <td>0.113950</td>\n",
       "      <td>20.750000</td>\n",
       "    </tr>\n",
       "    <tr>\n",
       "      <th>75%</th>\n",
       "      <td>0.036748</td>\n",
       "      <td>0.125000</td>\n",
       "      <td>0.181000</td>\n",
       "      <td>0.000000</td>\n",
       "      <td>0.631000</td>\n",
       "      <td>6.609000</td>\n",
       "      <td>0.941000</td>\n",
       "      <td>5.118000</td>\n",
       "      <td>24.000000</td>\n",
       "      <td>0.066600</td>\n",
       "      <td>0.202000</td>\n",
       "      <td>0.396157</td>\n",
       "      <td>0.170925</td>\n",
       "      <td>24.800000</td>\n",
       "    </tr>\n",
       "    <tr>\n",
       "      <th>max</th>\n",
       "      <td>0.889762</td>\n",
       "      <td>1.000000</td>\n",
       "      <td>0.277400</td>\n",
       "      <td>1.000000</td>\n",
       "      <td>0.871000</td>\n",
       "      <td>8.725000</td>\n",
       "      <td>1.000000</td>\n",
       "      <td>10.710300</td>\n",
       "      <td>24.000000</td>\n",
       "      <td>0.071100</td>\n",
       "      <td>0.220000</td>\n",
       "      <td>0.396900</td>\n",
       "      <td>0.379700</td>\n",
       "      <td>50.000000</td>\n",
       "    </tr>\n",
       "  </tbody>\n",
       "</table>\n",
       "</div>"
      ],
      "text/plain": [
       "             CRIM          ZN       INDUS        CHAS         NOX          RM  \\\n",
       "count  404.000000  404.000000  404.000000  404.000000  404.000000  404.000000   \n",
       "mean     0.037451    0.114802    0.111044    0.061881    0.557356    6.267082   \n",
       "std      0.092407    0.237677    0.068113    0.241238    0.117293    0.709788   \n",
       "min      0.000063    0.000000    0.004600    0.000000    0.385000    3.561000   \n",
       "25%      0.000814    0.000000    0.051300    0.000000    0.453000    5.874750   \n",
       "50%      0.002689    0.000000    0.096900    0.000000    0.538000    6.198500   \n",
       "75%      0.036748    0.125000    0.181000    0.000000    0.631000    6.609000   \n",
       "max      0.889762    1.000000    0.277400    1.000000    0.871000    8.725000   \n",
       "\n",
       "              AGE         DIS         RAD         TAX     PTRATIO           B  \\\n",
       "count  404.000000  404.000000  404.000000  404.000000  404.000000  404.000000   \n",
       "mean     0.690106    3.740271    9.440594    0.040590    0.184760    0.354783   \n",
       "std      0.279407    2.030215    8.698360    0.016637    0.022004    0.094111   \n",
       "min      0.029000    1.129600    1.000000    0.018800    0.126000    0.000320   \n",
       "25%      0.454750    2.077100    4.000000    0.027900    0.172250    0.374673   \n",
       "50%      0.785000    3.142300    5.000000    0.033000    0.191000    0.391250   \n",
       "75%      0.941000    5.118000   24.000000    0.066600    0.202000    0.396157   \n",
       "max      1.000000   10.710300   24.000000    0.071100    0.220000    0.396900   \n",
       "\n",
       "            LSTAT        MEDV  \n",
       "count  404.000000  404.000000  \n",
       "mean     0.127408   22.395050  \n",
       "std      0.072545    9.210442  \n",
       "min      0.017300    5.000000  \n",
       "25%      0.068900   16.675000  \n",
       "50%      0.113950   20.750000  \n",
       "75%      0.170925   24.800000  \n",
       "max      0.379700   50.000000  "
      ]
     },
     "execution_count": 13,
     "metadata": {},
     "output_type": "execute_result"
    }
   ],
   "source": [
    "df_train.describe()"
   ]
  },
  {
   "cell_type": "code",
   "execution_count": 14,
   "metadata": {},
   "outputs": [
    {
     "data": {
      "text/html": [
       "<div>\n",
       "<style scoped>\n",
       "    .dataframe tbody tr th:only-of-type {\n",
       "        vertical-align: middle;\n",
       "    }\n",
       "\n",
       "    .dataframe tbody tr th {\n",
       "        vertical-align: top;\n",
       "    }\n",
       "\n",
       "    .dataframe thead th {\n",
       "        text-align: right;\n",
       "    }\n",
       "</style>\n",
       "<table border=\"1\" class=\"dataframe\">\n",
       "  <thead>\n",
       "    <tr style=\"text-align: right;\">\n",
       "      <th></th>\n",
       "      <th>0</th>\n",
       "      <th>1</th>\n",
       "      <th>2</th>\n",
       "      <th>3</th>\n",
       "      <th>4</th>\n",
       "      <th>5</th>\n",
       "      <th>6</th>\n",
       "      <th>7</th>\n",
       "      <th>8</th>\n",
       "      <th>9</th>\n",
       "      <th>10</th>\n",
       "      <th>11</th>\n",
       "      <th>12</th>\n",
       "    </tr>\n",
       "  </thead>\n",
       "  <tbody>\n",
       "    <tr>\n",
       "      <th>0</th>\n",
       "      <td>0.012325</td>\n",
       "      <td>0.000</td>\n",
       "      <td>0.0814</td>\n",
       "      <td>0.0</td>\n",
       "      <td>0.5380</td>\n",
       "      <td>6.142</td>\n",
       "      <td>0.917</td>\n",
       "      <td>3.9769</td>\n",
       "      <td>4.0</td>\n",
       "      <td>0.0307</td>\n",
       "      <td>0.210</td>\n",
       "      <td>0.39690</td>\n",
       "      <td>0.1872</td>\n",
       "    </tr>\n",
       "    <tr>\n",
       "      <th>1</th>\n",
       "      <td>0.000218</td>\n",
       "      <td>0.825</td>\n",
       "      <td>0.0203</td>\n",
       "      <td>0.0</td>\n",
       "      <td>0.4150</td>\n",
       "      <td>7.610</td>\n",
       "      <td>0.157</td>\n",
       "      <td>6.2700</td>\n",
       "      <td>2.0</td>\n",
       "      <td>0.0348</td>\n",
       "      <td>0.147</td>\n",
       "      <td>0.39538</td>\n",
       "      <td>0.0311</td>\n",
       "    </tr>\n",
       "    <tr>\n",
       "      <th>2</th>\n",
       "      <td>0.048982</td>\n",
       "      <td>0.000</td>\n",
       "      <td>0.1810</td>\n",
       "      <td>0.0</td>\n",
       "      <td>0.6310</td>\n",
       "      <td>4.970</td>\n",
       "      <td>1.000</td>\n",
       "      <td>1.3325</td>\n",
       "      <td>24.0</td>\n",
       "      <td>0.0666</td>\n",
       "      <td>0.202</td>\n",
       "      <td>0.37552</td>\n",
       "      <td>0.0326</td>\n",
       "    </tr>\n",
       "    <tr>\n",
       "      <th>3</th>\n",
       "      <td>0.000396</td>\n",
       "      <td>0.000</td>\n",
       "      <td>0.0519</td>\n",
       "      <td>0.0</td>\n",
       "      <td>0.5150</td>\n",
       "      <td>6.037</td>\n",
       "      <td>0.345</td>\n",
       "      <td>5.9853</td>\n",
       "      <td>5.0</td>\n",
       "      <td>0.0224</td>\n",
       "      <td>0.202</td>\n",
       "      <td>0.39690</td>\n",
       "      <td>0.0801</td>\n",
       "    </tr>\n",
       "    <tr>\n",
       "      <th>4</th>\n",
       "      <td>0.036931</td>\n",
       "      <td>0.000</td>\n",
       "      <td>0.1810</td>\n",
       "      <td>0.0</td>\n",
       "      <td>0.7130</td>\n",
       "      <td>6.376</td>\n",
       "      <td>0.884</td>\n",
       "      <td>2.5671</td>\n",
       "      <td>24.0</td>\n",
       "      <td>0.0666</td>\n",
       "      <td>0.202</td>\n",
       "      <td>0.39143</td>\n",
       "      <td>0.1465</td>\n",
       "    </tr>\n",
       "    <tr>\n",
       "      <th>...</th>\n",
       "      <td>...</td>\n",
       "      <td>...</td>\n",
       "      <td>...</td>\n",
       "      <td>...</td>\n",
       "      <td>...</td>\n",
       "      <td>...</td>\n",
       "      <td>...</td>\n",
       "      <td>...</td>\n",
       "      <td>...</td>\n",
       "      <td>...</td>\n",
       "      <td>...</td>\n",
       "      <td>...</td>\n",
       "      <td>...</td>\n",
       "    </tr>\n",
       "    <tr>\n",
       "      <th>399</th>\n",
       "      <td>0.002198</td>\n",
       "      <td>0.000</td>\n",
       "      <td>0.0691</td>\n",
       "      <td>0.0</td>\n",
       "      <td>0.4480</td>\n",
       "      <td>5.602</td>\n",
       "      <td>0.620</td>\n",
       "      <td>6.0877</td>\n",
       "      <td>3.0</td>\n",
       "      <td>0.0233</td>\n",
       "      <td>0.179</td>\n",
       "      <td>0.39690</td>\n",
       "      <td>0.1620</td>\n",
       "    </tr>\n",
       "    <tr>\n",
       "      <th>400</th>\n",
       "      <td>0.001621</td>\n",
       "      <td>0.200</td>\n",
       "      <td>0.0696</td>\n",
       "      <td>0.0</td>\n",
       "      <td>0.4640</td>\n",
       "      <td>6.240</td>\n",
       "      <td>0.163</td>\n",
       "      <td>4.4290</td>\n",
       "      <td>3.0</td>\n",
       "      <td>0.0223</td>\n",
       "      <td>0.186</td>\n",
       "      <td>0.39690</td>\n",
       "      <td>0.0659</td>\n",
       "    </tr>\n",
       "    <tr>\n",
       "      <th>401</th>\n",
       "      <td>0.000347</td>\n",
       "      <td>0.350</td>\n",
       "      <td>0.0606</td>\n",
       "      <td>0.0</td>\n",
       "      <td>0.4379</td>\n",
       "      <td>6.031</td>\n",
       "      <td>0.233</td>\n",
       "      <td>6.6407</td>\n",
       "      <td>1.0</td>\n",
       "      <td>0.0304</td>\n",
       "      <td>0.169</td>\n",
       "      <td>0.36225</td>\n",
       "      <td>0.0783</td>\n",
       "    </tr>\n",
       "    <tr>\n",
       "      <th>402</th>\n",
       "      <td>0.021492</td>\n",
       "      <td>0.000</td>\n",
       "      <td>0.1958</td>\n",
       "      <td>0.0</td>\n",
       "      <td>0.8710</td>\n",
       "      <td>5.709</td>\n",
       "      <td>0.985</td>\n",
       "      <td>1.6232</td>\n",
       "      <td>5.0</td>\n",
       "      <td>0.0403</td>\n",
       "      <td>0.147</td>\n",
       "      <td>0.26195</td>\n",
       "      <td>0.1579</td>\n",
       "    </tr>\n",
       "    <tr>\n",
       "      <th>403</th>\n",
       "      <td>0.000144</td>\n",
       "      <td>0.600</td>\n",
       "      <td>0.0293</td>\n",
       "      <td>0.0</td>\n",
       "      <td>0.4010</td>\n",
       "      <td>6.604</td>\n",
       "      <td>0.188</td>\n",
       "      <td>6.2196</td>\n",
       "      <td>1.0</td>\n",
       "      <td>0.0265</td>\n",
       "      <td>0.156</td>\n",
       "      <td>0.37670</td>\n",
       "      <td>0.0438</td>\n",
       "    </tr>\n",
       "  </tbody>\n",
       "</table>\n",
       "<p>404 rows × 13 columns</p>\n",
       "</div>"
      ],
      "text/plain": [
       "           0      1       2    3       4      5      6       7     8       9   \\\n",
       "0    0.012325  0.000  0.0814  0.0  0.5380  6.142  0.917  3.9769   4.0  0.0307   \n",
       "1    0.000218  0.825  0.0203  0.0  0.4150  7.610  0.157  6.2700   2.0  0.0348   \n",
       "2    0.048982  0.000  0.1810  0.0  0.6310  4.970  1.000  1.3325  24.0  0.0666   \n",
       "3    0.000396  0.000  0.0519  0.0  0.5150  6.037  0.345  5.9853   5.0  0.0224   \n",
       "4    0.036931  0.000  0.1810  0.0  0.7130  6.376  0.884  2.5671  24.0  0.0666   \n",
       "..        ...    ...     ...  ...     ...    ...    ...     ...   ...     ...   \n",
       "399  0.002198  0.000  0.0691  0.0  0.4480  5.602  0.620  6.0877   3.0  0.0233   \n",
       "400  0.001621  0.200  0.0696  0.0  0.4640  6.240  0.163  4.4290   3.0  0.0223   \n",
       "401  0.000347  0.350  0.0606  0.0  0.4379  6.031  0.233  6.6407   1.0  0.0304   \n",
       "402  0.021492  0.000  0.1958  0.0  0.8710  5.709  0.985  1.6232   5.0  0.0403   \n",
       "403  0.000144  0.600  0.0293  0.0  0.4010  6.604  0.188  6.2196   1.0  0.0265   \n",
       "\n",
       "        10       11      12  \n",
       "0    0.210  0.39690  0.1872  \n",
       "1    0.147  0.39538  0.0311  \n",
       "2    0.202  0.37552  0.0326  \n",
       "3    0.202  0.39690  0.0801  \n",
       "4    0.202  0.39143  0.1465  \n",
       "..     ...      ...     ...  \n",
       "399  0.179  0.39690  0.1620  \n",
       "400  0.186  0.39690  0.0659  \n",
       "401  0.169  0.36225  0.0783  \n",
       "402  0.147  0.26195  0.1579  \n",
       "403  0.156  0.37670  0.0438  \n",
       "\n",
       "[404 rows x 13 columns]"
      ]
     },
     "execution_count": 14,
     "metadata": {},
     "output_type": "execute_result"
    }
   ],
   "source": [
    "pd.DataFrame(x_train)"
   ]
  },
  {
   "cell_type": "markdown",
   "metadata": {},
   "source": [
    "print(np.max(x_train, axis=1))"
   ]
  },
  {
   "cell_type": "code",
   "execution_count": null,
   "metadata": {},
   "outputs": [],
   "source": []
  },
  {
   "cell_type": "markdown",
   "metadata": {},
   "source": [
    "sns.pairplot(df_train)"
   ]
  },
  {
   "cell_type": "code",
   "execution_count": 15,
   "metadata": {},
   "outputs": [],
   "source": [
    "from keras import models\n",
    "from keras import layers\n",
    "\n",
    "from keras.models import Sequential\n",
    "from keras.layers import Dense, Dropout, Activation"
   ]
  },
  {
   "cell_type": "code",
   "execution_count": 16,
   "metadata": {},
   "outputs": [],
   "source": [
    "\n",
    "\n",
    "def create_model_01():\n",
    "    model = models.Sequential()\n",
    "    model.add(layers.Dense(64, input_dim=x_train.shape[1], activation='relu'))\n",
    "    model.add(layers.Dense(1))\n",
    "    model.compile(optimizer='rmsprop', loss='mse', metrics=['mae'])\n",
    "    return model"
   ]
  },
  {
   "cell_type": "code",
   "execution_count": 17,
   "metadata": {},
   "outputs": [],
   "source": [
    "from keras.optimizers import Adam # Optimizer\n",
    "\n",
    "def create_model_02():\n",
    "    # create model\n",
    "    model = Sequential()\n",
    "    model.add(Dense(320, input_dim=x_train.shape[1], activation='relu'))\n",
    "    model.add(Dense(384, activation='relu'))\n",
    "    model.add(Dense(352, activation='relu'))\n",
    "    model.add(Dense(448, activation='relu'))\n",
    "    model.add(Dense(160, activation='relu'))\n",
    "    model.add(Dense(160, activation='relu'))\n",
    "    model.add(Dense(32, activation='relu'))\n",
    "    model.add(Dense(1))\n",
    "    # Compile model\n",
    "    model.compile(optimizer=Adam(learning_rate=0.0001), loss = 'mape', metrics=['mae']) #'mse')\n",
    "    return model"
   ]
  },
  {
   "cell_type": "markdown",
   "metadata": {},
   "source": [
    "model = Sequential()\n",
    "\n",
    "model.add(Dense(16, activation='sigmoid', input_shape=(13,)))\n",
    "model.add(Dense(1, activation='linear'))"
   ]
  },
  {
   "cell_type": "code",
   "execution_count": 18,
   "metadata": {},
   "outputs": [],
   "source": [
    "model = Sequential([\n",
    "    Dense(250, input_shape=(13,)),\n",
    "    Activation('sigmoid'),\n",
    "    Dense(10),\n",
    "    Activation('linear'),\n",
    "    Activation('softmax'),\n",
    "    Dense(1)\n",
    "])\n"
   ]
  },
  {
   "cell_type": "code",
   "execution_count": 19,
   "metadata": {},
   "outputs": [
    {
     "name": "stdout",
     "output_type": "stream",
     "text": [
      "Model: \"sequential_2\"\n",
      "_________________________________________________________________\n",
      "Layer (type)                 Output Shape              Param #   \n",
      "=================================================================\n",
      "dense_4 (Dense)              (None, 320)               4480      \n",
      "_________________________________________________________________\n",
      "dense_5 (Dense)              (None, 384)               123264    \n",
      "_________________________________________________________________\n",
      "dense_6 (Dense)              (None, 352)               135520    \n",
      "_________________________________________________________________\n",
      "dense_7 (Dense)              (None, 448)               158144    \n",
      "_________________________________________________________________\n",
      "dense_8 (Dense)              (None, 160)               71840     \n",
      "_________________________________________________________________\n",
      "dense_9 (Dense)              (None, 160)               25760     \n",
      "_________________________________________________________________\n",
      "dense_10 (Dense)             (None, 32)                5152      \n",
      "_________________________________________________________________\n",
      "dense_11 (Dense)             (None, 1)                 33        \n",
      "=================================================================\n",
      "Total params: 524,193\n",
      "Trainable params: 524,193\n",
      "Non-trainable params: 0\n",
      "_________________________________________________________________\n"
     ]
    }
   ],
   "source": [
    "\n",
    "model = create_model_02()\n",
    "model.summary()\n",
    "#model.build(input_shape=(None,3))# build the model by calling the build method"
   ]
  },
  {
   "cell_type": "code",
   "execution_count": 20,
   "metadata": {},
   "outputs": [
    {
     "name": "stderr",
     "output_type": "stream",
     "text": [
      "2022-05-21 21:04:41.957155: I tensorflow/core/platform/cpu_feature_guard.cc:142] Your CPU supports instructions that this TensorFlow binary was not compiled to use: AVX2 AVX512F FMA\n"
     ]
    },
    {
     "name": "stdout",
     "output_type": "stream",
     "text": [
      "WARNING:tensorflow:From /opt/anaconda3/envs/myenv/lib/python3.7/site-packages/keras/backend/tensorflow_backend.py:422: The name tf.global_variables is deprecated. Please use tf.compat.v1.global_variables instead.\n",
      "\n",
      "Train on 323 samples, validate on 81 samples\n",
      "Epoch 1/20\n",
      "323/323 [==============================] - 0s 810us/step - loss: 98.3873 - mae: 21.8739 - val_loss: 96.1378 - val_mae: 22.6983\n",
      "Epoch 2/20\n",
      "323/323 [==============================] - 0s 95us/step - loss: 95.4884 - mae: 21.3740 - val_loss: 93.2859 - val_mae: 22.2050\n",
      "Epoch 3/20\n",
      "323/323 [==============================] - 0s 106us/step - loss: 92.5675 - mae: 20.8712 - val_loss: 89.7764 - val_mae: 21.6017\n",
      "Epoch 4/20\n",
      "323/323 [==============================] - 0s 101us/step - loss: 88.8705 - mae: 20.2422 - val_loss: 85.0441 - val_mae: 20.7843\n",
      "Epoch 5/20\n",
      "323/323 [==============================] - 0s 110us/step - loss: 83.7999 - mae: 19.3720 - val_loss: 79.2414 - val_mae: 19.6964\n",
      "Epoch 6/20\n",
      "323/323 [==============================] - 0s 113us/step - loss: 77.4230 - mae: 18.2187 - val_loss: 71.9248 - val_mae: 18.2687\n",
      "Epoch 7/20\n",
      "323/323 [==============================] - 0s 116us/step - loss: 70.6883 - mae: 16.8265 - val_loss: 64.6617 - val_mae: 16.6339\n",
      "Epoch 8/20\n",
      "323/323 [==============================] - 0s 108us/step - loss: 64.7462 - mae: 15.3223 - val_loss: 61.5970 - val_mae: 15.4107\n",
      "Epoch 9/20\n",
      "323/323 [==============================] - 0s 103us/step - loss: 60.7264 - mae: 14.0557 - val_loss: 58.8741 - val_mae: 14.3942\n",
      "Epoch 10/20\n",
      "323/323 [==============================] - 0s 89us/step - loss: 57.5385 - mae: 13.0259 - val_loss: 55.4334 - val_mae: 13.3230\n",
      "Epoch 11/20\n",
      "323/323 [==============================] - 0s 82us/step - loss: 53.2917 - mae: 11.9076 - val_loss: 50.6666 - val_mae: 12.2373\n",
      "Epoch 12/20\n",
      "323/323 [==============================] - 0s 91us/step - loss: 47.9899 - mae: 10.7640 - val_loss: 44.6764 - val_mae: 11.0063\n",
      "Epoch 13/20\n",
      "323/323 [==============================] - 0s 132us/step - loss: 41.3796 - mae: 9.3888 - val_loss: 37.9207 - val_mae: 9.5155\n",
      "Epoch 14/20\n",
      "323/323 [==============================] - 0s 146us/step - loss: 34.1312 - mae: 7.7478 - val_loss: 31.2706 - val_mae: 7.9018\n",
      "Epoch 15/20\n",
      "323/323 [==============================] - 0s 113us/step - loss: 27.2138 - mae: 6.1224 - val_loss: 26.9958 - val_mae: 6.8760\n",
      "Epoch 16/20\n",
      "323/323 [==============================] - 0s 116us/step - loss: 22.9573 - mae: 5.1382 - val_loss: 25.2911 - val_mae: 6.5441\n",
      "Epoch 17/20\n",
      "323/323 [==============================] - 0s 113us/step - loss: 21.7647 - mae: 4.9194 - val_loss: 25.2778 - val_mae: 6.6587\n",
      "Epoch 18/20\n",
      "323/323 [==============================] - 0s 129us/step - loss: 21.8278 - mae: 5.0354 - val_loss: 25.0027 - val_mae: 6.7077\n",
      "Epoch 19/20\n",
      "323/323 [==============================] - 0s 193us/step - loss: 21.6451 - mae: 5.1081 - val_loss: 24.1992 - val_mae: 6.6533\n",
      "Epoch 20/20\n",
      "323/323 [==============================] - 0s 117us/step - loss: 21.3130 - mae: 5.1135 - val_loss: 23.6907 - val_mae: 6.4629\n"
     ]
    }
   ],
   "source": [
    "from sklearn.model_selection import train_test_split\n",
    "\n",
    "x_train, x_valid, y_train, y_valid = train_test_split(x_train, y_train, test_size=.2)\n",
    "\n",
    "history = model.fit(x_train, y_train, \n",
    "                    batch_size=100, epochs=20, \n",
    "                    validation_data=(x_valid, y_valid))"
   ]
  },
  {
   "cell_type": "markdown",
   "metadata": {},
   "source": [
    "model.compile(optimizer='sgd', loss='mse', metrics=['mape']) \n",
    "#sgd - stochastic gradient descent\n",
    "#mse - mean square error\n",
    "#mape - mean absolute percentage error"
   ]
  },
  {
   "cell_type": "code",
   "execution_count": 21,
   "metadata": {},
   "outputs": [
    {
     "data": {
      "text/plain": [
       "((323, 13), (81, 13))"
      ]
     },
     "execution_count": 21,
     "metadata": {},
     "output_type": "execute_result"
    }
   ],
   "source": [
    "x_train.shape, x_valid.shape"
   ]
  },
  {
   "cell_type": "markdown",
   "metadata": {},
   "source": [
    "for i in  range(2):\n",
    "    \n",
    "    model = create_model_02()\n",
    "\n",
    "    history = model.fit(x_train, y_train, batch_size=4, epochs=10, validation_data=(x_valid, y_valid))\n",
    "\n",
    "    all_scores = []\n",
    "    all_mae_histories = []\n",
    "\n",
    "    mae_history = history.history['val_loss']\n",
    "    all_mae_histories.append(mae_history)\n",
    "    \n",
    "    val_mse, val_mae = model.evaluate(x_valid, y_valid, verbose=0)\n",
    "    all_scores.append(val_mae)"
   ]
  },
  {
   "cell_type": "markdown",
   "metadata": {},
   "source": [
    "all_scores"
   ]
  },
  {
   "cell_type": "markdown",
   "metadata": {},
   "source": [
    "num_epochs = 100\n",
    "\n",
    "average_mae_history = [np.mean([x[i] for x in all_mae_histories]) for i in range(num_epochs)]\n",
    "\n",
    "import matplotlib.pyplot as plt\n",
    "\n",
    "plt.figure(1)\n",
    "plt.plot(range(1, len(average_mae_history) + 1), average_mae_history, 'r', label='aver_mae')\n",
    "plt.title('MAE')\n",
    "plt.xlabel('Epochs')\n",
    "plt.ylabel('Validation MAE')\n",
    "plt.legend()\n",
    "plt.show()"
   ]
  },
  {
   "cell_type": "code",
   "execution_count": 22,
   "metadata": {},
   "outputs": [
    {
     "data": {
      "text/plain": [
       "(323, 13)"
      ]
     },
     "execution_count": 22,
     "metadata": {},
     "output_type": "execute_result"
    }
   ],
   "source": [
    "x_train.shape"
   ]
  },
  {
   "cell_type": "markdown",
   "metadata": {},
   "source": [
    "history.history"
   ]
  },
  {
   "cell_type": "code",
   "execution_count": 23,
   "metadata": {},
   "outputs": [
    {
     "data": {
      "text/html": [
       "<div>\n",
       "<style scoped>\n",
       "    .dataframe tbody tr th:only-of-type {\n",
       "        vertical-align: middle;\n",
       "    }\n",
       "\n",
       "    .dataframe tbody tr th {\n",
       "        vertical-align: top;\n",
       "    }\n",
       "\n",
       "    .dataframe thead th {\n",
       "        text-align: right;\n",
       "    }\n",
       "</style>\n",
       "<table border=\"1\" class=\"dataframe\">\n",
       "  <thead>\n",
       "    <tr style=\"text-align: right;\">\n",
       "      <th></th>\n",
       "      <th>val_loss</th>\n",
       "      <th>val_mae</th>\n",
       "      <th>loss</th>\n",
       "      <th>mae</th>\n",
       "      <th>epoch</th>\n",
       "    </tr>\n",
       "  </thead>\n",
       "  <tbody>\n",
       "    <tr>\n",
       "      <th>15</th>\n",
       "      <td>25.291084</td>\n",
       "      <td>6.544141</td>\n",
       "      <td>22.957299</td>\n",
       "      <td>5.138172</td>\n",
       "      <td>15</td>\n",
       "    </tr>\n",
       "    <tr>\n",
       "      <th>16</th>\n",
       "      <td>25.277815</td>\n",
       "      <td>6.658701</td>\n",
       "      <td>21.764696</td>\n",
       "      <td>4.919373</td>\n",
       "      <td>16</td>\n",
       "    </tr>\n",
       "    <tr>\n",
       "      <th>17</th>\n",
       "      <td>25.002684</td>\n",
       "      <td>6.707671</td>\n",
       "      <td>21.827843</td>\n",
       "      <td>5.035351</td>\n",
       "      <td>17</td>\n",
       "    </tr>\n",
       "    <tr>\n",
       "      <th>18</th>\n",
       "      <td>24.199223</td>\n",
       "      <td>6.653338</td>\n",
       "      <td>21.645053</td>\n",
       "      <td>5.108058</td>\n",
       "      <td>18</td>\n",
       "    </tr>\n",
       "    <tr>\n",
       "      <th>19</th>\n",
       "      <td>23.690674</td>\n",
       "      <td>6.462867</td>\n",
       "      <td>21.313032</td>\n",
       "      <td>5.113528</td>\n",
       "      <td>19</td>\n",
       "    </tr>\n",
       "  </tbody>\n",
       "</table>\n",
       "</div>"
      ],
      "text/plain": [
       "     val_loss   val_mae       loss       mae  epoch\n",
       "15  25.291084  6.544141  22.957299  5.138172     15\n",
       "16  25.277815  6.658701  21.764696  4.919373     16\n",
       "17  25.002684  6.707671  21.827843  5.035351     17\n",
       "18  24.199223  6.653338  21.645053  5.108058     18\n",
       "19  23.690674  6.462867  21.313032  5.113528     19"
      ]
     },
     "execution_count": 23,
     "metadata": {},
     "output_type": "execute_result"
    }
   ],
   "source": [
    "hist = pd.DataFrame(history.history)\n",
    "hist['epoch'] = history.epoch\n",
    "hist.tail()"
   ]
  },
  {
   "cell_type": "code",
   "execution_count": 24,
   "metadata": {},
   "outputs": [
    {
     "data": {
      "image/png": "[encoded data removed]",
      "text/plain": [
       "<Figure size 432x288 with 1 Axes>"
      ]
     },
     "metadata": {
      "needs_background": "light"
     },
     "output_type": "display_data"
    }
   ],
   "source": [
    "for name, value in history.history.items():\n",
    "    plt.plot(value, label=name)\n",
    "plt.legend()\n",
    "plt.show()"
   ]
  },
  {
   "cell_type": "markdown",
   "metadata": {},
   "source": [
    "## evaluate model"
   ]
  },
  {
   "cell_type": "code",
   "execution_count": 25,
   "metadata": {},
   "outputs": [
    {
     "name": "stdout",
     "output_type": "stream",
     "text": [
      "102/102 [==============================] - 0s 67us/step\n"
     ]
    }
   ],
   "source": [
    "results = model.evaluate(x_test, y_test)"
   ]
  },
  {
   "cell_type": "code",
   "execution_count": 26,
   "metadata": {},
   "outputs": [
    {
     "data": {
      "text/plain": [
       "[26.903070973415, 6.13114070892334]"
      ]
     },
     "execution_count": 26,
     "metadata": {},
     "output_type": "execute_result"
    }
   ],
   "source": [
    "results"
   ]
  },
  {
   "cell_type": "markdown",
   "metadata": {},
   "source": [
    "print('Loss: {:.6f} - MAPE: {:.6f}'.format(*results))"
   ]
  },
  {
   "cell_type": "markdown",
   "metadata": {},
   "source": [
    "## list predicted value"
   ]
  },
  {
   "cell_type": "code",
   "execution_count": 27,
   "metadata": {},
   "outputs": [],
   "source": [
    "test_pred = model.predict(x_test)"
   ]
  },
  {
   "cell_type": "code",
   "execution_count": 28,
   "metadata": {},
   "outputs": [],
   "source": [
    "test_pred = np.squeeze(test_pred)"
   ]
  },
  {
   "cell_type": "code",
   "execution_count": 29,
   "metadata": {
    "scrolled": true
   },
   "outputs": [
    {
     "data": {
      "text/plain": [
       "array([12.318801 , 17.273087 , 20.978199 , 18.6848   , 20.781174 ,\n",
       "       17.160547 , 25.728819 , 22.71368  , 18.759653 , 13.287907 ,\n",
       "       19.657656 , 20.994215 , 18.06859  , 24.525414 , 11.687833 ,\n",
       "       25.269802 , 22.976227 , 23.152855 , 13.578591 , 13.116408 ,\n",
       "       11.538562 , 11.830068 , 18.803839 , 23.989853 , 28.643768 ,\n",
       "       13.573486 , 20.666992 , 33.867767 , 12.389136 , 23.374035 ,\n",
       "       18.451181 , 12.9583   , 24.48435  , 22.534044 , 12.450952 ,\n",
       "       10.935433 , 15.898135 , 17.818634 , 18.165081 , 28.245716 ,\n",
       "       30.77639  , 22.09503  , 12.476514 , 22.102163 , 20.92831  ,\n",
       "       20.33458  , 20.035786 , 19.93147  , 13.307843 , 20.766823 ,\n",
       "       29.938694 , 22.967098 , 11.146464 , 20.19946  , 23.978989 ,\n",
       "       22.98774  , 12.048233 , 24.231579 , 23.287443 , 23.572798 ,\n",
       "       13.510549 , 12.308106 , 12.451461 , 17.55058  , 21.669964 ,\n",
       "       29.230877 , 12.6331415, 24.85532  , 15.485013 , 11.707258 ,\n",
       "       13.203973 , 28.531305 , 13.272109 , 16.24839  , 22.457642 ,\n",
       "       23.164165 , 23.426199 , 21.245707 , 24.152973 , 10.92463  ,\n",
       "       17.940445 , 21.941113 , 23.956387 , 12.532802 , 19.63644  ,\n",
       "       23.244267 , 12.212549 , 19.32708  , 21.07746  , 14.535266 ,\n",
       "       23.13581  , 29.922733 , 25.17564  , 31.669258 , 22.235497 ,\n",
       "       17.475456 , 21.153889 , 15.893149 , 20.84634  , 23.134119 ,\n",
       "       20.316246 , 18.282124 ], dtype=float32)"
      ]
     },
     "execution_count": 29,
     "metadata": {},
     "output_type": "execute_result"
    }
   ],
   "source": [
    "test_pred"
   ]
  },
  {
   "cell_type": "markdown",
   "metadata": {},
   "source": [
    "## compare predicted value to true value"
   ]
  },
  {
   "cell_type": "code",
   "execution_count": 30,
   "metadata": {
    "scrolled": true
   },
   "outputs": [
    {
     "name": "stdout",
     "output_type": "stream",
     "text": [
      "Pred: 12.318801 - True: 7.200000\n",
      "Pred: 17.273087 - True: 18.800000\n",
      "Pred: 20.978199 - True: 19.000000\n",
      "Pred: 18.684799 - True: 27.000000\n",
      "Pred: 20.781174 - True: 22.200000\n",
      "Pred: 17.160547 - True: 24.500000\n",
      "Pred: 25.728819 - True: 31.200000\n",
      "Pred: 22.713680 - True: 22.900000\n",
      "Pred: 18.759653 - True: 20.500000\n",
      "Pred: 13.287907 - True: 23.200000\n",
      "Pred: 19.657656 - True: 18.600000\n",
      "Pred: 20.994215 - True: 14.500000\n",
      "Pred: 18.068590 - True: 17.800000\n",
      "Pred: 24.525414 - True: 50.000000\n",
      "Pred: 11.687833 - True: 20.800000\n",
      "Pred: 25.269802 - True: 24.300000\n",
      "Pred: 22.976227 - True: 24.200000\n",
      "Pred: 23.152855 - True: 19.800000\n",
      "Pred: 13.578591 - True: 19.100000\n",
      "Pred: 13.116408 - True: 22.700000\n",
      "Pred: 11.538562 - True: 12.000000\n",
      "Pred: 11.830068 - True: 10.200000\n",
      "Pred: 18.803839 - True: 20.000000\n",
      "Pred: 23.989853 - True: 18.500000\n",
      "Pred: 28.643768 - True: 20.900000\n",
      "Pred: 13.573486 - True: 23.000000\n",
      "Pred: 20.666992 - True: 27.500000\n",
      "Pred: 33.867767 - True: 30.100000\n",
      "Pred: 12.389136 - True: 9.500000\n",
      "Pred: 23.374035 - True: 22.000000\n",
      "Pred: 18.451181 - True: 21.200000\n",
      "Pred: 12.958300 - True: 14.100000\n",
      "Pred: 24.484350 - True: 33.100000\n",
      "Pred: 22.534044 - True: 23.400000\n",
      "Pred: 12.450952 - True: 20.100000\n",
      "Pred: 10.935433 - True: 7.400000\n",
      "Pred: 15.898135 - True: 15.400000\n",
      "Pred: 17.818634 - True: 23.800000\n",
      "Pred: 18.165081 - True: 20.100000\n",
      "Pred: 28.245716 - True: 24.500000\n",
      "Pred: 30.776390 - True: 33.000000\n",
      "Pred: 22.095030 - True: 28.400000\n",
      "Pred: 12.476514 - True: 14.100000\n",
      "Pred: 22.102163 - True: 46.700000\n",
      "Pred: 20.928310 - True: 32.500000\n",
      "Pred: 20.334579 - True: 29.600000\n",
      "Pred: 20.035786 - True: 28.400000\n",
      "Pred: 19.931471 - True: 19.800000\n",
      "Pred: 13.307843 - True: 20.200000\n",
      "Pred: 20.766823 - True: 25.000000\n",
      "Pred: 29.938694 - True: 35.400000\n",
      "Pred: 22.967098 - True: 20.300000\n",
      "Pred: 11.146464 - True: 9.700000\n",
      "Pred: 20.199459 - True: 14.500000\n",
      "Pred: 23.978989 - True: 34.900000\n",
      "Pred: 22.987740 - True: 26.600000\n",
      "Pred: 12.048233 - True: 7.200000\n",
      "Pred: 24.231579 - True: 50.000000\n",
      "Pred: 23.287443 - True: 32.400000\n",
      "Pred: 23.572798 - True: 21.600000\n",
      "Pred: 13.510549 - True: 29.800000\n",
      "Pred: 12.308106 - True: 13.100000\n",
      "Pred: 12.451461 - True: 27.500000\n",
      "Pred: 17.550579 - True: 21.200000\n",
      "Pred: 21.669964 - True: 23.100000\n",
      "Pred: 29.230877 - True: 21.900000\n",
      "Pred: 12.633142 - True: 13.000000\n",
      "Pred: 24.855320 - True: 23.200000\n",
      "Pred: 15.485013 - True: 8.100000\n",
      "Pred: 11.707258 - True: 5.600000\n",
      "Pred: 13.203973 - True: 21.700000\n",
      "Pred: 28.531305 - True: 29.600000\n",
      "Pred: 13.272109 - True: 19.600000\n",
      "Pred: 16.248390 - True: 7.000000\n",
      "Pred: 22.457642 - True: 26.400000\n",
      "Pred: 23.164165 - True: 18.900000\n",
      "Pred: 23.426199 - True: 20.900000\n",
      "Pred: 21.245707 - True: 28.100000\n",
      "Pred: 24.152973 - True: 35.400000\n",
      "Pred: 10.924630 - True: 10.200000\n",
      "Pred: 17.940445 - True: 24.300000\n",
      "Pred: 21.941113 - True: 43.100000\n",
      "Pred: 23.956387 - True: 17.600000\n",
      "Pred: 12.532802 - True: 15.400000\n",
      "Pred: 19.636440 - True: 16.200000\n",
      "Pred: 23.244267 - True: 27.100000\n",
      "Pred: 12.212549 - True: 21.400000\n",
      "Pred: 19.327080 - True: 21.500000\n",
      "Pred: 21.077459 - True: 22.400000\n",
      "Pred: 14.535266 - True: 25.000000\n",
      "Pred: 23.135811 - True: 16.600000\n",
      "Pred: 29.922733 - True: 18.600000\n",
      "Pred: 25.175640 - True: 22.000000\n",
      "Pred: 31.669258 - True: 42.800000\n",
      "Pred: 22.235497 - True: 35.100000\n",
      "Pred: 17.475456 - True: 21.500000\n",
      "Pred: 21.153889 - True: 36.000000\n",
      "Pred: 15.893149 - True: 21.900000\n",
      "Pred: 20.846340 - True: 24.100000\n",
      "Pred: 23.134119 - True: 50.000000\n",
      "Pred: 20.316246 - True: 26.700000\n",
      "Pred: 18.282124 - True: 25.000000\n"
     ]
    }
   ],
   "source": [
    "for pred, true in zip(test_pred, y_test):\n",
    "    print('Pred: {:.6f} - True: {:.6f}'.format(pred,true))"
   ]
  },
  {
   "cell_type": "markdown",
   "metadata": {},
   "source": [
    "## Save model"
   ]
  },
  {
   "cell_type": "markdown",
   "metadata": {},
   "source": [
    "model_path = 'model.h5'\n",
    "model.save(model_path)"
   ]
  },
  {
   "cell_type": "code",
   "execution_count": 31,
   "metadata": {},
   "outputs": [],
   "source": [
    "from keras.models import load_model"
   ]
  },
  {
   "cell_type": "markdown",
   "metadata": {},
   "source": [
    "loaded_model = load_model(model_path)"
   ]
  },
  {
   "cell_type": "markdown",
   "metadata": {},
   "source": [
    "loaded_model.summary()"
   ]
  },
  {
   "cell_type": "code",
   "execution_count": 32,
   "metadata": {},
   "outputs": [
    {
     "data": {
      "image/png": "[encoded data removed]",
      "text/plain": [
       "<Figure size 504x360 with 1 Axes>"
      ]
     },
     "metadata": {
      "needs_background": "light"
     },
     "output_type": "display_data"
    }
   ],
   "source": [
    "plt.figure(figsize=(7, 5))\n",
    "plt.plot(x_test, y_test, '.y', x_test, test_pred, '.b')\n",
    "plt.show()"
   ]
  },
  {
   "cell_type": "code",
   "execution_count": 33,
   "metadata": {},
   "outputs": [
    {
     "data": {
      "image/png": "[encoded data removed]",
      "text/plain": [
       "<Figure size 504x360 with 1 Axes>"
      ]
     },
     "metadata": {
      "needs_background": "light"
     },
     "output_type": "display_data"
    }
   ],
   "source": [
    "train_pred = model.predict(x_train)\n",
    "train_pred = np.squeeze(train_pred)\n",
    "\n",
    "plt.figure(figsize=(7, 5))\n",
    "plt.plot(x_train, y_train, '.r', x_train, train_pred, '.b')\n",
    "plt.show()"
   ]
  },
  {
   "cell_type": "code",
   "execution_count": 61,
   "metadata": {},
   "outputs": [],
   "source": [
    "import shap"
   ]
  },
  {
   "cell_type": "code",
   "execution_count": 62,
   "metadata": {},
   "outputs": [
    {
     "name": "stdout",
     "output_type": "stream",
     "text": [
      "WARNING:tensorflow:From /opt/anaconda3/envs/myenv/lib/python3.7/site-packages/shap/explainers/tf_utils.py:28: The name tf.keras.backend.get_session is deprecated. Please use tf.compat.v1.keras.backend.get_session instead.\n",
      "\n",
      "WARNING:tensorflow:From /opt/anaconda3/envs/myenv/lib/python3.7/site-packages/shap/explainers/_deep/deep_tf.py:608: add_dispatch_support.<locals>.wrapper (from tensorflow.python.ops.array_ops) is deprecated and will be removed in a future version.\n",
      "Instructions for updating:\n",
      "Use tf.where in 2.0, which has the same broadcast rule as np.where\n"
     ]
    }
   ],
   "source": [
    "# select backgroud for shap\n",
    "background = x_train[np.random.choice(x_train.shape[0], 100, replace=False)]\n",
    "# DeepExplainer to explain predictions of the model\n",
    "explainer = shap.DeepExplainer(model, background)\n",
    "# compute shap values\n",
    "shap_values = explainer.shap_values(x_test)"
   ]
  },
  {
   "cell_type": "code",
   "execution_count": 63,
   "metadata": {},
   "outputs": [
    {
     "data": {
      "image/png": "[encoded data removed]",
      "text/plain": [
       "<Figure size 576x482.4 with 1 Axes>"
      ]
     },
     "metadata": {
      "needs_background": "light"
     },
     "output_type": "display_data"
    }
   ],
   "source": [
    "shap.summary_plot(shap_values, \n",
    "                  features=x_train, \n",
    "                  feature_names=col_name)"
   ]
  },
  {
   "cell_type": "code",
   "execution_count": null,
   "metadata": {},
   "outputs": [],
   "source": []
  },
  {
   "cell_type": "code",
   "execution_count": null,
   "metadata": {},
   "outputs": [],
   "source": []
  }
 ],
 "metadata": {
  "kernelspec": {
   "display_name": "Python 3 (ipykernel)",
   "language": "python",
   "name": "python3"
  },
  "language_info": {
   "codemirror_mode": {
    "name": "ipython",
    "version": 3
   },
   "file_extension": ".py",
   "mimetype": "text/x-python",
   "name": "python",
   "nbconvert_exporter": "python",
   "pygments_lexer": "ipython3",
   "version": "3.7.11"
  }
 },
 "nbformat": 4,
 "nbformat_minor": 4
}
