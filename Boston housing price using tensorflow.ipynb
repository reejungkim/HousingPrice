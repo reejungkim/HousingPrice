{
 "cells": [
  {
   "cell_type": "code",
   "execution_count": 1,
   "metadata": {},
   "outputs": [],
   "source": [
    "import pandas as pd\n",
    "import numpy as np\n",
    "import timeit\n",
    "import datetime as dt\n",
    "import matplotlib.pyplot as plt\n",
    "import seaborn as sns\n",
    "#import plotly.graph_objs as go\n",
    "%matplotlib inline"
   ]
  },
  {
   "cell_type": "markdown",
   "metadata": {},
   "source": [
    "import tensorflow as tf"
   ]
  },
  {
   "cell_type": "code",
   "execution_count": 2,
   "metadata": {},
   "outputs": [
    {
     "name": "stderr",
     "output_type": "stream",
     "text": [
      "Using TensorFlow backend.\n"
     ]
    }
   ],
   "source": [
    "import warnings\n",
    "warnings.simplefilter(action='ignore')\n",
    "from keras.datasets import boston_housing"
   ]
  },
  {
   "cell_type": "markdown",
   "metadata": {},
   "source": [
    "train = pd.read_csv(\"https://raw.githubusercontent.com/reejungkim/HousingPrice/master/train.csv\", error_bad_lines=False)\n",
    "train.head()\n",
    "\n",
    "test = pd.read_csv(\"https://raw.githubusercontent.com/reejungkim/HousingPrice/master/test.csv\", error_bad_lines=False)\n",
    "test.head()"
   ]
  },
  {
   "cell_type": "code",
   "execution_count": 14,
   "metadata": {},
   "outputs": [
    {
     "data": {
      "text/plain": [
       "((404, 13), (404,), (102, 13), (102,))"
      ]
     },
     "execution_count": 14,
     "metadata": {},
     "output_type": "execute_result"
    }
   ],
   "source": [
    "pd.DataFrame(boston_housing.load_data())\n",
    "\n",
    "(x_train, y_train), (x_test, y_test) = boston_housing.load_data()\n",
    "\n",
    "x_train.shape, y_train.shape, x_test.shape, y_test.shape"
   ]
  },
  {
   "cell_type": "markdown",
   "metadata": {
    "scrolled": true
   },
   "source": [
    "pd.DataFrame(x_train)"
   ]
  },
  {
   "cell_type": "markdown",
   "metadata": {
    "scrolled": true
   },
   "source": [
    "pd.DataFrame(y_train)"
   ]
  },
  {
   "cell_type": "code",
   "execution_count": 15,
   "metadata": {},
   "outputs": [],
   "source": [
    "pd.set_option('display.max_columns', 100)"
   ]
  },
  {
   "cell_type": "code",
   "execution_count": 16,
   "metadata": {},
   "outputs": [],
   "source": [
    "col_name = ['CRIM', 'ZN', 'INDUS', 'CHAS', 'NOX', 'RM', 'AGE', 'DIS', 'RAD', 'TAX', 'PTRATIO', 'B', 'LSTAT', 'MEDV']"
   ]
  },
  {
   "cell_type": "code",
   "execution_count": 17,
   "metadata": {},
   "outputs": [],
   "source": [
    "train_data = np.concatenate([x_train, y_train[:, np.newaxis]], axis=1)\n",
    "#train_data = pd.concat( [pd.DataFrame(x_train), pd.DataFrame(y_train)], axis=1, ignore_index=True).values\n",
    "test_data = np.concatenate([x_test, y_test[:, np.newaxis]], axis=1)"
   ]
  },
  {
   "cell_type": "code",
   "execution_count": 18,
   "metadata": {},
   "outputs": [],
   "source": [
    "df_train = pd.DataFrame(train_data, columns=col_name)\n",
    "df_test = pd.DataFrame(test_data, columns=col_name)"
   ]
  },
  {
   "cell_type": "code",
   "execution_count": 20,
   "metadata": {},
   "outputs": [
    {
     "data": {
      "text/html": [
       "<div>\n",
       "<style scoped>\n",
       "    .dataframe tbody tr th:only-of-type {\n",
       "        vertical-align: middle;\n",
       "    }\n",
       "\n",
       "    .dataframe tbody tr th {\n",
       "        vertical-align: top;\n",
       "    }\n",
       "\n",
       "    .dataframe thead th {\n",
       "        text-align: right;\n",
       "    }\n",
       "</style>\n",
       "<table border=\"1\" class=\"dataframe\">\n",
       "  <thead>\n",
       "    <tr style=\"text-align: right;\">\n",
       "      <th></th>\n",
       "      <th>CRIM</th>\n",
       "      <th>ZN</th>\n",
       "      <th>INDUS</th>\n",
       "      <th>CHAS</th>\n",
       "      <th>NOX</th>\n",
       "      <th>RM</th>\n",
       "      <th>AGE</th>\n",
       "      <th>DIS</th>\n",
       "      <th>RAD</th>\n",
       "      <th>TAX</th>\n",
       "      <th>PTRATIO</th>\n",
       "      <th>B</th>\n",
       "      <th>LSTAT</th>\n",
       "      <th>MEDV</th>\n",
       "    </tr>\n",
       "  </thead>\n",
       "  <tbody>\n",
       "    <tr>\n",
       "      <th>0</th>\n",
       "      <td>1.23247</td>\n",
       "      <td>0.0</td>\n",
       "      <td>8.14</td>\n",
       "      <td>0.0</td>\n",
       "      <td>0.538</td>\n",
       "      <td>6.142</td>\n",
       "      <td>91.7</td>\n",
       "      <td>3.9769</td>\n",
       "      <td>4.0</td>\n",
       "      <td>307.0</td>\n",
       "      <td>21.0</td>\n",
       "      <td>396.90</td>\n",
       "      <td>18.72</td>\n",
       "      <td>15.2</td>\n",
       "    </tr>\n",
       "    <tr>\n",
       "      <th>1</th>\n",
       "      <td>0.02177</td>\n",
       "      <td>82.5</td>\n",
       "      <td>2.03</td>\n",
       "      <td>0.0</td>\n",
       "      <td>0.415</td>\n",
       "      <td>7.610</td>\n",
       "      <td>15.7</td>\n",
       "      <td>6.2700</td>\n",
       "      <td>2.0</td>\n",
       "      <td>348.0</td>\n",
       "      <td>14.7</td>\n",
       "      <td>395.38</td>\n",
       "      <td>3.11</td>\n",
       "      <td>42.3</td>\n",
       "    </tr>\n",
       "    <tr>\n",
       "      <th>2</th>\n",
       "      <td>4.89822</td>\n",
       "      <td>0.0</td>\n",
       "      <td>18.10</td>\n",
       "      <td>0.0</td>\n",
       "      <td>0.631</td>\n",
       "      <td>4.970</td>\n",
       "      <td>100.0</td>\n",
       "      <td>1.3325</td>\n",
       "      <td>24.0</td>\n",
       "      <td>666.0</td>\n",
       "      <td>20.2</td>\n",
       "      <td>375.52</td>\n",
       "      <td>3.26</td>\n",
       "      <td>50.0</td>\n",
       "    </tr>\n",
       "    <tr>\n",
       "      <th>3</th>\n",
       "      <td>0.03961</td>\n",
       "      <td>0.0</td>\n",
       "      <td>5.19</td>\n",
       "      <td>0.0</td>\n",
       "      <td>0.515</td>\n",
       "      <td>6.037</td>\n",
       "      <td>34.5</td>\n",
       "      <td>5.9853</td>\n",
       "      <td>5.0</td>\n",
       "      <td>224.0</td>\n",
       "      <td>20.2</td>\n",
       "      <td>396.90</td>\n",
       "      <td>8.01</td>\n",
       "      <td>21.1</td>\n",
       "    </tr>\n",
       "    <tr>\n",
       "      <th>4</th>\n",
       "      <td>3.69311</td>\n",
       "      <td>0.0</td>\n",
       "      <td>18.10</td>\n",
       "      <td>0.0</td>\n",
       "      <td>0.713</td>\n",
       "      <td>6.376</td>\n",
       "      <td>88.4</td>\n",
       "      <td>2.5671</td>\n",
       "      <td>24.0</td>\n",
       "      <td>666.0</td>\n",
       "      <td>20.2</td>\n",
       "      <td>391.43</td>\n",
       "      <td>14.65</td>\n",
       "      <td>17.7</td>\n",
       "    </tr>\n",
       "  </tbody>\n",
       "</table>\n",
       "</div>"
      ],
      "text/plain": [
       "      CRIM    ZN  INDUS  CHAS    NOX     RM    AGE     DIS   RAD    TAX  \\\n",
       "0  1.23247   0.0   8.14   0.0  0.538  6.142   91.7  3.9769   4.0  307.0   \n",
       "1  0.02177  82.5   2.03   0.0  0.415  7.610   15.7  6.2700   2.0  348.0   \n",
       "2  4.89822   0.0  18.10   0.0  0.631  4.970  100.0  1.3325  24.0  666.0   \n",
       "3  0.03961   0.0   5.19   0.0  0.515  6.037   34.5  5.9853   5.0  224.0   \n",
       "4  3.69311   0.0  18.10   0.0  0.713  6.376   88.4  2.5671  24.0  666.0   \n",
       "\n",
       "   PTRATIO       B  LSTAT  MEDV  \n",
       "0     21.0  396.90  18.72  15.2  \n",
       "1     14.7  395.38   3.11  42.3  \n",
       "2     20.2  375.52   3.26  50.0  \n",
       "3     20.2  396.90   8.01  21.1  \n",
       "4     20.2  391.43  14.65  17.7  "
      ]
     },
     "execution_count": 20,
     "metadata": {},
     "output_type": "execute_result"
    }
   ],
   "source": [
    "df_train.head()"
   ]
  },
  {
   "cell_type": "code",
   "execution_count": 21,
   "metadata": {},
   "outputs": [],
   "source": [
    "percentages = ['CRIM', 'ZN', 'INDUS', 'AGE', 'PTRATIO', 'LSTAT']"
   ]
  },
  {
   "cell_type": "code",
   "execution_count": 22,
   "metadata": {},
   "outputs": [],
   "source": [
    "#normalizing data\n",
    "for col in percentages:\n",
    "    df_train[col] /=100\n",
    "    df_test[col] /=100\n",
    "    \n",
    "df_train['B'] /=1000\n",
    "df_train['TAX']/=10000\n",
    "df_test['B'] /=1000\n",
    "df_test['TAX']/=10000"
   ]
  },
  {
   "cell_type": "code",
   "execution_count": 23,
   "metadata": {},
   "outputs": [],
   "source": [
    "x_train, y_train = df_train.values[:, :13], df_train.values[:, 13]\n",
    "x_test, y_test = df_test.values[:, :13], df_test.values[:, 13]"
   ]
  },
  {
   "cell_type": "code",
   "execution_count": 24,
   "metadata": {},
   "outputs": [
    {
     "data": {
      "text/html": [
       "<div>\n",
       "<style scoped>\n",
       "    .dataframe tbody tr th:only-of-type {\n",
       "        vertical-align: middle;\n",
       "    }\n",
       "\n",
       "    .dataframe tbody tr th {\n",
       "        vertical-align: top;\n",
       "    }\n",
       "\n",
       "    .dataframe thead th {\n",
       "        text-align: right;\n",
       "    }\n",
       "</style>\n",
       "<table border=\"1\" class=\"dataframe\">\n",
       "  <thead>\n",
       "    <tr style=\"text-align: right;\">\n",
       "      <th></th>\n",
       "      <th>CRIM</th>\n",
       "      <th>ZN</th>\n",
       "      <th>INDUS</th>\n",
       "      <th>CHAS</th>\n",
       "      <th>NOX</th>\n",
       "      <th>RM</th>\n",
       "      <th>AGE</th>\n",
       "      <th>DIS</th>\n",
       "      <th>RAD</th>\n",
       "      <th>TAX</th>\n",
       "      <th>PTRATIO</th>\n",
       "      <th>B</th>\n",
       "      <th>LSTAT</th>\n",
       "      <th>MEDV</th>\n",
       "    </tr>\n",
       "  </thead>\n",
       "  <tbody>\n",
       "    <tr>\n",
       "      <th>count</th>\n",
       "      <td>404.000000</td>\n",
       "      <td>404.000000</td>\n",
       "      <td>404.000000</td>\n",
       "      <td>404.000000</td>\n",
       "      <td>404.000000</td>\n",
       "      <td>404.000000</td>\n",
       "      <td>404.000000</td>\n",
       "      <td>404.000000</td>\n",
       "      <td>404.000000</td>\n",
       "      <td>404.000000</td>\n",
       "      <td>404.000000</td>\n",
       "      <td>404.000000</td>\n",
       "      <td>404.000000</td>\n",
       "      <td>404.000000</td>\n",
       "    </tr>\n",
       "    <tr>\n",
       "      <th>mean</th>\n",
       "      <td>0.037451</td>\n",
       "      <td>0.114802</td>\n",
       "      <td>0.111044</td>\n",
       "      <td>0.061881</td>\n",
       "      <td>0.557356</td>\n",
       "      <td>6.267082</td>\n",
       "      <td>0.690106</td>\n",
       "      <td>3.740271</td>\n",
       "      <td>9.440594</td>\n",
       "      <td>0.040590</td>\n",
       "      <td>0.184760</td>\n",
       "      <td>0.354783</td>\n",
       "      <td>0.127408</td>\n",
       "      <td>22.395050</td>\n",
       "    </tr>\n",
       "    <tr>\n",
       "      <th>std</th>\n",
       "      <td>0.092407</td>\n",
       "      <td>0.237677</td>\n",
       "      <td>0.068113</td>\n",
       "      <td>0.241238</td>\n",
       "      <td>0.117293</td>\n",
       "      <td>0.709788</td>\n",
       "      <td>0.279407</td>\n",
       "      <td>2.030215</td>\n",
       "      <td>8.698360</td>\n",
       "      <td>0.016637</td>\n",
       "      <td>0.022004</td>\n",
       "      <td>0.094111</td>\n",
       "      <td>0.072545</td>\n",
       "      <td>9.210442</td>\n",
       "    </tr>\n",
       "    <tr>\n",
       "      <th>min</th>\n",
       "      <td>0.000063</td>\n",
       "      <td>0.000000</td>\n",
       "      <td>0.004600</td>\n",
       "      <td>0.000000</td>\n",
       "      <td>0.385000</td>\n",
       "      <td>3.561000</td>\n",
       "      <td>0.029000</td>\n",
       "      <td>1.129600</td>\n",
       "      <td>1.000000</td>\n",
       "      <td>0.018800</td>\n",
       "      <td>0.126000</td>\n",
       "      <td>0.000320</td>\n",
       "      <td>0.017300</td>\n",
       "      <td>5.000000</td>\n",
       "    </tr>\n",
       "    <tr>\n",
       "      <th>25%</th>\n",
       "      <td>0.000814</td>\n",
       "      <td>0.000000</td>\n",
       "      <td>0.051300</td>\n",
       "      <td>0.000000</td>\n",
       "      <td>0.453000</td>\n",
       "      <td>5.874750</td>\n",
       "      <td>0.454750</td>\n",
       "      <td>2.077100</td>\n",
       "      <td>4.000000</td>\n",
       "      <td>0.027900</td>\n",
       "      <td>0.172250</td>\n",
       "      <td>0.374673</td>\n",
       "      <td>0.068900</td>\n",
       "      <td>16.675000</td>\n",
       "    </tr>\n",
       "    <tr>\n",
       "      <th>50%</th>\n",
       "      <td>0.002689</td>\n",
       "      <td>0.000000</td>\n",
       "      <td>0.096900</td>\n",
       "      <td>0.000000</td>\n",
       "      <td>0.538000</td>\n",
       "      <td>6.198500</td>\n",
       "      <td>0.785000</td>\n",
       "      <td>3.142300</td>\n",
       "      <td>5.000000</td>\n",
       "      <td>0.033000</td>\n",
       "      <td>0.191000</td>\n",
       "      <td>0.391250</td>\n",
       "      <td>0.113950</td>\n",
       "      <td>20.750000</td>\n",
       "    </tr>\n",
       "    <tr>\n",
       "      <th>75%</th>\n",
       "      <td>0.036748</td>\n",
       "      <td>0.125000</td>\n",
       "      <td>0.181000</td>\n",
       "      <td>0.000000</td>\n",
       "      <td>0.631000</td>\n",
       "      <td>6.609000</td>\n",
       "      <td>0.941000</td>\n",
       "      <td>5.118000</td>\n",
       "      <td>24.000000</td>\n",
       "      <td>0.066600</td>\n",
       "      <td>0.202000</td>\n",
       "      <td>0.396157</td>\n",
       "      <td>0.170925</td>\n",
       "      <td>24.800000</td>\n",
       "    </tr>\n",
       "    <tr>\n",
       "      <th>max</th>\n",
       "      <td>0.889762</td>\n",
       "      <td>1.000000</td>\n",
       "      <td>0.277400</td>\n",
       "      <td>1.000000</td>\n",
       "      <td>0.871000</td>\n",
       "      <td>8.725000</td>\n",
       "      <td>1.000000</td>\n",
       "      <td>10.710300</td>\n",
       "      <td>24.000000</td>\n",
       "      <td>0.071100</td>\n",
       "      <td>0.220000</td>\n",
       "      <td>0.396900</td>\n",
       "      <td>0.379700</td>\n",
       "      <td>50.000000</td>\n",
       "    </tr>\n",
       "  </tbody>\n",
       "</table>\n",
       "</div>"
      ],
      "text/plain": [
       "             CRIM          ZN       INDUS        CHAS         NOX          RM  \\\n",
       "count  404.000000  404.000000  404.000000  404.000000  404.000000  404.000000   \n",
       "mean     0.037451    0.114802    0.111044    0.061881    0.557356    6.267082   \n",
       "std      0.092407    0.237677    0.068113    0.241238    0.117293    0.709788   \n",
       "min      0.000063    0.000000    0.004600    0.000000    0.385000    3.561000   \n",
       "25%      0.000814    0.000000    0.051300    0.000000    0.453000    5.874750   \n",
       "50%      0.002689    0.000000    0.096900    0.000000    0.538000    6.198500   \n",
       "75%      0.036748    0.125000    0.181000    0.000000    0.631000    6.609000   \n",
       "max      0.889762    1.000000    0.277400    1.000000    0.871000    8.725000   \n",
       "\n",
       "              AGE         DIS         RAD         TAX     PTRATIO           B  \\\n",
       "count  404.000000  404.000000  404.000000  404.000000  404.000000  404.000000   \n",
       "mean     0.690106    3.740271    9.440594    0.040590    0.184760    0.354783   \n",
       "std      0.279407    2.030215    8.698360    0.016637    0.022004    0.094111   \n",
       "min      0.029000    1.129600    1.000000    0.018800    0.126000    0.000320   \n",
       "25%      0.454750    2.077100    4.000000    0.027900    0.172250    0.374673   \n",
       "50%      0.785000    3.142300    5.000000    0.033000    0.191000    0.391250   \n",
       "75%      0.941000    5.118000   24.000000    0.066600    0.202000    0.396157   \n",
       "max      1.000000   10.710300   24.000000    0.071100    0.220000    0.396900   \n",
       "\n",
       "            LSTAT        MEDV  \n",
       "count  404.000000  404.000000  \n",
       "mean     0.127408   22.395050  \n",
       "std      0.072545    9.210442  \n",
       "min      0.017300    5.000000  \n",
       "25%      0.068900   16.675000  \n",
       "50%      0.113950   20.750000  \n",
       "75%      0.170925   24.800000  \n",
       "max      0.379700   50.000000  "
      ]
     },
     "execution_count": 24,
     "metadata": {},
     "output_type": "execute_result"
    }
   ],
   "source": [
    "df_train.describe()"
   ]
  },
  {
   "cell_type": "code",
   "execution_count": 25,
   "metadata": {},
   "outputs": [
    {
     "data": {
      "text/html": [
       "<div>\n",
       "<style scoped>\n",
       "    .dataframe tbody tr th:only-of-type {\n",
       "        vertical-align: middle;\n",
       "    }\n",
       "\n",
       "    .dataframe tbody tr th {\n",
       "        vertical-align: top;\n",
       "    }\n",
       "\n",
       "    .dataframe thead th {\n",
       "        text-align: right;\n",
       "    }\n",
       "</style>\n",
       "<table border=\"1\" class=\"dataframe\">\n",
       "  <thead>\n",
       "    <tr style=\"text-align: right;\">\n",
       "      <th></th>\n",
       "      <th>0</th>\n",
       "      <th>1</th>\n",
       "      <th>2</th>\n",
       "      <th>3</th>\n",
       "      <th>4</th>\n",
       "      <th>5</th>\n",
       "      <th>6</th>\n",
       "      <th>7</th>\n",
       "      <th>8</th>\n",
       "      <th>9</th>\n",
       "      <th>10</th>\n",
       "      <th>11</th>\n",
       "      <th>12</th>\n",
       "    </tr>\n",
       "  </thead>\n",
       "  <tbody>\n",
       "    <tr>\n",
       "      <th>0</th>\n",
       "      <td>0.012325</td>\n",
       "      <td>0.000</td>\n",
       "      <td>0.0814</td>\n",
       "      <td>0.0</td>\n",
       "      <td>0.5380</td>\n",
       "      <td>6.142</td>\n",
       "      <td>0.917</td>\n",
       "      <td>3.9769</td>\n",
       "      <td>4.0</td>\n",
       "      <td>0.0307</td>\n",
       "      <td>0.210</td>\n",
       "      <td>0.39690</td>\n",
       "      <td>0.1872</td>\n",
       "    </tr>\n",
       "    <tr>\n",
       "      <th>1</th>\n",
       "      <td>0.000218</td>\n",
       "      <td>0.825</td>\n",
       "      <td>0.0203</td>\n",
       "      <td>0.0</td>\n",
       "      <td>0.4150</td>\n",
       "      <td>7.610</td>\n",
       "      <td>0.157</td>\n",
       "      <td>6.2700</td>\n",
       "      <td>2.0</td>\n",
       "      <td>0.0348</td>\n",
       "      <td>0.147</td>\n",
       "      <td>0.39538</td>\n",
       "      <td>0.0311</td>\n",
       "    </tr>\n",
       "    <tr>\n",
       "      <th>2</th>\n",
       "      <td>0.048982</td>\n",
       "      <td>0.000</td>\n",
       "      <td>0.1810</td>\n",
       "      <td>0.0</td>\n",
       "      <td>0.6310</td>\n",
       "      <td>4.970</td>\n",
       "      <td>1.000</td>\n",
       "      <td>1.3325</td>\n",
       "      <td>24.0</td>\n",
       "      <td>0.0666</td>\n",
       "      <td>0.202</td>\n",
       "      <td>0.37552</td>\n",
       "      <td>0.0326</td>\n",
       "    </tr>\n",
       "    <tr>\n",
       "      <th>3</th>\n",
       "      <td>0.000396</td>\n",
       "      <td>0.000</td>\n",
       "      <td>0.0519</td>\n",
       "      <td>0.0</td>\n",
       "      <td>0.5150</td>\n",
       "      <td>6.037</td>\n",
       "      <td>0.345</td>\n",
       "      <td>5.9853</td>\n",
       "      <td>5.0</td>\n",
       "      <td>0.0224</td>\n",
       "      <td>0.202</td>\n",
       "      <td>0.39690</td>\n",
       "      <td>0.0801</td>\n",
       "    </tr>\n",
       "    <tr>\n",
       "      <th>4</th>\n",
       "      <td>0.036931</td>\n",
       "      <td>0.000</td>\n",
       "      <td>0.1810</td>\n",
       "      <td>0.0</td>\n",
       "      <td>0.7130</td>\n",
       "      <td>6.376</td>\n",
       "      <td>0.884</td>\n",
       "      <td>2.5671</td>\n",
       "      <td>24.0</td>\n",
       "      <td>0.0666</td>\n",
       "      <td>0.202</td>\n",
       "      <td>0.39143</td>\n",
       "      <td>0.1465</td>\n",
       "    </tr>\n",
       "    <tr>\n",
       "      <th>...</th>\n",
       "      <td>...</td>\n",
       "      <td>...</td>\n",
       "      <td>...</td>\n",
       "      <td>...</td>\n",
       "      <td>...</td>\n",
       "      <td>...</td>\n",
       "      <td>...</td>\n",
       "      <td>...</td>\n",
       "      <td>...</td>\n",
       "      <td>...</td>\n",
       "      <td>...</td>\n",
       "      <td>...</td>\n",
       "      <td>...</td>\n",
       "    </tr>\n",
       "    <tr>\n",
       "      <th>399</th>\n",
       "      <td>0.002198</td>\n",
       "      <td>0.000</td>\n",
       "      <td>0.0691</td>\n",
       "      <td>0.0</td>\n",
       "      <td>0.4480</td>\n",
       "      <td>5.602</td>\n",
       "      <td>0.620</td>\n",
       "      <td>6.0877</td>\n",
       "      <td>3.0</td>\n",
       "      <td>0.0233</td>\n",
       "      <td>0.179</td>\n",
       "      <td>0.39690</td>\n",
       "      <td>0.1620</td>\n",
       "    </tr>\n",
       "    <tr>\n",
       "      <th>400</th>\n",
       "      <td>0.001621</td>\n",
       "      <td>0.200</td>\n",
       "      <td>0.0696</td>\n",
       "      <td>0.0</td>\n",
       "      <td>0.4640</td>\n",
       "      <td>6.240</td>\n",
       "      <td>0.163</td>\n",
       "      <td>4.4290</td>\n",
       "      <td>3.0</td>\n",
       "      <td>0.0223</td>\n",
       "      <td>0.186</td>\n",
       "      <td>0.39690</td>\n",
       "      <td>0.0659</td>\n",
       "    </tr>\n",
       "    <tr>\n",
       "      <th>401</th>\n",
       "      <td>0.000347</td>\n",
       "      <td>0.350</td>\n",
       "      <td>0.0606</td>\n",
       "      <td>0.0</td>\n",
       "      <td>0.4379</td>\n",
       "      <td>6.031</td>\n",
       "      <td>0.233</td>\n",
       "      <td>6.6407</td>\n",
       "      <td>1.0</td>\n",
       "      <td>0.0304</td>\n",
       "      <td>0.169</td>\n",
       "      <td>0.36225</td>\n",
       "      <td>0.0783</td>\n",
       "    </tr>\n",
       "    <tr>\n",
       "      <th>402</th>\n",
       "      <td>0.021492</td>\n",
       "      <td>0.000</td>\n",
       "      <td>0.1958</td>\n",
       "      <td>0.0</td>\n",
       "      <td>0.8710</td>\n",
       "      <td>5.709</td>\n",
       "      <td>0.985</td>\n",
       "      <td>1.6232</td>\n",
       "      <td>5.0</td>\n",
       "      <td>0.0403</td>\n",
       "      <td>0.147</td>\n",
       "      <td>0.26195</td>\n",
       "      <td>0.1579</td>\n",
       "    </tr>\n",
       "    <tr>\n",
       "      <th>403</th>\n",
       "      <td>0.000144</td>\n",
       "      <td>0.600</td>\n",
       "      <td>0.0293</td>\n",
       "      <td>0.0</td>\n",
       "      <td>0.4010</td>\n",
       "      <td>6.604</td>\n",
       "      <td>0.188</td>\n",
       "      <td>6.2196</td>\n",
       "      <td>1.0</td>\n",
       "      <td>0.0265</td>\n",
       "      <td>0.156</td>\n",
       "      <td>0.37670</td>\n",
       "      <td>0.0438</td>\n",
       "    </tr>\n",
       "  </tbody>\n",
       "</table>\n",
       "<p>404 rows × 13 columns</p>\n",
       "</div>"
      ],
      "text/plain": [
       "           0      1       2    3       4      5      6       7     8       9   \\\n",
       "0    0.012325  0.000  0.0814  0.0  0.5380  6.142  0.917  3.9769   4.0  0.0307   \n",
       "1    0.000218  0.825  0.0203  0.0  0.4150  7.610  0.157  6.2700   2.0  0.0348   \n",
       "2    0.048982  0.000  0.1810  0.0  0.6310  4.970  1.000  1.3325  24.0  0.0666   \n",
       "3    0.000396  0.000  0.0519  0.0  0.5150  6.037  0.345  5.9853   5.0  0.0224   \n",
       "4    0.036931  0.000  0.1810  0.0  0.7130  6.376  0.884  2.5671  24.0  0.0666   \n",
       "..        ...    ...     ...  ...     ...    ...    ...     ...   ...     ...   \n",
       "399  0.002198  0.000  0.0691  0.0  0.4480  5.602  0.620  6.0877   3.0  0.0233   \n",
       "400  0.001621  0.200  0.0696  0.0  0.4640  6.240  0.163  4.4290   3.0  0.0223   \n",
       "401  0.000347  0.350  0.0606  0.0  0.4379  6.031  0.233  6.6407   1.0  0.0304   \n",
       "402  0.021492  0.000  0.1958  0.0  0.8710  5.709  0.985  1.6232   5.0  0.0403   \n",
       "403  0.000144  0.600  0.0293  0.0  0.4010  6.604  0.188  6.2196   1.0  0.0265   \n",
       "\n",
       "        10       11      12  \n",
       "0    0.210  0.39690  0.1872  \n",
       "1    0.147  0.39538  0.0311  \n",
       "2    0.202  0.37552  0.0326  \n",
       "3    0.202  0.39690  0.0801  \n",
       "4    0.202  0.39143  0.1465  \n",
       "..     ...      ...     ...  \n",
       "399  0.179  0.39690  0.1620  \n",
       "400  0.186  0.39690  0.0659  \n",
       "401  0.169  0.36225  0.0783  \n",
       "402  0.147  0.26195  0.1579  \n",
       "403  0.156  0.37670  0.0438  \n",
       "\n",
       "[404 rows x 13 columns]"
      ]
     },
     "execution_count": 25,
     "metadata": {},
     "output_type": "execute_result"
    }
   ],
   "source": [
    "pd.DataFrame(x_train)"
   ]
  },
  {
   "cell_type": "markdown",
   "metadata": {},
   "source": [
    "print(np.max(x_train, axis=1))"
   ]
  },
  {
   "cell_type": "code",
   "execution_count": null,
   "metadata": {},
   "outputs": [],
   "source": []
  },
  {
   "cell_type": "markdown",
   "metadata": {},
   "source": [
    "sns.pairplot(df_train)"
   ]
  },
  {
   "cell_type": "code",
   "execution_count": null,
   "metadata": {},
   "outputs": [],
   "source": []
  },
  {
   "cell_type": "code",
   "execution_count": 26,
   "metadata": {},
   "outputs": [],
   "source": [
    "from keras.models import Sequential\n",
    "from keras.layers import Dense, Dropout, Activation"
   ]
  },
  {
   "cell_type": "code",
   "execution_count": 58,
   "metadata": {},
   "outputs": [],
   "source": [
    "from keras import models\n",
    "from keras import layers\n",
    "\n",
    "def create_model_01():\n",
    "    model = models.Sequential()\n",
    "    model.add(layers.Dense(64, activation='relu'))\n",
    "    model.add(layers.Dense(1))\n",
    "    model.compile(optimizer='rmsprop', loss='mse', metrics=['mae'])\n",
    "    return model"
   ]
  },
  {
   "cell_type": "code",
   "execution_count": 78,
   "metadata": {},
   "outputs": [],
   "source": [
    "from keras.optimizers import Adam # Optimizer\n",
    "\n",
    "def create_model_02():\n",
    "    # create model\n",
    "    model = Sequential()\n",
    "    model.add(Dense(320, input_dim=x_train.shape[1], activation='relu'))\n",
    "    model.add(Dense(384, activation='relu'))\n",
    "    model.add(Dense(352, activation='relu'))\n",
    "    model.add(Dense(448, activation='relu'))\n",
    "    model.add(Dense(160, activation='relu'))\n",
    "    model.add(Dense(160, activation='relu'))\n",
    "    model.add(Dense(32, activation='relu'))\n",
    "    model.add(Dense(1))\n",
    "    # Compile model\n",
    "    model.compile(optimizer=Adam(learning_rate=0.0001), loss = 'mape', metrics=['mae']) #'mse')\n",
    "    return model"
   ]
  },
  {
   "cell_type": "markdown",
   "metadata": {},
   "source": [
    "model = Sequential()\n",
    "\n",
    "model.add(Dense(16, activation='sigmoid', input_shape=(13,)))\n",
    "model.add(Dense(1, activation='linear'))"
   ]
  },
  {
   "cell_type": "markdown",
   "metadata": {},
   "source": [
    "model = Sequential([\n",
    "    Dense(250, input_shape=(13,)),\n",
    "    Activation('sigmoid'),\n",
    "    Dense(10),\n",
    "    Activation('linear'),\n",
    "    Activation('softmax'),\n",
    "    Dense(1)\n",
    "])\n"
   ]
  },
  {
   "cell_type": "code",
   "execution_count": 79,
   "metadata": {},
   "outputs": [
    {
     "name": "stdout",
     "output_type": "stream",
     "text": [
      "Model: \"sequential_15\"\n",
      "_________________________________________________________________\n",
      "Layer (type)                 Output Shape              Param #   \n",
      "=================================================================\n",
      "dense_71 (Dense)             (None, 320)               4480      \n",
      "_________________________________________________________________\n",
      "dense_72 (Dense)             (None, 384)               123264    \n",
      "_________________________________________________________________\n",
      "dense_73 (Dense)             (None, 352)               135520    \n",
      "_________________________________________________________________\n",
      "dense_74 (Dense)             (None, 448)               158144    \n",
      "_________________________________________________________________\n",
      "dense_75 (Dense)             (None, 160)               71840     \n",
      "_________________________________________________________________\n",
      "dense_76 (Dense)             (None, 160)               25760     \n",
      "_________________________________________________________________\n",
      "dense_77 (Dense)             (None, 32)                5152      \n",
      "_________________________________________________________________\n",
      "dense_78 (Dense)             (None, 1)                 33        \n",
      "=================================================================\n",
      "Total params: 524,193\n",
      "Trainable params: 524,193\n",
      "Non-trainable params: 0\n",
      "_________________________________________________________________\n"
     ]
    }
   ],
   "source": [
    "model.summary()"
   ]
  },
  {
   "cell_type": "markdown",
   "metadata": {},
   "source": [
    "model.compile(optimizer='sgd', loss='mse', metrics=['mape']) \n",
    "#sgd - stochastic gradient descent\n",
    "#mse - mean square error\n",
    "#mape - mean absolute percentage error"
   ]
  },
  {
   "cell_type": "code",
   "execution_count": 80,
   "metadata": {},
   "outputs": [],
   "source": [
    "from sklearn.model_selection import train_test_split\n",
    "\n",
    "x_train, x_valid, y_train, y_valid = train_test_split(x_train, y_train, test_size=.2)"
   ]
  },
  {
   "cell_type": "code",
   "execution_count": 81,
   "metadata": {},
   "outputs": [
    {
     "data": {
      "text/plain": [
       "((206, 13), (52, 13))"
      ]
     },
     "execution_count": 81,
     "metadata": {},
     "output_type": "execute_result"
    }
   ],
   "source": [
    "x_train.shape, x_valid.shape"
   ]
  },
  {
   "cell_type": "code",
   "execution_count": 82,
   "metadata": {},
   "outputs": [
    {
     "data": {
      "text/plain": [
       "{'val_loss': [50.096297748272235,\n",
       "  22.54393894488995,\n",
       "  22.902613185002252,\n",
       "  20.89814728956956,\n",
       "  21.606437771136942,\n",
       "  20.636997839120717,\n",
       "  20.59307001554049,\n",
       "  20.789905958909255,\n",
       "  20.057411487285908,\n",
       "  20.132221603393553],\n",
       " 'loss': [83.04870706011158,\n",
       "  29.375683658806853,\n",
       "  22.63779187017633,\n",
       "  21.46763620450515,\n",
       "  21.440311343170876,\n",
       "  20.914296652919564,\n",
       "  20.463083777316783,\n",
       "  20.983433509057807,\n",
       "  20.853557231814364,\n",
       "  19.997259273085483]}"
      ]
     },
     "execution_count": 82,
     "metadata": {},
     "output_type": "execute_result"
    }
   ],
   "source": [
    "history.history"
   ]
  },
  {
   "cell_type": "code",
   "execution_count": 96,
   "metadata": {},
   "outputs": [
    {
     "name": "stdout",
     "output_type": "stream",
     "text": [
      "Train on 206 samples, validate on 52 samples\n",
      "Epoch 1/10\n",
      "206/206 [==============================] - 1s 3ms/step - loss: 76.4545 - mae: 16.7669 - val_loss: 56.3524 - val_mae: 14.6436\n",
      "Epoch 2/10\n",
      "206/206 [==============================] - 0s 1ms/step - loss: 31.3083 - mae: 6.9593 - val_loss: 26.1202 - val_mae: 6.9509\n",
      "Epoch 3/10\n",
      "206/206 [==============================] - 0s 1ms/step - loss: 22.6064 - mae: 5.0230 - val_loss: 25.1378 - val_mae: 6.7277\n",
      "Epoch 4/10\n",
      "206/206 [==============================] - 0s 1ms/step - loss: 22.7387 - mae: 4.9788 - val_loss: 24.3397 - val_mae: 6.3303\n",
      "Epoch 5/10\n",
      "206/206 [==============================] - 0s 1ms/step - loss: 21.1362 - mae: 4.7069 - val_loss: 23.9369 - val_mae: 6.3769\n",
      "Epoch 6/10\n",
      "206/206 [==============================] - 0s 1ms/step - loss: 20.7274 - mae: 4.6391 - val_loss: 25.2483 - val_mae: 7.0309\n",
      "Epoch 7/10\n",
      "206/206 [==============================] - 0s 1ms/step - loss: 20.4778 - mae: 4.6187 - val_loss: 23.3520 - val_mae: 6.2547\n",
      "Epoch 8/10\n",
      "206/206 [==============================] - 0s 1ms/step - loss: 19.7797 - mae: 4.4082 - val_loss: 24.5586 - val_mae: 6.8219\n",
      "Epoch 9/10\n",
      "206/206 [==============================] - 0s 1ms/step - loss: 19.3398 - mae: 4.3148 - val_loss: 22.5978 - val_mae: 5.9047\n",
      "Epoch 10/10\n",
      "206/206 [==============================] - 0s 1ms/step - loss: 19.4063 - mae: 4.3542 - val_loss: 23.0468 - val_mae: 6.1549\n",
      "Train on 206 samples, validate on 52 samples\n",
      "Epoch 1/10\n",
      "206/206 [==============================] - 1s 3ms/step - loss: 78.2686 - mae: 17.2427 - val_loss: 59.3870 - val_mae: 14.0740\n",
      "Epoch 2/10\n",
      "206/206 [==============================] - 0s 1ms/step - loss: 38.0955 - mae: 8.0578 - val_loss: 25.8817 - val_mae: 6.6749\n",
      "Epoch 3/10\n",
      "206/206 [==============================] - 0s 1ms/step - loss: 23.7596 - mae: 5.1742 - val_loss: 26.9973 - val_mae: 7.4460\n",
      "Epoch 4/10\n",
      "206/206 [==============================] - 0s 1ms/step - loss: 21.7351 - mae: 4.8641 - val_loss: 24.7063 - val_mae: 6.6843\n",
      "Epoch 5/10\n",
      "206/206 [==============================] - 0s 1ms/step - loss: 21.1704 - mae: 4.7706 - val_loss: 24.6523 - val_mae: 6.5350\n",
      "Epoch 6/10\n",
      "206/206 [==============================] - 0s 1ms/step - loss: 21.0614 - mae: 4.6594 - val_loss: 24.4104 - val_mae: 5.8605\n",
      "Epoch 7/10\n",
      "206/206 [==============================] - 0s 1ms/step - loss: 20.0255 - mae: 4.5155 - val_loss: 24.0633 - val_mae: 6.5126\n",
      "Epoch 8/10\n",
      "206/206 [==============================] - 0s 1ms/step - loss: 19.4823 - mae: 4.4489 - val_loss: 23.0134 - val_mae: 6.1503\n",
      "Epoch 9/10\n",
      "206/206 [==============================] - 0s 1ms/step - loss: 19.0607 - mae: 4.3076 - val_loss: 24.7700 - val_mae: 6.9813\n",
      "Epoch 10/10\n",
      "206/206 [==============================] - 0s 1ms/step - loss: 19.8369 - mae: 4.5293 - val_loss: 22.7128 - val_mae: 5.5678\n"
     ]
    }
   ],
   "source": [
    "for i in  range(2):\n",
    "    \n",
    "    model = create_model_02()\n",
    "\n",
    "    history = model.fit(x_train, y_train, batch_size=4, epochs=10, validation_data=(x_valid, y_valid))\n",
    "\n",
    "    all_scores = []\n",
    "    all_mae_histories = []\n",
    "\n",
    "    mae_history = history.history['val_loss']\n",
    "    all_mae_histories.append(mae_history)\n",
    "    \n",
    "    val_mse, val_mae = model.evaluate(x_valid, y_valid, verbose=0)\n",
    "    all_scores.append(val_mae)"
   ]
  },
  {
   "cell_type": "code",
   "execution_count": null,
   "metadata": {
    "scrolled": true
   },
   "outputs": [],
   "source": []
  },
  {
   "cell_type": "code",
   "execution_count": 97,
   "metadata": {},
   "outputs": [
    {
     "data": {
      "text/plain": [
       "[5.567775249481201]"
      ]
     },
     "execution_count": 97,
     "metadata": {},
     "output_type": "execute_result"
    }
   ],
   "source": [
    "all_scores"
   ]
  },
  {
   "cell_type": "code",
   "execution_count": 98,
   "metadata": {},
   "outputs": [
    {
     "ename": "IndexError",
     "evalue": "list index out of range",
     "output_type": "error",
     "traceback": [
      "\u001b[0;31m---------------------------------------------------------------------------\u001b[0m",
      "\u001b[0;31mIndexError\u001b[0m                                Traceback (most recent call last)",
      "\u001b[0;32m/var/folders/l6/22wjv97x2yq_lzg77lp74ml40000gn/T/ipykernel_8822/137023581.py\u001b[0m in \u001b[0;36m<module>\u001b[0;34m\u001b[0m\n\u001b[1;32m      1\u001b[0m \u001b[0mnum_epochs\u001b[0m \u001b[0;34m=\u001b[0m \u001b[0;36m100\u001b[0m\u001b[0;34m\u001b[0m\u001b[0;34m\u001b[0m\u001b[0m\n\u001b[1;32m      2\u001b[0m \u001b[0;34m\u001b[0m\u001b[0m\n\u001b[0;32m----> 3\u001b[0;31m \u001b[0maverage_mae_history\u001b[0m \u001b[0;34m=\u001b[0m \u001b[0;34m[\u001b[0m\u001b[0mnp\u001b[0m\u001b[0;34m.\u001b[0m\u001b[0mmean\u001b[0m\u001b[0;34m(\u001b[0m\u001b[0;34m[\u001b[0m\u001b[0mx\u001b[0m\u001b[0;34m[\u001b[0m\u001b[0mi\u001b[0m\u001b[0;34m]\u001b[0m \u001b[0;32mfor\u001b[0m \u001b[0mx\u001b[0m \u001b[0;32min\u001b[0m \u001b[0mall_mae_histories\u001b[0m\u001b[0;34m]\u001b[0m\u001b[0;34m)\u001b[0m \u001b[0;32mfor\u001b[0m \u001b[0mi\u001b[0m \u001b[0;32min\u001b[0m \u001b[0mrange\u001b[0m\u001b[0;34m(\u001b[0m\u001b[0mnum_epochs\u001b[0m\u001b[0;34m)\u001b[0m\u001b[0;34m]\u001b[0m\u001b[0;34m\u001b[0m\u001b[0;34m\u001b[0m\u001b[0m\n\u001b[0m\u001b[1;32m      4\u001b[0m \u001b[0;34m\u001b[0m\u001b[0m\n\u001b[1;32m      5\u001b[0m \u001b[0;32mimport\u001b[0m \u001b[0mmatplotlib\u001b[0m\u001b[0;34m.\u001b[0m\u001b[0mpyplot\u001b[0m \u001b[0;32mas\u001b[0m \u001b[0mplt\u001b[0m\u001b[0;34m\u001b[0m\u001b[0;34m\u001b[0m\u001b[0m\n",
      "\u001b[0;32m/var/folders/l6/22wjv97x2yq_lzg77lp74ml40000gn/T/ipykernel_8822/137023581.py\u001b[0m in \u001b[0;36m<listcomp>\u001b[0;34m(.0)\u001b[0m\n\u001b[1;32m      1\u001b[0m \u001b[0mnum_epochs\u001b[0m \u001b[0;34m=\u001b[0m \u001b[0;36m100\u001b[0m\u001b[0;34m\u001b[0m\u001b[0;34m\u001b[0m\u001b[0m\n\u001b[1;32m      2\u001b[0m \u001b[0;34m\u001b[0m\u001b[0m\n\u001b[0;32m----> 3\u001b[0;31m \u001b[0maverage_mae_history\u001b[0m \u001b[0;34m=\u001b[0m \u001b[0;34m[\u001b[0m\u001b[0mnp\u001b[0m\u001b[0;34m.\u001b[0m\u001b[0mmean\u001b[0m\u001b[0;34m(\u001b[0m\u001b[0;34m[\u001b[0m\u001b[0mx\u001b[0m\u001b[0;34m[\u001b[0m\u001b[0mi\u001b[0m\u001b[0;34m]\u001b[0m \u001b[0;32mfor\u001b[0m \u001b[0mx\u001b[0m \u001b[0;32min\u001b[0m \u001b[0mall_mae_histories\u001b[0m\u001b[0;34m]\u001b[0m\u001b[0;34m)\u001b[0m \u001b[0;32mfor\u001b[0m \u001b[0mi\u001b[0m \u001b[0;32min\u001b[0m \u001b[0mrange\u001b[0m\u001b[0;34m(\u001b[0m\u001b[0mnum_epochs\u001b[0m\u001b[0;34m)\u001b[0m\u001b[0;34m]\u001b[0m\u001b[0;34m\u001b[0m\u001b[0;34m\u001b[0m\u001b[0m\n\u001b[0m\u001b[1;32m      4\u001b[0m \u001b[0;34m\u001b[0m\u001b[0m\n\u001b[1;32m      5\u001b[0m \u001b[0;32mimport\u001b[0m \u001b[0mmatplotlib\u001b[0m\u001b[0;34m.\u001b[0m\u001b[0mpyplot\u001b[0m \u001b[0;32mas\u001b[0m \u001b[0mplt\u001b[0m\u001b[0;34m\u001b[0m\u001b[0;34m\u001b[0m\u001b[0m\n",
      "\u001b[0;32m/var/folders/l6/22wjv97x2yq_lzg77lp74ml40000gn/T/ipykernel_8822/137023581.py\u001b[0m in \u001b[0;36m<listcomp>\u001b[0;34m(.0)\u001b[0m\n\u001b[1;32m      1\u001b[0m \u001b[0mnum_epochs\u001b[0m \u001b[0;34m=\u001b[0m \u001b[0;36m100\u001b[0m\u001b[0;34m\u001b[0m\u001b[0;34m\u001b[0m\u001b[0m\n\u001b[1;32m      2\u001b[0m \u001b[0;34m\u001b[0m\u001b[0m\n\u001b[0;32m----> 3\u001b[0;31m \u001b[0maverage_mae_history\u001b[0m \u001b[0;34m=\u001b[0m \u001b[0;34m[\u001b[0m\u001b[0mnp\u001b[0m\u001b[0;34m.\u001b[0m\u001b[0mmean\u001b[0m\u001b[0;34m(\u001b[0m\u001b[0;34m[\u001b[0m\u001b[0mx\u001b[0m\u001b[0;34m[\u001b[0m\u001b[0mi\u001b[0m\u001b[0;34m]\u001b[0m \u001b[0;32mfor\u001b[0m \u001b[0mx\u001b[0m \u001b[0;32min\u001b[0m \u001b[0mall_mae_histories\u001b[0m\u001b[0;34m]\u001b[0m\u001b[0;34m)\u001b[0m \u001b[0;32mfor\u001b[0m \u001b[0mi\u001b[0m \u001b[0;32min\u001b[0m \u001b[0mrange\u001b[0m\u001b[0;34m(\u001b[0m\u001b[0mnum_epochs\u001b[0m\u001b[0;34m)\u001b[0m\u001b[0;34m]\u001b[0m\u001b[0;34m\u001b[0m\u001b[0;34m\u001b[0m\u001b[0m\n\u001b[0m\u001b[1;32m      4\u001b[0m \u001b[0;34m\u001b[0m\u001b[0m\n\u001b[1;32m      5\u001b[0m \u001b[0;32mimport\u001b[0m \u001b[0mmatplotlib\u001b[0m\u001b[0;34m.\u001b[0m\u001b[0mpyplot\u001b[0m \u001b[0;32mas\u001b[0m \u001b[0mplt\u001b[0m\u001b[0;34m\u001b[0m\u001b[0;34m\u001b[0m\u001b[0m\n",
      "\u001b[0;31mIndexError\u001b[0m: list index out of range"
     ]
    }
   ],
   "source": [
    "num_epochs = 100\n",
    "\n",
    "average_mae_history = [np.mean([x[i] for x in all_mae_histories]) for i in range(num_epochs)]\n",
    "\n",
    "import matplotlib.pyplot as plt\n",
    "\n",
    "plt.figure(1)\n",
    "plt.plot(range(1, len(average_mae_history) + 1), average_mae_history, 'r', label='aver_mae')\n",
    "plt.title('MAE')\n",
    "plt.xlabel('Epochs')\n",
    "plt.ylabel('Validation MAE')\n",
    "plt.legend()\n",
    "plt.show()"
   ]
  },
  {
   "cell_type": "code",
   "execution_count": 99,
   "metadata": {},
   "outputs": [
    {
     "data": {
      "text/plain": [
       "(206, 13)"
      ]
     },
     "execution_count": 99,
     "metadata": {},
     "output_type": "execute_result"
    }
   ],
   "source": [
    "x_train.shape"
   ]
  },
  {
   "cell_type": "code",
   "execution_count": 100,
   "metadata": {},
   "outputs": [
    {
     "data": {
      "image/png": "[encoded data removed]",
      "text/plain": [
       "<Figure size 432x288 with 1 Axes>"
      ]
     },
     "metadata": {
      "needs_background": "light"
     },
     "output_type": "display_data"
    }
   ],
   "source": [
    "for name, value in history.history.items():\n",
    "    plt.plot(value, label=name)\n",
    "plt.legend()\n",
    "plt.show()"
   ]
  },
  {
   "cell_type": "markdown",
   "metadata": {},
   "source": [
    "## evaluate model"
   ]
  },
  {
   "cell_type": "code",
   "execution_count": 101,
   "metadata": {},
   "outputs": [
    {
     "name": "stdout",
     "output_type": "stream",
     "text": [
      "102/102 [==============================] - 0s 127us/step\n"
     ]
    }
   ],
   "source": [
    "results = model.evaluate(x_test, y_test)"
   ]
  },
  {
   "cell_type": "code",
   "execution_count": 102,
   "metadata": {},
   "outputs": [
    {
     "data": {
      "text/plain": [
       "[23.49246212080413, 4.866865158081055]"
      ]
     },
     "execution_count": 102,
     "metadata": {},
     "output_type": "execute_result"
    }
   ],
   "source": [
    "results"
   ]
  },
  {
   "cell_type": "markdown",
   "metadata": {},
   "source": [
    "print('Loss: {:.6f} - MAPE: {:.6f}'.format(*results))"
   ]
  },
  {
   "cell_type": "markdown",
   "metadata": {},
   "source": [
    "## list predicted value"
   ]
  },
  {
   "cell_type": "code",
   "execution_count": 103,
   "metadata": {},
   "outputs": [],
   "source": [
    "test_pred = model.predict(x_test)"
   ]
  },
  {
   "cell_type": "code",
   "execution_count": 104,
   "metadata": {},
   "outputs": [],
   "source": [
    "test_pred = np.squeeze(test_pred)"
   ]
  },
  {
   "cell_type": "code",
   "execution_count": 105,
   "metadata": {
    "scrolled": true
   },
   "outputs": [
    {
     "data": {
      "text/plain": [
       "array([14.379359, 20.088299, 22.127317, 21.7842  , 22.538857, 20.319332,\n",
       "       26.075571, 23.197596, 21.015917, 16.168524, 22.14148 , 22.164045,\n",
       "       20.962484, 27.78508 , 13.26045 , 23.879725, 24.04477 , 22.981161,\n",
       "       16.348715, 16.185411, 12.803484, 13.492634, 21.0234  , 22.27176 ,\n",
       "       21.683546, 16.477406, 24.049051, 26.502457, 14.543922, 22.119385,\n",
       "       21.37689 , 15.659403, 26.408072, 23.429602, 14.639257, 11.59304 ,\n",
       "       18.605907, 20.300955, 20.793585, 25.052574, 25.758028, 24.154152,\n",
       "       14.815077, 26.26791 , 23.399954, 22.34232 , 23.257572, 21.240664,\n",
       "       16.202724, 22.746271, 27.583054, 21.481   , 12.003208, 21.214573,\n",
       "       26.58446 , 24.51157 , 14.283593, 28.439829, 25.831179, 23.556492,\n",
       "       16.866734, 14.782963, 15.059291, 20.60818 , 23.39895 , 22.370491,\n",
       "       15.126621, 23.808842, 17.475615, 13.456051, 16.446781, 26.854052,\n",
       "       16.00131 , 18.542494, 23.950823, 22.33018 , 22.086674, 23.432222,\n",
       "       25.894518, 11.505389, 20.484047, 25.722528, 22.235872, 15.08964 ,\n",
       "       20.941824, 22.814512, 14.493127, 21.668043, 23.483889, 18.09028 ,\n",
       "       22.16996 , 23.085556, 25.645449, 31.056356, 24.951548, 20.531343,\n",
       "       24.903923, 21.633018, 23.107094, 27.060862, 23.877195, 20.897482],\n",
       "      dtype=float32)"
      ]
     },
     "execution_count": 105,
     "metadata": {},
     "output_type": "execute_result"
    }
   ],
   "source": [
    "test_pred"
   ]
  },
  {
   "cell_type": "markdown",
   "metadata": {},
   "source": [
    "## compare predicted value to true value"
   ]
  },
  {
   "cell_type": "code",
   "execution_count": 106,
   "metadata": {
    "scrolled": true
   },
   "outputs": [
    {
     "name": "stdout",
     "output_type": "stream",
     "text": [
      "Pred: 14.379359 - True: 7.200000\n",
      "Pred: 20.088299 - True: 18.800000\n",
      "Pred: 22.127317 - True: 19.000000\n",
      "Pred: 21.784201 - True: 27.000000\n",
      "Pred: 22.538857 - True: 22.200000\n",
      "Pred: 20.319332 - True: 24.500000\n",
      "Pred: 26.075571 - True: 31.200000\n",
      "Pred: 23.197596 - True: 22.900000\n",
      "Pred: 21.015917 - True: 20.500000\n",
      "Pred: 16.168524 - True: 23.200000\n",
      "Pred: 22.141479 - True: 18.600000\n",
      "Pred: 22.164045 - True: 14.500000\n",
      "Pred: 20.962484 - True: 17.800000\n",
      "Pred: 27.785080 - True: 50.000000\n",
      "Pred: 13.260450 - True: 20.800000\n",
      "Pred: 23.879725 - True: 24.300000\n",
      "Pred: 24.044769 - True: 24.200000\n",
      "Pred: 22.981161 - True: 19.800000\n",
      "Pred: 16.348715 - True: 19.100000\n",
      "Pred: 16.185411 - True: 22.700000\n",
      "Pred: 12.803484 - True: 12.000000\n",
      "Pred: 13.492634 - True: 10.200000\n",
      "Pred: 21.023399 - True: 20.000000\n",
      "Pred: 22.271761 - True: 18.500000\n",
      "Pred: 21.683546 - True: 20.900000\n",
      "Pred: 16.477406 - True: 23.000000\n",
      "Pred: 24.049051 - True: 27.500000\n",
      "Pred: 26.502457 - True: 30.100000\n",
      "Pred: 14.543922 - True: 9.500000\n",
      "Pred: 22.119385 - True: 22.000000\n",
      "Pred: 21.376890 - True: 21.200000\n",
      "Pred: 15.659403 - True: 14.100000\n",
      "Pred: 26.408072 - True: 33.100000\n",
      "Pred: 23.429602 - True: 23.400000\n",
      "Pred: 14.639257 - True: 20.100000\n",
      "Pred: 11.593040 - True: 7.400000\n",
      "Pred: 18.605907 - True: 15.400000\n",
      "Pred: 20.300955 - True: 23.800000\n",
      "Pred: 20.793585 - True: 20.100000\n",
      "Pred: 25.052574 - True: 24.500000\n",
      "Pred: 25.758028 - True: 33.000000\n",
      "Pred: 24.154152 - True: 28.400000\n",
      "Pred: 14.815077 - True: 14.100000\n",
      "Pred: 26.267910 - True: 46.700000\n",
      "Pred: 23.399954 - True: 32.500000\n",
      "Pred: 22.342319 - True: 29.600000\n",
      "Pred: 23.257572 - True: 28.400000\n",
      "Pred: 21.240664 - True: 19.800000\n",
      "Pred: 16.202724 - True: 20.200000\n",
      "Pred: 22.746271 - True: 25.000000\n",
      "Pred: 27.583054 - True: 35.400000\n",
      "Pred: 21.481001 - True: 20.300000\n",
      "Pred: 12.003208 - True: 9.700000\n",
      "Pred: 21.214573 - True: 14.500000\n",
      "Pred: 26.584459 - True: 34.900000\n",
      "Pred: 24.511570 - True: 26.600000\n",
      "Pred: 14.283593 - True: 7.200000\n",
      "Pred: 28.439829 - True: 50.000000\n",
      "Pred: 25.831179 - True: 32.400000\n",
      "Pred: 23.556492 - True: 21.600000\n",
      "Pred: 16.866734 - True: 29.800000\n",
      "Pred: 14.782963 - True: 13.100000\n",
      "Pred: 15.059291 - True: 27.500000\n",
      "Pred: 20.608179 - True: 21.200000\n",
      "Pred: 23.398951 - True: 23.100000\n",
      "Pred: 22.370491 - True: 21.900000\n",
      "Pred: 15.126621 - True: 13.000000\n",
      "Pred: 23.808842 - True: 23.200000\n",
      "Pred: 17.475615 - True: 8.100000\n",
      "Pred: 13.456051 - True: 5.600000\n",
      "Pred: 16.446781 - True: 21.700000\n",
      "Pred: 26.854052 - True: 29.600000\n",
      "Pred: 16.001310 - True: 19.600000\n",
      "Pred: 18.542494 - True: 7.000000\n",
      "Pred: 23.950823 - True: 26.400000\n",
      "Pred: 22.330179 - True: 18.900000\n",
      "Pred: 22.086674 - True: 20.900000\n",
      "Pred: 23.432222 - True: 28.100000\n",
      "Pred: 25.894518 - True: 35.400000\n",
      "Pred: 11.505389 - True: 10.200000\n",
      "Pred: 20.484047 - True: 24.300000\n",
      "Pred: 25.722528 - True: 43.100000\n",
      "Pred: 22.235872 - True: 17.600000\n",
      "Pred: 15.089640 - True: 15.400000\n",
      "Pred: 20.941824 - True: 16.200000\n",
      "Pred: 22.814512 - True: 27.100000\n",
      "Pred: 14.493127 - True: 21.400000\n",
      "Pred: 21.668043 - True: 21.500000\n",
      "Pred: 23.483889 - True: 22.400000\n",
      "Pred: 18.090281 - True: 25.000000\n",
      "Pred: 22.169960 - True: 16.600000\n",
      "Pred: 23.085556 - True: 18.600000\n",
      "Pred: 25.645449 - True: 22.000000\n",
      "Pred: 31.056356 - True: 42.800000\n",
      "Pred: 24.951548 - True: 35.100000\n",
      "Pred: 20.531343 - True: 21.500000\n",
      "Pred: 24.903923 - True: 36.000000\n",
      "Pred: 21.633018 - True: 21.900000\n",
      "Pred: 23.107094 - True: 24.100000\n",
      "Pred: 27.060862 - True: 50.000000\n",
      "Pred: 23.877195 - True: 26.700000\n",
      "Pred: 20.897482 - True: 25.000000\n"
     ]
    }
   ],
   "source": [
    "for pred, true in zip(test_pred, y_test):\n",
    "    print('Pred: {:.6f} - True: {:.6f}'.format(pred,true))"
   ]
  },
  {
   "cell_type": "markdown",
   "metadata": {},
   "source": [
    "## Save model"
   ]
  },
  {
   "cell_type": "markdown",
   "metadata": {},
   "source": [
    "model_path = 'model.h5'\n",
    "model.save(model_path)"
   ]
  },
  {
   "cell_type": "code",
   "execution_count": 107,
   "metadata": {},
   "outputs": [],
   "source": [
    "from keras.models import load_model"
   ]
  },
  {
   "cell_type": "markdown",
   "metadata": {},
   "source": [
    "loaded_model = load_model(model_path)"
   ]
  },
  {
   "cell_type": "markdown",
   "metadata": {},
   "source": [
    "loaded_model.summary()"
   ]
  },
  {
   "cell_type": "code",
   "execution_count": 108,
   "metadata": {},
   "outputs": [
    {
     "data": {
      "image/png": "[encoded data removed]",
      "text/plain": [
       "<Figure size 504x360 with 1 Axes>"
      ]
     },
     "metadata": {
      "needs_background": "light"
     },
     "output_type": "display_data"
    }
   ],
   "source": [
    "plt.figure(figsize=(7, 5))\n",
    "plt.plot(x_test, y_test, '.y', x_test, test_pred, '.b')\n",
    "plt.show()"
   ]
  },
  {
   "cell_type": "code",
   "execution_count": 109,
   "metadata": {},
   "outputs": [
    {
     "data": {
      "image/png": "[encoded data removed]",
      "text/plain": [
       "<Figure size 504x360 with 1 Axes>"
      ]
     },
     "metadata": {
      "needs_background": "light"
     },
     "output_type": "display_data"
    }
   ],
   "source": [
    "train_pred = model.predict(x_train)\n",
    "train_pred = np.squeeze(train_pred)\n",
    "\n",
    "plt.figure(figsize=(7, 5))\n",
    "plt.plot(x_train, y_train, '.r', x_train, train_pred, '.b')\n",
    "plt.show()"
   ]
  },
  {
   "cell_type": "code",
   "execution_count": null,
   "metadata": {},
   "outputs": [],
   "source": []
  },
  {
   "cell_type": "code",
   "execution_count": null,
   "metadata": {},
   "outputs": [],
   "source": []
  },
  {
   "cell_type": "code",
   "execution_count": null,
   "metadata": {},
   "outputs": [],
   "source": []
  }
 ],
 "metadata": {
  "kernelspec": {
   "display_name": "Python 3 (ipykernel)",
   "language": "python",
   "name": "python3"
  },
  "language_info": {
   "codemirror_mode": {
    "name": "ipython",
    "version": 3
   },
   "file_extension": ".py",
   "mimetype": "text/x-python",
   "name": "python",
   "nbconvert_exporter": "python",
   "pygments_lexer": "ipython3",
   "version": "3.7.11"
  }
 },
 "nbformat": 4,
 "nbformat_minor": 4
}
